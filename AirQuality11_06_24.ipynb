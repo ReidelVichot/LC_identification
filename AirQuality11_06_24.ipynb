{
  "nbformat": 4,
  "nbformat_minor": 0,
  "metadata": {
    "colab": {
      "provenance": [],
      "authorship_tag": "ABX9TyNsjxJyOEadNmPjHw0uY0uW",
      "include_colab_link": true
    },
    "kernelspec": {
      "name": "python3",
      "display_name": "Python 3"
    },
    "language_info": {
      "name": "python"
    }
  },
  "cells": [
    {
      "cell_type": "markdown",
      "metadata": {
        "id": "view-in-github",
        "colab_type": "text"
      },
      "source": [
        "<a href=\"https://colab.research.google.com/github/ReidelVichot/LC_identification/blob/main/AirQuality11_06_24.ipynb\" target=\"_parent\"><img src=\"https://colab.research.google.com/assets/colab-badge.svg\" alt=\"Open In Colab\"/></a>"
      ]
    },
    {
      "cell_type": "markdown",
      "source": [
        "#Setting the Environment"
      ],
      "metadata": {
        "id": "i9-QBlpSYwyR"
      }
    },
    {
      "cell_type": "code",
      "source": [
        "from google.colab import drive\n",
        "drive.mount('/content/drive')\n",
        "\n",
        "# -- Setting environment\n",
        "import pandas as pd\n",
        "import numpy as np\n",
        "import matplotlib.pyplot as plt\n",
        "import geopandas as gpd\n",
        "\n",
        "# -- Load county shapefiles\n",
        "dir = \"/content/drive/MyDrive/Disertation/countyshp/\"\n",
        "county = gpd.read_file(dir + \"tl_2010_us_county00/tl_2010_us_county00.shp\")\n",
        "county = county[[\"CNTYIDFP00\", \"geometry\"]]"
      ],
      "metadata": {
        "colab": {
          "base_uri": "https://localhost:8080/"
        },
        "id": "-ZVHWm5wXJRy",
        "outputId": "c9346a1f-ba75-4838-9f43-0bc6d59255b8"
      },
      "execution_count": 1,
      "outputs": [
        {
          "output_type": "stream",
          "name": "stdout",
          "text": [
            "Mounted at /content/drive\n"
          ]
        }
      ]
    },
    {
      "cell_type": "markdown",
      "source": [
        "#Defining Functions"
      ],
      "metadata": {
        "id": "vvqF0eHXZGVG"
      }
    },
    {
      "cell_type": "code",
      "source": [
        "def gen_GEOID(df):\n",
        "  # generate GEOID\n",
        "  df[\"GEOID\"] = df[\"State Code\"].astype(str).str.zfill(2) + df[\"County Code\"].astype(str).str.zfill(3)\n",
        "  df = df.drop(columns=[\"State Code\", \"County Code\"])\n",
        "  return df\n",
        "\n",
        "def gen_year(df):\n",
        "  # get year\n",
        "  df[\"year\"] = df[\"Date\"].str[:4].astype(int)\n",
        "  df = df.drop(columns=\"Date\")\n",
        "  return df\n",
        "\n",
        "def grouping(df):\n",
        "  df = df.groupby([\"GEOID\", \"year\"]).agg([\"mean\", \"std\", \"max\", \"min\"])\n",
        "  # combining columns\n",
        "  df.columns = [\"_\".join(col) for col in df.columns]\n",
        "  df = df.reset_index()\n",
        "  return df\n",
        "\n",
        "def get_AQI(year):\n",
        "  dir = \"/content/drive/MyDrive/Disertation/EPA_data/AQI\"\n",
        "  fname = f\"/daily_aqi_by_county_{year}.csv\"\n",
        "  df = pd.read_csv(dir + fname, low_memory=False)\n",
        "  df = df[[\"State Code\", \"County Code\", \"Date\", \"AQI\"]]\n",
        "  return df\n",
        "\n",
        "def get_CO(year):\n",
        "  dir = \"/content/drive/MyDrive/Disertation/EPA_data/CO\"\n",
        "  fname = f\"/daily_42101_{year}.csv\"\n",
        "  df = pd.read_csv(dir + fname, low_memory=False)\n",
        "  df = df[[\"State Code\", \"County Code\", \"Date Local\", \"Arithmetic Mean\"]]\n",
        "  df.columns = [\"State Code\", \"County Code\", \"Date\", \"CO\"]\n",
        "  return df\n",
        "\n",
        "def get_NO2(year):\n",
        "  dir = \"/content/drive/MyDrive/Disertation/EPA_data/NO2\"\n",
        "  fname = f\"/daily_42602_{year}.csv\"\n",
        "  df = pd.read_csv(dir + fname, low_memory=False)\n",
        "  df = df[[\"State Code\", \"County Code\", \"Date Local\", \"Arithmetic Mean\"]]\n",
        "  df.columns = [\"State Code\", \"County Code\", \"Date\", \"NO2\"]\n",
        "  return df\n",
        "\n",
        "def get_Ozone(year):\n",
        "  dir = \"/content/drive/MyDrive/Disertation/EPA_data/Ozone\"\n",
        "  fname = f\"/daily_44201_{year}.csv\"\n",
        "  df = pd.read_csv(dir + fname, low_memory=False)\n",
        "  df = df[[\"State Code\", \"County Code\", \"Date Local\", \"Arithmetic Mean\"]]\n",
        "  df.columns = [\"State Code\", \"County Code\", \"Date\", \"Ozone\"]\n",
        "  return df\n",
        "\n",
        "def get_SO2(year):\n",
        "  dir = \"/content/drive/MyDrive/Disertation/EPA_data/SO2\"\n",
        "  fname = f\"/daily_42401_{year}.csv\"\n",
        "  df = pd.read_csv(dir + fname, low_memory=False)\n",
        "  df = df[[\"State Code\", \"County Code\", \"Date Local\", \"Arithmetic Mean\"]]\n",
        "  df.columns = [\"State Code\", \"County Code\", \"Date\", \"SO2\"]\n",
        "  return df\n",
        "\n",
        "def get_PM25(year):\n",
        "  dir = \"/content/drive/MyDrive/Disertation/EPA_data/PM25\"\n",
        "  fname = f\"/daily_SPEC_{year}.csv\"\n",
        "  df = pd.read_csv(dir + fname, low_memory=False)\n",
        "  df = df[[\"State Code\", \"County Code\", \"Date Local\", \"Arithmetic Mean\"]]\n",
        "  df.columns = [\"State Code\", \"County Code\", \"Date\", \"PM2.5\"]\n",
        "  return df\n",
        "\n",
        "def get_PM10(year):\n",
        "  dir = \"/content/drive/MyDrive/Disertation/EPA_data/PM10\"\n",
        "  fname = f\"/daily_PM10SPEC_{year}.csv\"\n",
        "  df = pd.read_csv(dir + fname, low_memory=False)\n",
        "  df = df[[\"State Code\", \"County Code\", \"Date Local\", \"Arithmetic Mean\"]]\n",
        "  df.columns = [\"State Code\", \"County Code\", \"Date\", \"PM10\"]\n",
        "  return df\n",
        "\n",
        "def get_param(param, year):\n",
        "  match param:\n",
        "    case \"AQI\":\n",
        "      return get_AQI(year)\n",
        "    case \"CO\":\n",
        "      return get_CO(year)\n",
        "    case \"NO2\":\n",
        "      return get_CO(year)\n",
        "    case \"SO2\":\n",
        "      return get_SO2(year)\n",
        "    case \"Ozone\":\n",
        "      return get_Ozone(year)"
      ],
      "metadata": {
        "id": "gYbIo3sMZIej"
      },
      "execution_count": 2,
      "outputs": []
    },
    {
      "cell_type": "markdown",
      "source": [
        "#Calculating Parameters"
      ],
      "metadata": {
        "id": "iCen-JBoY0_8"
      }
    },
    {
      "cell_type": "markdown",
      "source": [
        "##AQI"
      ],
      "metadata": {
        "id": "X94LHr4KWN_G"
      }
    },
    {
      "cell_type": "code",
      "source": [
        "# -- Create aqi dataframe\n",
        "aqi = pd.DataFrame()\n",
        "\n",
        "for year in range(1998, 2023):\n",
        "  df = grouping(gen_year(gen_GEOID(get_AQI(year))))\n",
        "  aqi = pd.concat([aqi, df]).reset_index().drop(columns=\"index\")\n",
        "\n",
        "# -- Merge aqi and county\n",
        "print(len(aqi))\n",
        "aqi = county.merge(aqi, right_on=\"GEOID\", left_on=\"CNTYIDFP00\", how=\"right\")\n",
        "aqi = aqi.drop(columns=\"CNTYIDFP00\")\n",
        "print(len(aqi))"
      ],
      "metadata": {
        "colab": {
          "base_uri": "https://localhost:8080/"
        },
        "id": "lq1_f6cWgXOE",
        "outputId": "88752bf2-0491-4cf7-bd40-88c5c620d5e0"
      },
      "execution_count": 4,
      "outputs": [
        {
          "output_type": "stream",
          "name": "stdout",
          "text": [
            "26504\n",
            "26504\n"
          ]
        }
      ]
    },
    {
      "cell_type": "markdown",
      "source": [
        "##CO"
      ],
      "metadata": {
        "id": "3pfv92jmWTpF"
      }
    },
    {
      "cell_type": "code",
      "source": [
        "# -- Create CO dataframe\n",
        "co = pd.DataFrame()\n",
        "\n",
        "for year in range(1998, 2023):\n",
        "  df = grouping(gen_year(gen_GEOID(get_CO(year))))\n",
        "  co = pd.concat([co, df]).reset_index().drop(columns=\"index\")\n",
        "\n",
        "# -- Merge CO and county\n",
        "print(len(co))\n",
        "co = county.merge(co, right_on=\"GEOID\", left_on=\"CNTYIDFP00\", how=\"right\")\n",
        "co = co.drop(columns=\"CNTYIDFP00\")\n",
        "print(len(co))"
      ],
      "metadata": {
        "colab": {
          "base_uri": "https://localhost:8080/"
        },
        "id": "KqL2F4UCWh2q",
        "outputId": "0907f222-634c-4252-8259-bb9fda7c489a"
      },
      "execution_count": 5,
      "outputs": [
        {
          "output_type": "stream",
          "name": "stdout",
          "text": [
            "5214\n",
            "5214\n"
          ]
        }
      ]
    },
    {
      "cell_type": "markdown",
      "source": [
        "##NO2"
      ],
      "metadata": {
        "id": "L0sufNbFWXuY"
      }
    },
    {
      "cell_type": "code",
      "source": [
        "# -- Create NO2 dataframe\n",
        "no2 = pd.DataFrame()\n",
        "\n",
        "for year in range(1998, 2023):\n",
        "  df = grouping(gen_year(gen_GEOID(get_NO2(year))))\n",
        "  no2 = pd.concat([no2, df]).reset_index().drop(columns=\"index\")\n",
        "\n",
        "# -- Merge NO2 and county\n",
        "print(len(no2))\n",
        "no2 = county.merge(no2, right_on=\"GEOID\", left_on=\"CNTYIDFP00\", how=\"right\")\n",
        "no2 = no2.drop(columns=\"CNTYIDFP00\")\n",
        "print(len(no2))"
      ],
      "metadata": {
        "colab": {
          "base_uri": "https://localhost:8080/"
        },
        "id": "LqK0a79zWvCk",
        "outputId": "15a72cae-d06a-499c-a496-b69d1a0dec9a"
      },
      "execution_count": 6,
      "outputs": [
        {
          "output_type": "stream",
          "name": "stdout",
          "text": [
            "6328\n",
            "6328\n"
          ]
        }
      ]
    },
    {
      "cell_type": "markdown",
      "source": [
        "##Ozone"
      ],
      "metadata": {
        "id": "ucKVGBVlWb8m"
      }
    },
    {
      "cell_type": "code",
      "source": [
        "# -- Create ozone dataframe\n",
        "ozone = pd.DataFrame()\n",
        "\n",
        "for year in range(1998, 2023):\n",
        "  df = grouping(gen_year(gen_GEOID(get_Ozone(year))))\n",
        "  ozone = pd.concat([ozone, df]).reset_index().drop(columns=\"index\")\n",
        "\n",
        "# -- Merge ozone and county\n",
        "print(len(ozone))\n",
        "ozone = county.merge(ozone, right_on=\"GEOID\", left_on=\"CNTYIDFP00\", how=\"right\")\n",
        "ozone = ozone.drop(columns=\"CNTYIDFP00\")\n",
        "print(len(ozone))"
      ],
      "metadata": {
        "colab": {
          "base_uri": "https://localhost:8080/"
        },
        "id": "PdCn1B4vXPqJ",
        "outputId": "50c9610c-07e7-4248-b102-1252d68eb836"
      },
      "execution_count": 7,
      "outputs": [
        {
          "output_type": "stream",
          "name": "stdout",
          "text": [
            "19088\n",
            "19088\n"
          ]
        }
      ]
    },
    {
      "cell_type": "markdown",
      "source": [
        "##SO2"
      ],
      "metadata": {
        "id": "obdc0AttWeUh"
      }
    },
    {
      "cell_type": "code",
      "source": [
        "# -- Create so2 dataframe\n",
        "so2 = pd.DataFrame()\n",
        "\n",
        "for year in range(1998, 2023):\n",
        "  df = grouping(gen_year(gen_GEOID(get_SO2(year))))\n",
        "  so2 = pd.concat([so2, df]).reset_index().drop(columns=\"index\")\n",
        "\n",
        "# -- Merge so2 and county\n",
        "print(len(so2))\n",
        "so2 = county.merge(so2, right_on=\"GEOID\", left_on=\"CNTYIDFP00\", how=\"right\")\n",
        "so2 = so2.drop(columns=\"CNTYIDFP00\")\n",
        "print(len(so2))"
      ],
      "metadata": {
        "colab": {
          "base_uri": "https://localhost:8080/"
        },
        "id": "b4bEqgCiZCSP",
        "outputId": "4c51dfc5-a697-454c-825e-c03c421ec01d"
      },
      "execution_count": 8,
      "outputs": [
        {
          "output_type": "stream",
          "name": "stdout",
          "text": [
            "8248\n",
            "8248\n"
          ]
        }
      ]
    },
    {
      "cell_type": "markdown",
      "source": [
        "##PM2.5"
      ],
      "metadata": {
        "id": "jXdTv0TB7qVi"
      }
    },
    {
      "cell_type": "code",
      "source": [
        "# -- Create pm25 dataframe\n",
        "pm25 = pd.DataFrame()\n",
        "\n",
        "for year in range(1998, 2023):\n",
        "  df = grouping(gen_year(gen_GEOID(get_PM25(year))))\n",
        "  pm25 = pd.concat([pm25, df]).reset_index().drop(columns=\"index\")\n",
        "\n",
        "# -- Merge pm25 and county\n",
        "print(len(pm25))\n",
        "pm25 = county.merge(pm25, right_on=\"GEOID\", left_on=\"CNTYIDFP00\", how=\"right\")\n",
        "pm25 = pm25.drop(columns=\"CNTYIDFP00\")\n",
        "print(len(pm25))"
      ],
      "metadata": {
        "id": "LfSTDiAv7wVV",
        "outputId": "0449e980-6879-4105-dfa8-cf873fc7d93d",
        "colab": {
          "base_uri": "https://localhost:8080/"
        }
      },
      "execution_count": 16,
      "outputs": [
        {
          "output_type": "stream",
          "name": "stdout",
          "text": [
            "15074\n",
            "15074\n"
          ]
        }
      ]
    },
    {
      "cell_type": "markdown",
      "source": [
        "##PM10"
      ],
      "metadata": {
        "id": "7MUWjZVS9mJy"
      }
    },
    {
      "cell_type": "code",
      "source": [
        "# -- Create pm10 dataframe\n",
        "pm10 = pd.DataFrame()\n",
        "\n",
        "for year in range(1998, 2023):\n",
        "  df = grouping(gen_year(gen_GEOID(get_PM10(year))))\n",
        "  pm10 = pd.concat([pm10, df]).reset_index().drop(columns=\"index\")\n",
        "\n",
        "# -- Merge pm10 and county\n",
        "print(len(pm10))\n",
        "pm10 = county.merge(pm10, right_on=\"GEOID\", left_on=\"CNTYIDFP00\", how=\"right\")\n",
        "pm10 = pm10.drop(columns=\"CNTYIDFP00\")\n",
        "print(len(pm10))"
      ],
      "metadata": {
        "id": "o_jdQ7f19lrU",
        "outputId": "344ee11e-c23a-40fb-8667-3af44a021e54",
        "colab": {
          "base_uri": "https://localhost:8080/"
        }
      },
      "execution_count": 11,
      "outputs": [
        {
          "output_type": "stream",
          "name": "stdout",
          "text": [
            "10358\n",
            "10358\n"
          ]
        }
      ]
    },
    {
      "cell_type": "markdown",
      "source": [
        "#Descriptive Statistics"
      ],
      "metadata": {
        "id": "TYeRv2OeckDO"
      }
    },
    {
      "cell_type": "code",
      "source": [
        "# Save Everything\n",
        "aqi.to_csv(\"/content/drive/MyDrive/Disertation/aqi.csv\", index=False)\n",
        "co.to_csv(\"/content/drive/MyDrive/Disertation/co.csv\", index=False)\n",
        "no2.to_csv(\"/content/drive/MyDrive/Disertation/no2.csv\", index=False)\n",
        "ozone.to_csv(\"/content/drive/MyDrive/Disertation/ozone.csv\", index=False)\n",
        "so2.to_csv(\"/content/drive/MyDrive/Disertation/so2.csv\", index=False)\n",
        "pm25.to_csv(\"/content/drive/MyDrive/Disertation/pm25.csv\", index=False)\n",
        "pm10.to_csv(\"/content/drive/MyDrive/Disertation/pm10.csv\", index=False)"
      ],
      "metadata": {
        "id": "8VgsxCYU4uE9"
      },
      "execution_count": 19,
      "outputs": []
    },
    {
      "cell_type": "code",
      "source": [
        "print(aqi.AQI_mean.describe(), end=\"\\n\\n\")\n",
        "print(co.CO_mean.describe(), end=\"\\n\\n\")\n",
        "print(no2.NO2_mean.describe(), end=\"\\n\\n\")\n",
        "print(ozone.Ozone_mean.describe(), end=\"\\n\\n\")\n",
        "print(so2.SO2_mean.describe(), end=\"\\n\\n\")"
      ],
      "metadata": {
        "id": "igYgmuNacuA1"
      },
      "execution_count": null,
      "outputs": []
    },
    {
      "cell_type": "code",
      "source": [
        "# Removing Non-contiguous counties\n",
        "for i in ['02', '15', '60', '66', '69', '72', '78', \"80\"]:\n",
        "  aqi = aqi[aqi.GEOID.str[:2] != i]\n",
        "  co = co[co.GEOID.str[:2] != i]\n",
        "  no2 = no2[no2.GEOID.str[:2] != i]\n",
        "  ozone = ozone[ozone.GEOID.str[:2] != i]\n",
        "  so2 = so2[so2.GEOID.str[:2] != i]\n",
        "  pm25 = pm25[pm25.GEOID.str[:2] != i]\n",
        "  pm10 = pm10[pm10.GEOID.str[:2] != i]"
      ],
      "metadata": {
        "id": "uD_wAIbUgajD"
      },
      "execution_count": 18,
      "outputs": []
    },
    {
      "cell_type": "code",
      "source": [
        "aqi.groupby([\"year\", \"GEOID\"]).mean(numeric_only=True)"
      ],
      "metadata": {
        "id": "9d6srgtDkZWk"
      },
      "execution_count": null,
      "outputs": []
    },
    {
      "cell_type": "code",
      "source": [
        "# Plotting trends\n",
        "fig, ax = plt.subplots(figsize=(15, 10))\n",
        "\n",
        "for i in aqi.GEOID.unique():\n",
        "  df = aqi[aqi.GEOID == i]\n",
        "  ax.plot(df.year, df.AQI_mean, color=\"black\", alpha=0.5, linewidth=0.5 )\n",
        "\n",
        "\n",
        "\n",
        "ax.set_xlabel(\"Year\")\n",
        "ax.set_ylabel(\"Mean Value\")\n",
        "\n",
        "fig.show()"
      ],
      "metadata": {
        "id": "Lc91fVaOj0PJ"
      },
      "execution_count": null,
      "outputs": []
    },
    {
      "cell_type": "code",
      "source": [
        "# Plotting trends\n",
        "fig, ax = plt.subplots(figsize=(15, 10))\n",
        "\n",
        "for i in ozone.GEOID.unique():\n",
        "  df = ozone[ozone.GEOID == i]\n",
        "  ax.plot(df.year, df.Ozone_mean, color=\"black\", alpha=0.5, linewidth=0.5 )\n",
        "\n",
        "\n",
        "\n",
        "ax.set_xlabel(\"Year\")\n",
        "ax.set_ylabel(\"Mean Value\")\n",
        "\n",
        "fig.show()"
      ],
      "metadata": {
        "id": "2bYei3JJt-CW"
      },
      "execution_count": null,
      "outputs": []
    },
    {
      "cell_type": "code",
      "source": [
        "# Plotting trends\n",
        "fig, ax = plt.subplots(figsize=(15, 10))\n",
        "\n",
        "for i in co.GEOID.unique():\n",
        "  df = co[co.GEOID == i]\n",
        "  ax.plot(df.year, df.CO_mean, color=\"black\", alpha=0.5, linewidth=0.5 )\n",
        "\n",
        "ax.set_xlabel(\"Year\")\n",
        "ax.set_ylabel(\"Mean Value\")\n",
        "\n",
        "fig.show()"
      ],
      "metadata": {
        "id": "sINUTcNauaGa"
      },
      "execution_count": null,
      "outputs": []
    },
    {
      "cell_type": "code",
      "source": [
        "# Plotting trends\n",
        "fig, ax = plt.subplots(figsize=(15, 10))\n",
        "\n",
        "for i in no2.GEOID.unique():\n",
        "  df = no2[no2.GEOID == i]\n",
        "  ax.plot(df.year, df.NO2_mean, color=\"black\", alpha=0.5, linewidth=0.5 )\n",
        "\n",
        "ax.set_xlabel(\"Year\")\n",
        "ax.set_ylabel(\"Mean Value\")\n",
        "\n",
        "fig.show()"
      ],
      "metadata": {
        "id": "EhO-254DyoYY"
      },
      "execution_count": null,
      "outputs": []
    },
    {
      "cell_type": "code",
      "source": [
        "# Plotting trends\n",
        "fig, ax = plt.subplots(figsize=(15, 10))\n",
        "\n",
        "for i in so2.GEOID.unique():\n",
        "  df = so2[so2.GEOID == i]\n",
        "  ax.plot(df.year, df.SO2_mean, color=\"black\", alpha=0.5, linewidth=0.5 )\n",
        "\n",
        "ax.set_xlabel(\"Year\")\n",
        "ax.set_ylabel(\"Mean Value\")\n",
        "\n",
        "fig.show()"
      ],
      "metadata": {
        "id": "yfNXYjBzy7hs"
      },
      "execution_count": null,
      "outputs": []
    },
    {
      "cell_type": "code",
      "source": [],
      "metadata": {
        "id": "jZGGWgnQ3Grk"
      },
      "execution_count": null,
      "outputs": []
    }
  ]
}