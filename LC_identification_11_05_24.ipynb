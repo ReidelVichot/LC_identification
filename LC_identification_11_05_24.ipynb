{
  "nbformat": 4,
  "nbformat_minor": 0,
  "metadata": {
    "colab": {
      "provenance": [],
      "include_colab_link": true
    },
    "kernelspec": {
      "name": "python3",
      "display_name": "Python 3"
    },
    "language_info": {
      "name": "python"
    }
  },
  "cells": [
    {
      "cell_type": "markdown",
      "metadata": {
        "id": "view-in-github",
        "colab_type": "text"
      },
      "source": [
        "<a href=\"https://colab.research.google.com/github/ReidelVichot/LC_identification/blob/main/LC_identification_11_05_24.ipynb\" target=\"_parent\"><img src=\"https://colab.research.google.com/assets/colab-badge.svg\" alt=\"Open In Colab\"/></a>"
      ]
    },
    {
      "cell_type": "markdown",
      "source": [
        "#1. PROBLEM DEFINITION"
      ],
      "metadata": {
        "id": "Rqdn9j66FRnc"
      }
    },
    {
      "cell_type": "markdown",
      "source": [
        "**Background**\n",
        "\n",
        "“A logistics cluster (LC) is defined as the geographical concentration of firms providing logistics services, such as transportation carriers, warehousing providers, third-party logistics (3PL-s), and forwarders, as well as some other enterprises that are mainly in the logistics business, including logistics enterprises to provide services to various industries” (Rivera et al., 2014, p. 223).  \n",
        "\n",
        "Several relevant scholars in the field of logistics claim that clustering logistic activity has a positive impact on the efficiency of the economic activity, reduction of costs, and increase of collaboration among the firms that belong to the cluster (Rivera et al., 2014; Rivera, Gligor, et al., 2016; Rivera, Sheffi, et al., 2016; Sheffi, 2013, 2012). Although some of these authors mention that some of these benefits require some trade-offs (Rivera, Gligor, et al., 2016), these trade-offs are not further explored, resulting in an incomplete understanding of the socio-economic effects of the agglomeration of logistics activity. This becomes more problematic given that governments around the world seem to be embracing the idea of logistics clusters being some sort of panacea for economic development based on supply chain management improvements (Baranowski et al., 2015; Baydar et al., 2019; Chung, 2016), even though empirical studies that assess the role of government spending on the formation of logistics clusters are lacking (Liu et al., 2022). In other words, the field still lacks methodological and theoretical development, resulting in an incomplete understanding of the mechanisms of logistical clustering and their socio-economic effects.\n",
        "\n",
        "**Problem**\n",
        "\n",
        "There is not a current database of logistics clusters in the US. However, Rivera et al (2014) designed a method to test logistical agglomeration in US counties using NAICS codes and [CBP](https://www.census.gov/programs-surveys/cbp.html) information. Before conducting analyis on the effects of Logistics Clusters on society and the role of governments in their formation it is necessary to have an accurate picture of all logistics clusters in the US. For this purpose, I will extend Reviera's et al (2014) methodology to all the CBP years in which NAICS codes are used and use this database for future analyses."
      ],
      "metadata": {
        "id": "LvmLdFxsFRTo"
      }
    },
    {
      "cell_type": "markdown",
      "source": [
        "#2. DATA COLLECTION"
      ],
      "metadata": {
        "id": "AIyjkt-fFTKW"
      }
    },
    {
      "cell_type": "code",
      "source": [
        "from google.colab import drive\n",
        "drive.mount('/content/drive')"
      ],
      "metadata": {
        "colab": {
          "base_uri": "https://localhost:8080/"
        },
        "id": "RylmOoWgr-bA",
        "outputId": "d56b484a-1b31-4951-91b2-5a231639b988"
      },
      "execution_count": null,
      "outputs": [
        {
          "output_type": "stream",
          "name": "stdout",
          "text": [
            "Drive already mounted at /content/drive; to attempt to forcibly remount, call drive.mount(\"/content/drive\", force_remount=True).\n"
          ]
        }
      ]
    },
    {
      "cell_type": "code",
      "source": [
        "import numpy as np\n",
        "import pandas as pd\n",
        "import matplotlib.pyplot as plt\n",
        "import geopandas as gpd\n",
        "import time\n",
        "\n",
        "# -- this line is to make pandas future-proof, Copy-on-Write will become the default in pandas 3.0.\n",
        "pd.options.mode.copy_on_write = True\n",
        "\n",
        "pd.set_option(\"future.no_silent_downcasting\", True)\n",
        "\n",
        "# -- Set the data path\n",
        "dpath = \"/content/drive/MyDrive/Disertation/\""
      ],
      "metadata": {
        "id": "TYXSF8rbsAos"
      },
      "execution_count": null,
      "outputs": []
    },
    {
      "cell_type": "code",
      "source": [
        "# -- NAICS of interest according to Rivera et al.\n",
        "naics_of_interest = [ \"481112\", \"481212\", \"481219\", \"483111\", \"483113\",\n",
        "                      \"483211\", \"484110\", \"484121\", \"484122\", \"484220\",\n",
        "                      \"484230\", \"488119\", \"488190\", \"488210\", \"488310\",\n",
        "                      \"488320\", \"488330\", \"488390\", \"488410\", \"488490\",\n",
        "                      \"488510\", \"488991\", \"488999\", \"492110\", \"492210\",\n",
        "                      \"493110\", \"493190\"]\n",
        "t0 = time.time()\n",
        "for year in range(1998, 2022):\n",
        "  xx = str(year)[2:]\n",
        "  fname = dpath + \"CBP_data/cbp\" + xx + \"co/cbp\" + xx + \"co.txt\"\n",
        "  temp = pd.read_csv(fname)\n",
        "  if year == 2015:\n",
        "    temp.columns = temp.columns.str.lower()\n",
        "  # -- add a year column\n",
        "  temp[\"year\"] = year\n",
        "  # -- add a GEOID\n",
        "  temp[\"GEOID\"] = temp.fipstate.astype(str).str.zfill(2) + temp.fipscty.astype(str).str.zfill(3)\n",
        "  # -- create a global variable and save a dataframe into it\n",
        "  globals()[\"cbp\" + xx] = temp[temp[\"naics\"].isin(naics_of_interest)]\n",
        "  # -- create a global variable and save the total employment for each county\n",
        "  globals()[\"cbp\" + xx + \"tot\"] = temp[temp[\"naics\"] == \"------\"]\n",
        "  # -- delete to save RAM\n",
        "  del temp\n",
        "t1 = time.time()\n",
        "print(\"Execution Time: \", (t1 - t0)/60, \" mins\")\n"
      ],
      "metadata": {
        "id": "Z3YszK3HbaOy",
        "colab": {
          "base_uri": "https://localhost:8080/"
        },
        "outputId": "3289f4d9-861b-4eb8-d463-a57485e0ecdf"
      },
      "execution_count": null,
      "outputs": [
        {
          "output_type": "stream",
          "name": "stdout",
          "text": [
            "Execution Time:  3.067413250605265  mins\n"
          ]
        }
      ]
    },
    {
      "cell_type": "markdown",
      "source": [
        "#3. DATA PREPARATION"
      ],
      "metadata": {
        "id": "bbhRsKK6FTrg"
      }
    },
    {
      "cell_type": "code",
      "source": [
        "# The CBP record layouts are different accross years.\n",
        "cols_98_16 = ['fipstate', 'fipscty', 'naics', 'empflag', 'emp', 'ap', 'est',\n",
        "              'n1_4', 'n5_9', 'n10_19', 'n20_49', 'n50_99', 'n100_249', 'n250_499',\n",
        "              'n500_999','n1000', 'n1000_1', 'n1000_2', 'n1000_3', 'n1000_4',\n",
        "              'year', 'GEOID']\n",
        "\n",
        "cols_17    = ['fipstate', 'fipscty', 'naics', 'empflag', 'emp', 'ap', 'est',\n",
        "              'n<5', 'n5_9', 'n10_19', 'n20_49', 'n50_99', 'n100_249', 'n250_499',\n",
        "              'n500_999','n1000', 'n1000_1', 'n1000_2', 'n1000_3', 'n1000_4',\n",
        "              'year', 'GEOID']\n",
        "\n",
        "cols_18_21 = ['fipstate', 'fipscty', 'naics', 'emp_nf',  'emp', 'ap', 'est',\n",
        "              'n<5', 'n5_9', 'n10_19', 'n20_49', 'n50_99', 'n100_249', 'n250_499',\n",
        "              'n500_999','n1000', 'n1000_1', 'n1000_2', 'n1000_3', 'n1000_4',\n",
        "              'year', 'GEOID']\n",
        "\n",
        "t0 = time.time()\n",
        "for year in range(1998, 2017):\n",
        "  xx = str(year)[2:]\n",
        "  globals()[\"cbp\" + xx] = globals()[\"cbp\" + xx][cols_98_16]\n",
        "  globals()[\"cbp\" + xx + \"tot\"] = globals()[\"cbp\" + xx + \"tot\"][cols_98_16]\n",
        "\n",
        "cbp17 = cbp17[cols_17]\n",
        "cbp17.columns = cbp98.columns\n",
        "cbp17tot = cbp17tot[cols_17]\n",
        "cbp17tot.columns = cbp98.columns\n",
        "\n",
        "#####  NOTE: CBP17 has object-type columns for the employment by establishment size.\n",
        "# from 2017-2021 there are values that have N instead of 0 for emp by est size\n",
        "cbp17[cbp17.columns[7:19]] = cbp17[cbp17.columns[7:19]].replace(\"N\", 0).astype(int)\n",
        "cbp17tot[cbp17tot.columns[7:19]] = cbp17tot[cbp17tot.columns[7:19]].replace(\"N\", 0).astype(int)\n",
        "\n",
        "for year in range(2018, 2022):\n",
        "  xx = str(year)[2:]\n",
        "  globals()[\"cbp\" + xx] = globals()[\"cbp\" + xx][cols_18_21]\n",
        "  globals()[\"cbp\" + xx][globals()[\"cbp\" + xx].columns[7:19]] = globals()[\"cbp\" + xx][globals()[\"cbp\" + xx].columns[7:19]].replace(\"N\", 0).astype(int)\n",
        "  globals()[\"cbp\" + xx].columns = cbp98.columns\n",
        "  globals()[\"cbp\" + xx + \"tot\"] = globals()[\"cbp\" + xx + \"tot\"][cols_18_21]\n",
        "  globals()[\"cbp\" + xx + \"tot\"][globals()[\"cbp\" + xx + \"tot\"].columns[7:19]] = globals()[\"cbp\" + xx + \"tot\"][globals()[\"cbp\" + xx + \"tot\"].columns[7:19]].replace(\"N\", 0).astype(int)\n",
        "  globals()[\"cbp\" + xx + \"tot\"].columns = cbp98.columns\n",
        "\n",
        "\n",
        "# -- Between 1998 and 2017, there was a suppression flag (empflag) that affects\n",
        "#    the employment. Instead of using employment as it is, I will adjust it\n",
        "#    based on the middle point of the employment by establishment size.\n",
        "\n",
        "\n",
        "\n",
        "# -- create an unified dataframe for all years (1998-2017)\n",
        "frames = [cbp98, cbp99, cbp00, cbp01, cbp02, cbp03, cbp04, cbp05, cbp06, cbp07,\n",
        "          cbp08, cbp09, cbp10, cbp11, cbp12, cbp13, cbp14, cbp15, cbp16, cbp17,\n",
        "          cbp18, cbp19, cbp20, cbp21]\n",
        "\n",
        "cbp = pd.concat(frames).reset_index().drop(columns=\"index\")\n",
        "# -- lambda funditon to estimate employment if the employment is flagged\n",
        "t0 = time.time()\n",
        "cbp['emp_adj'] = cbp.apply(lambda row: row[\"emp\"]\n",
        "                           if pd.isna(row['empflag'])\n",
        "                           else row['n1_4']*2.5 + row['n5_9']*7 +\n",
        "                                row['n10_19']*14.5 + row['n20_49']*34.5 +\n",
        "                                row['n50_99']*74.5 + row['n100_249']*174.5 +\n",
        "                                row['n250_499']*374.5 + row['n500_999']*749.5 +\n",
        "                                row['n1000']*1000 , axis=1)\n",
        "cbp = cbp.drop(columns=['n1_4', 'n5_9', 'n10_19', 'n20_49', 'n50_99',\n",
        "                        'n100_249', 'n250_499', 'n500_999', 'n1000',\n",
        "                        'n1000_1', 'n1000_2', 'n1000_3', 'n1000_4'])\n",
        "cbp[\"emp_adj\"] = cbp.apply(lambda row: row[\"emp\"] if (row[\"year\"]==2018)|(row[\"year\"]==2019)|(row[\"year\"]==2020)|(row[\"year\"]==2021) else row[\"emp_adj\"], axis=1)\n",
        "# -- repeat for total employment\n",
        "frames_tot = [cbp98tot, cbp99tot, cbp00tot, cbp01tot, cbp02tot, cbp03tot,\n",
        "              cbp04tot, cbp05tot, cbp06tot, cbp07tot, cbp08tot, cbp09tot,\n",
        "              cbp10tot, cbp11tot, cbp12tot, cbp13tot, cbp14tot, cbp15tot,\n",
        "              cbp16tot, cbp17tot, cbp18tot, cbp19tot, cbp20tot, cbp21tot]\n",
        "\n",
        "cbp_tot = pd.concat(frames_tot).reset_index().drop(columns=\"index\")\n",
        "# -- lambda funditon to estimate employment if the employment is flagged\n",
        "\n",
        "cbp_tot['emp_adj'] = cbp_tot.apply(lambda row: row[\"emp\"]\n",
        "                           if pd.isna(row['empflag'])\n",
        "                           else row['n1_4']*2.5 + row['n5_9']*7 +\n",
        "                                row['n10_19']*14.5 + row['n20_49']*34.5 +\n",
        "                                row['n50_99']*74.5 + row['n100_249']*174.5 +\n",
        "                                row['n250_499']*374.5 + row['n500_999']*749.5 +\n",
        "                                row['n1000']*1000 , axis=1)\n",
        "\n",
        "cbp_tot = cbp_tot.drop(columns=['n1_4', 'n5_9', 'n10_19', 'n20_49', 'n50_99',\n",
        "                                'n100_249', 'n250_499', 'n500_999', 'n1000',\n",
        "                                'n1000_1', 'n1000_2', 'n1000_3', 'n1000_4'])\n",
        "cbp_tot[\"emp_adj\"] = cbp_tot.apply(lambda row: row[\"emp\"] if (row[\"year\"]==2018)|(row[\"year\"]==2019)|(row[\"year\"]==2020)|(row[\"year\"]==2021) else row[\"emp_adj\"], axis=1)\n",
        "\n",
        "\n",
        "# this cbp is from 1998-2021\n",
        "cbp = cbp.groupby([\"GEOID\", \"year\", \"fipstate\", \"fipscty\"]).sum(numeric_only=True).reset_index()\n",
        "cbp_tot = cbp_tot.groupby([\"GEOID\", \"year\", \"fipstate\", \"fipscty\"]).sum(numeric_only=True).reset_index()\n",
        "# -- save the cvs to use it later\n",
        "cbp.to_csv(dpath + \"/cbp.csv\", index = False)\n",
        "cbp_tot.to_csv(dpath + \"/cbp_tot.csv\", index = False)\n",
        "t1 = time.time()\n",
        "print(\"Execution Time: \", (t1-t0)/60, \" mins\")"
      ],
      "metadata": {
        "colab": {
          "base_uri": "https://localhost:8080/"
        },
        "id": "tngQkfbFrpfr",
        "outputId": "75b2ed0f-c5b2-4954-faf2-39df6d840b02"
      },
      "execution_count": null,
      "outputs": [
        {
          "output_type": "stream",
          "name": "stdout",
          "text": [
            "Execution Time:  0.48316009442011515  mins\n"
          ]
        }
      ]
    },
    {
      "cell_type": "code",
      "source": [
        "# Run this line to get access to the most current version of the CBP\n",
        "cbp_temp = pd.read_csv(dpath + \"/cbp.csv\")\n",
        "cbp_temp[\"GEOID\"] = cbp_temp[\"GEOID\"].astype(str).apply(lambda x: x.zfill(5))\n",
        "cbp = cbp_temp\n",
        "cbp_temp = pd.read_csv(dpath + \"/cbp_tot.csv\")\n",
        "cbp_temp[\"GEOID\"] = cbp_temp[\"GEOID\"].astype(str).apply(lambda x: x.zfill(5))\n",
        "cbp_tot = cbp_temp\n",
        "del cbp_temp"
      ],
      "metadata": {
        "id": "f0JlxdnopzTB"
      },
      "execution_count": null,
      "outputs": []
    },
    {
      "cell_type": "code",
      "source": [
        "cbp_tot"
      ],
      "metadata": {
        "id": "ssadU8BhcTpO",
        "outputId": "146cf8aa-d81d-4cdf-930d-17704e06ba43",
        "colab": {
          "base_uri": "https://localhost:8080/",
          "height": 424
        }
      },
      "execution_count": null,
      "outputs": [
        {
          "output_type": "execute_result",
          "data": {
            "text/plain": [
              "       GEOID  year  fipstate  fipscty   emp      ap  est  emp_adj\n",
              "0      01001  1998         1        1  8100  172862  754     8100\n",
              "1      01001  1999         1        1  9143  202499  775     9143\n",
              "2      01001  2000         1        1  9115  196839  769     9115\n",
              "3      01001  2001         1        1  9189  219788  795     9189\n",
              "4      01001  2002         1        1  9962  225866  833     9962\n",
              "...      ...   ...       ...      ...   ...     ...  ...      ...\n",
              "76532  56999  2017        56      999  3460  234020  170     3460\n",
              "76533  56999  2018        56      999  3437  233948  183     3437\n",
              "76534  56999  2019        56      999  3433  235594  197     3433\n",
              "76535  56999  2020        56      999  3249  191854  218     3249\n",
              "76536  56999  2021        56      999  3645  231078  256     3645\n",
              "\n",
              "[76537 rows x 8 columns]"
            ],
            "text/html": [
              "\n",
              "  <div id=\"df-76c9f6bb-c406-4d45-aa02-b558e3140b6b\" class=\"colab-df-container\">\n",
              "    <div>\n",
              "<style scoped>\n",
              "    .dataframe tbody tr th:only-of-type {\n",
              "        vertical-align: middle;\n",
              "    }\n",
              "\n",
              "    .dataframe tbody tr th {\n",
              "        vertical-align: top;\n",
              "    }\n",
              "\n",
              "    .dataframe thead th {\n",
              "        text-align: right;\n",
              "    }\n",
              "</style>\n",
              "<table border=\"1\" class=\"dataframe\">\n",
              "  <thead>\n",
              "    <tr style=\"text-align: right;\">\n",
              "      <th></th>\n",
              "      <th>GEOID</th>\n",
              "      <th>year</th>\n",
              "      <th>fipstate</th>\n",
              "      <th>fipscty</th>\n",
              "      <th>emp</th>\n",
              "      <th>ap</th>\n",
              "      <th>est</th>\n",
              "      <th>emp_adj</th>\n",
              "    </tr>\n",
              "  </thead>\n",
              "  <tbody>\n",
              "    <tr>\n",
              "      <th>0</th>\n",
              "      <td>01001</td>\n",
              "      <td>1998</td>\n",
              "      <td>1</td>\n",
              "      <td>1</td>\n",
              "      <td>8100</td>\n",
              "      <td>172862</td>\n",
              "      <td>754</td>\n",
              "      <td>8100</td>\n",
              "    </tr>\n",
              "    <tr>\n",
              "      <th>1</th>\n",
              "      <td>01001</td>\n",
              "      <td>1999</td>\n",
              "      <td>1</td>\n",
              "      <td>1</td>\n",
              "      <td>9143</td>\n",
              "      <td>202499</td>\n",
              "      <td>775</td>\n",
              "      <td>9143</td>\n",
              "    </tr>\n",
              "    <tr>\n",
              "      <th>2</th>\n",
              "      <td>01001</td>\n",
              "      <td>2000</td>\n",
              "      <td>1</td>\n",
              "      <td>1</td>\n",
              "      <td>9115</td>\n",
              "      <td>196839</td>\n",
              "      <td>769</td>\n",
              "      <td>9115</td>\n",
              "    </tr>\n",
              "    <tr>\n",
              "      <th>3</th>\n",
              "      <td>01001</td>\n",
              "      <td>2001</td>\n",
              "      <td>1</td>\n",
              "      <td>1</td>\n",
              "      <td>9189</td>\n",
              "      <td>219788</td>\n",
              "      <td>795</td>\n",
              "      <td>9189</td>\n",
              "    </tr>\n",
              "    <tr>\n",
              "      <th>4</th>\n",
              "      <td>01001</td>\n",
              "      <td>2002</td>\n",
              "      <td>1</td>\n",
              "      <td>1</td>\n",
              "      <td>9962</td>\n",
              "      <td>225866</td>\n",
              "      <td>833</td>\n",
              "      <td>9962</td>\n",
              "    </tr>\n",
              "    <tr>\n",
              "      <th>...</th>\n",
              "      <td>...</td>\n",
              "      <td>...</td>\n",
              "      <td>...</td>\n",
              "      <td>...</td>\n",
              "      <td>...</td>\n",
              "      <td>...</td>\n",
              "      <td>...</td>\n",
              "      <td>...</td>\n",
              "    </tr>\n",
              "    <tr>\n",
              "      <th>76532</th>\n",
              "      <td>56999</td>\n",
              "      <td>2017</td>\n",
              "      <td>56</td>\n",
              "      <td>999</td>\n",
              "      <td>3460</td>\n",
              "      <td>234020</td>\n",
              "      <td>170</td>\n",
              "      <td>3460</td>\n",
              "    </tr>\n",
              "    <tr>\n",
              "      <th>76533</th>\n",
              "      <td>56999</td>\n",
              "      <td>2018</td>\n",
              "      <td>56</td>\n",
              "      <td>999</td>\n",
              "      <td>3437</td>\n",
              "      <td>233948</td>\n",
              "      <td>183</td>\n",
              "      <td>3437</td>\n",
              "    </tr>\n",
              "    <tr>\n",
              "      <th>76534</th>\n",
              "      <td>56999</td>\n",
              "      <td>2019</td>\n",
              "      <td>56</td>\n",
              "      <td>999</td>\n",
              "      <td>3433</td>\n",
              "      <td>235594</td>\n",
              "      <td>197</td>\n",
              "      <td>3433</td>\n",
              "    </tr>\n",
              "    <tr>\n",
              "      <th>76535</th>\n",
              "      <td>56999</td>\n",
              "      <td>2020</td>\n",
              "      <td>56</td>\n",
              "      <td>999</td>\n",
              "      <td>3249</td>\n",
              "      <td>191854</td>\n",
              "      <td>218</td>\n",
              "      <td>3249</td>\n",
              "    </tr>\n",
              "    <tr>\n",
              "      <th>76536</th>\n",
              "      <td>56999</td>\n",
              "      <td>2021</td>\n",
              "      <td>56</td>\n",
              "      <td>999</td>\n",
              "      <td>3645</td>\n",
              "      <td>231078</td>\n",
              "      <td>256</td>\n",
              "      <td>3645</td>\n",
              "    </tr>\n",
              "  </tbody>\n",
              "</table>\n",
              "<p>76537 rows × 8 columns</p>\n",
              "</div>\n",
              "    <div class=\"colab-df-buttons\">\n",
              "\n",
              "  <div class=\"colab-df-container\">\n",
              "    <button class=\"colab-df-convert\" onclick=\"convertToInteractive('df-76c9f6bb-c406-4d45-aa02-b558e3140b6b')\"\n",
              "            title=\"Convert this dataframe to an interactive table.\"\n",
              "            style=\"display:none;\">\n",
              "\n",
              "  <svg xmlns=\"http://www.w3.org/2000/svg\" height=\"24px\" viewBox=\"0 -960 960 960\">\n",
              "    <path d=\"M120-120v-720h720v720H120Zm60-500h600v-160H180v160Zm220 220h160v-160H400v160Zm0 220h160v-160H400v160ZM180-400h160v-160H180v160Zm440 0h160v-160H620v160ZM180-180h160v-160H180v160Zm440 0h160v-160H620v160Z\"/>\n",
              "  </svg>\n",
              "    </button>\n",
              "\n",
              "  <style>\n",
              "    .colab-df-container {\n",
              "      display:flex;\n",
              "      gap: 12px;\n",
              "    }\n",
              "\n",
              "    .colab-df-convert {\n",
              "      background-color: #E8F0FE;\n",
              "      border: none;\n",
              "      border-radius: 50%;\n",
              "      cursor: pointer;\n",
              "      display: none;\n",
              "      fill: #1967D2;\n",
              "      height: 32px;\n",
              "      padding: 0 0 0 0;\n",
              "      width: 32px;\n",
              "    }\n",
              "\n",
              "    .colab-df-convert:hover {\n",
              "      background-color: #E2EBFA;\n",
              "      box-shadow: 0px 1px 2px rgba(60, 64, 67, 0.3), 0px 1px 3px 1px rgba(60, 64, 67, 0.15);\n",
              "      fill: #174EA6;\n",
              "    }\n",
              "\n",
              "    .colab-df-buttons div {\n",
              "      margin-bottom: 4px;\n",
              "    }\n",
              "\n",
              "    [theme=dark] .colab-df-convert {\n",
              "      background-color: #3B4455;\n",
              "      fill: #D2E3FC;\n",
              "    }\n",
              "\n",
              "    [theme=dark] .colab-df-convert:hover {\n",
              "      background-color: #434B5C;\n",
              "      box-shadow: 0px 1px 3px 1px rgba(0, 0, 0, 0.15);\n",
              "      filter: drop-shadow(0px 1px 2px rgba(0, 0, 0, 0.3));\n",
              "      fill: #FFFFFF;\n",
              "    }\n",
              "  </style>\n",
              "\n",
              "    <script>\n",
              "      const buttonEl =\n",
              "        document.querySelector('#df-76c9f6bb-c406-4d45-aa02-b558e3140b6b button.colab-df-convert');\n",
              "      buttonEl.style.display =\n",
              "        google.colab.kernel.accessAllowed ? 'block' : 'none';\n",
              "\n",
              "      async function convertToInteractive(key) {\n",
              "        const element = document.querySelector('#df-76c9f6bb-c406-4d45-aa02-b558e3140b6b');\n",
              "        const dataTable =\n",
              "          await google.colab.kernel.invokeFunction('convertToInteractive',\n",
              "                                                    [key], {});\n",
              "        if (!dataTable) return;\n",
              "\n",
              "        const docLinkHtml = 'Like what you see? Visit the ' +\n",
              "          '<a target=\"_blank\" href=https://colab.research.google.com/notebooks/data_table.ipynb>data table notebook</a>'\n",
              "          + ' to learn more about interactive tables.';\n",
              "        element.innerHTML = '';\n",
              "        dataTable['output_type'] = 'display_data';\n",
              "        await google.colab.output.renderOutput(dataTable, element);\n",
              "        const docLink = document.createElement('div');\n",
              "        docLink.innerHTML = docLinkHtml;\n",
              "        element.appendChild(docLink);\n",
              "      }\n",
              "    </script>\n",
              "  </div>\n",
              "\n",
              "\n",
              "<div id=\"df-c82cd07f-ee6e-4c09-abaa-5abad1840bda\">\n",
              "  <button class=\"colab-df-quickchart\" onclick=\"quickchart('df-c82cd07f-ee6e-4c09-abaa-5abad1840bda')\"\n",
              "            title=\"Suggest charts\"\n",
              "            style=\"display:none;\">\n",
              "\n",
              "<svg xmlns=\"http://www.w3.org/2000/svg\" height=\"24px\"viewBox=\"0 0 24 24\"\n",
              "     width=\"24px\">\n",
              "    <g>\n",
              "        <path d=\"M19 3H5c-1.1 0-2 .9-2 2v14c0 1.1.9 2 2 2h14c1.1 0 2-.9 2-2V5c0-1.1-.9-2-2-2zM9 17H7v-7h2v7zm4 0h-2V7h2v10zm4 0h-2v-4h2v4z\"/>\n",
              "    </g>\n",
              "</svg>\n",
              "  </button>\n",
              "\n",
              "<style>\n",
              "  .colab-df-quickchart {\n",
              "      --bg-color: #E8F0FE;\n",
              "      --fill-color: #1967D2;\n",
              "      --hover-bg-color: #E2EBFA;\n",
              "      --hover-fill-color: #174EA6;\n",
              "      --disabled-fill-color: #AAA;\n",
              "      --disabled-bg-color: #DDD;\n",
              "  }\n",
              "\n",
              "  [theme=dark] .colab-df-quickchart {\n",
              "      --bg-color: #3B4455;\n",
              "      --fill-color: #D2E3FC;\n",
              "      --hover-bg-color: #434B5C;\n",
              "      --hover-fill-color: #FFFFFF;\n",
              "      --disabled-bg-color: #3B4455;\n",
              "      --disabled-fill-color: #666;\n",
              "  }\n",
              "\n",
              "  .colab-df-quickchart {\n",
              "    background-color: var(--bg-color);\n",
              "    border: none;\n",
              "    border-radius: 50%;\n",
              "    cursor: pointer;\n",
              "    display: none;\n",
              "    fill: var(--fill-color);\n",
              "    height: 32px;\n",
              "    padding: 0;\n",
              "    width: 32px;\n",
              "  }\n",
              "\n",
              "  .colab-df-quickchart:hover {\n",
              "    background-color: var(--hover-bg-color);\n",
              "    box-shadow: 0 1px 2px rgba(60, 64, 67, 0.3), 0 1px 3px 1px rgba(60, 64, 67, 0.15);\n",
              "    fill: var(--button-hover-fill-color);\n",
              "  }\n",
              "\n",
              "  .colab-df-quickchart-complete:disabled,\n",
              "  .colab-df-quickchart-complete:disabled:hover {\n",
              "    background-color: var(--disabled-bg-color);\n",
              "    fill: var(--disabled-fill-color);\n",
              "    box-shadow: none;\n",
              "  }\n",
              "\n",
              "  .colab-df-spinner {\n",
              "    border: 2px solid var(--fill-color);\n",
              "    border-color: transparent;\n",
              "    border-bottom-color: var(--fill-color);\n",
              "    animation:\n",
              "      spin 1s steps(1) infinite;\n",
              "  }\n",
              "\n",
              "  @keyframes spin {\n",
              "    0% {\n",
              "      border-color: transparent;\n",
              "      border-bottom-color: var(--fill-color);\n",
              "      border-left-color: var(--fill-color);\n",
              "    }\n",
              "    20% {\n",
              "      border-color: transparent;\n",
              "      border-left-color: var(--fill-color);\n",
              "      border-top-color: var(--fill-color);\n",
              "    }\n",
              "    30% {\n",
              "      border-color: transparent;\n",
              "      border-left-color: var(--fill-color);\n",
              "      border-top-color: var(--fill-color);\n",
              "      border-right-color: var(--fill-color);\n",
              "    }\n",
              "    40% {\n",
              "      border-color: transparent;\n",
              "      border-right-color: var(--fill-color);\n",
              "      border-top-color: var(--fill-color);\n",
              "    }\n",
              "    60% {\n",
              "      border-color: transparent;\n",
              "      border-right-color: var(--fill-color);\n",
              "    }\n",
              "    80% {\n",
              "      border-color: transparent;\n",
              "      border-right-color: var(--fill-color);\n",
              "      border-bottom-color: var(--fill-color);\n",
              "    }\n",
              "    90% {\n",
              "      border-color: transparent;\n",
              "      border-bottom-color: var(--fill-color);\n",
              "    }\n",
              "  }\n",
              "</style>\n",
              "\n",
              "  <script>\n",
              "    async function quickchart(key) {\n",
              "      const quickchartButtonEl =\n",
              "        document.querySelector('#' + key + ' button');\n",
              "      quickchartButtonEl.disabled = true;  // To prevent multiple clicks.\n",
              "      quickchartButtonEl.classList.add('colab-df-spinner');\n",
              "      try {\n",
              "        const charts = await google.colab.kernel.invokeFunction(\n",
              "            'suggestCharts', [key], {});\n",
              "      } catch (error) {\n",
              "        console.error('Error during call to suggestCharts:', error);\n",
              "      }\n",
              "      quickchartButtonEl.classList.remove('colab-df-spinner');\n",
              "      quickchartButtonEl.classList.add('colab-df-quickchart-complete');\n",
              "    }\n",
              "    (() => {\n",
              "      let quickchartButtonEl =\n",
              "        document.querySelector('#df-c82cd07f-ee6e-4c09-abaa-5abad1840bda button');\n",
              "      quickchartButtonEl.style.display =\n",
              "        google.colab.kernel.accessAllowed ? 'block' : 'none';\n",
              "    })();\n",
              "  </script>\n",
              "</div>\n",
              "\n",
              "  <div id=\"id_2c3fbd96-8f21-4f03-849e-6661ae1011d9\">\n",
              "    <style>\n",
              "      .colab-df-generate {\n",
              "        background-color: #E8F0FE;\n",
              "        border: none;\n",
              "        border-radius: 50%;\n",
              "        cursor: pointer;\n",
              "        display: none;\n",
              "        fill: #1967D2;\n",
              "        height: 32px;\n",
              "        padding: 0 0 0 0;\n",
              "        width: 32px;\n",
              "      }\n",
              "\n",
              "      .colab-df-generate:hover {\n",
              "        background-color: #E2EBFA;\n",
              "        box-shadow: 0px 1px 2px rgba(60, 64, 67, 0.3), 0px 1px 3px 1px rgba(60, 64, 67, 0.15);\n",
              "        fill: #174EA6;\n",
              "      }\n",
              "\n",
              "      [theme=dark] .colab-df-generate {\n",
              "        background-color: #3B4455;\n",
              "        fill: #D2E3FC;\n",
              "      }\n",
              "\n",
              "      [theme=dark] .colab-df-generate:hover {\n",
              "        background-color: #434B5C;\n",
              "        box-shadow: 0px 1px 3px 1px rgba(0, 0, 0, 0.15);\n",
              "        filter: drop-shadow(0px 1px 2px rgba(0, 0, 0, 0.3));\n",
              "        fill: #FFFFFF;\n",
              "      }\n",
              "    </style>\n",
              "    <button class=\"colab-df-generate\" onclick=\"generateWithVariable('cbp_tot')\"\n",
              "            title=\"Generate code using this dataframe.\"\n",
              "            style=\"display:none;\">\n",
              "\n",
              "  <svg xmlns=\"http://www.w3.org/2000/svg\" height=\"24px\"viewBox=\"0 0 24 24\"\n",
              "       width=\"24px\">\n",
              "    <path d=\"M7,19H8.4L18.45,9,17,7.55,7,17.6ZM5,21V16.75L18.45,3.32a2,2,0,0,1,2.83,0l1.4,1.43a1.91,1.91,0,0,1,.58,1.4,1.91,1.91,0,0,1-.58,1.4L9.25,21ZM18.45,9,17,7.55Zm-12,3A5.31,5.31,0,0,0,4.9,8.1,5.31,5.31,0,0,0,1,6.5,5.31,5.31,0,0,0,4.9,4.9,5.31,5.31,0,0,0,6.5,1,5.31,5.31,0,0,0,8.1,4.9,5.31,5.31,0,0,0,12,6.5,5.46,5.46,0,0,0,6.5,12Z\"/>\n",
              "  </svg>\n",
              "    </button>\n",
              "    <script>\n",
              "      (() => {\n",
              "      const buttonEl =\n",
              "        document.querySelector('#id_2c3fbd96-8f21-4f03-849e-6661ae1011d9 button.colab-df-generate');\n",
              "      buttonEl.style.display =\n",
              "        google.colab.kernel.accessAllowed ? 'block' : 'none';\n",
              "\n",
              "      buttonEl.onclick = () => {\n",
              "        google.colab.notebook.generateWithVariable('cbp_tot');\n",
              "      }\n",
              "      })();\n",
              "    </script>\n",
              "  </div>\n",
              "\n",
              "    </div>\n",
              "  </div>\n"
            ],
            "application/vnd.google.colaboratory.intrinsic+json": {
              "type": "dataframe",
              "variable_name": "cbp_tot",
              "summary": "{\n  \"name\": \"cbp_tot\",\n  \"rows\": 76537,\n  \"fields\": [\n    {\n      \"column\": \"GEOID\",\n      \"properties\": {\n        \"dtype\": \"category\",\n        \"num_unique_values\": 3201,\n        \"samples\": [\n          \"27065\",\n          \"22119\",\n          \"51137\"\n        ],\n        \"semantic_type\": \"\",\n        \"description\": \"\"\n      }\n    },\n    {\n      \"column\": \"year\",\n      \"properties\": {\n        \"dtype\": \"number\",\n        \"std\": 6,\n        \"min\": 1998,\n        \"max\": 2021,\n        \"num_unique_values\": 24,\n        \"samples\": [\n          2006,\n          2014,\n          1998\n        ],\n        \"semantic_type\": \"\",\n        \"description\": \"\"\n      }\n    },\n    {\n      \"column\": \"fipstate\",\n      \"properties\": {\n        \"dtype\": \"number\",\n        \"std\": 15,\n        \"min\": 1,\n        \"max\": 56,\n        \"num_unique_values\": 51,\n        \"samples\": [\n          48,\n          45,\n          51\n        ],\n        \"semantic_type\": \"\",\n        \"description\": \"\"\n      }\n    },\n    {\n      \"column\": \"fipscty\",\n      \"properties\": {\n        \"dtype\": \"number\",\n        \"std\": 153,\n        \"min\": 1,\n        \"max\": 999,\n        \"num_unique_values\": 330,\n        \"samples\": [\n          19,\n          269,\n          217\n        ],\n        \"semantic_type\": \"\",\n        \"description\": \"\"\n      }\n    },\n    {\n      \"column\": \"emp\",\n      \"properties\": {\n        \"dtype\": \"number\",\n        \"std\": 137207,\n        \"min\": 0,\n        \"max\": 4007163,\n        \"num_unique_values\": 33584,\n        \"samples\": [\n          89436,\n          3726,\n          13654\n        ],\n        \"semantic_type\": \"\",\n        \"description\": \"\"\n      }\n    },\n    {\n      \"column\": \"ap\",\n      \"properties\": {\n        \"dtype\": \"number\",\n        \"std\": 7945606,\n        \"min\": 0,\n        \"max\": 304080571,\n        \"num_unique_values\": 71729,\n        \"samples\": [\n          3175228,\n          16926,\n          11576\n        ],\n        \"semantic_type\": \"\",\n        \"description\": \"\"\n      }\n    },\n    {\n      \"column\": \"est\",\n      \"properties\": {\n        \"dtype\": \"number\",\n        \"std\": 8110,\n        \"min\": 1,\n        \"max\": 297305,\n        \"num_unique_values\": 10534,\n        \"samples\": [\n          33829,\n          1099,\n          3784\n        ],\n        \"semantic_type\": \"\",\n        \"description\": \"\"\n      }\n    },\n    {\n      \"column\": \"emp_adj\",\n      \"properties\": {\n        \"dtype\": \"number\",\n        \"std\": 137205,\n        \"min\": 3,\n        \"max\": 4007163,\n        \"num_unique_values\": 33596,\n        \"samples\": [\n          35358,\n          12304,\n          74910\n        ],\n        \"semantic_type\": \"\",\n        \"description\": \"\"\n      }\n    }\n  ]\n}"
            }
          },
          "metadata": {},
          "execution_count": 22
        }
      ]
    },
    {
      "cell_type": "code",
      "source": [
        "# --Removing non-contiguous US counties\n",
        "# Alaska, Hawaii, American Samoa, Guam, Nothern Marianas, Puerto Rico,\n",
        "# Virgin Islands\n",
        "nc_states = [2, 15, 60, 66, 69, 72, 78]\n",
        "for i in nc_states:\n",
        "  print(\"CBP      \", len(cbp))\n",
        "  print(\"CBP Total\", len(cbp_tot))\n",
        "  cbp = cbp[cbp[\"fipstate\"] != i]\n",
        "  cbp_tot = cbp_tot[cbp_tot[\"fipstate\"] != i]"
      ],
      "metadata": {
        "colab": {
          "base_uri": "https://localhost:8080/"
        },
        "id": "_ge08F5ZlFYW",
        "outputId": "af22e412-825c-4b00-a2ec-3120979d7ef7"
      },
      "execution_count": null,
      "outputs": [
        {
          "output_type": "stream",
          "name": "stdout",
          "text": [
            "CBP       72146\n",
            "CBP Total 76537\n",
            "CBP       71549\n",
            "CBP Total 75845\n",
            "CBP       71447\n",
            "CBP Total 75725\n",
            "CBP       71447\n",
            "CBP Total 75725\n",
            "CBP       71447\n",
            "CBP Total 75725\n",
            "CBP       71447\n",
            "CBP Total 75725\n",
            "CBP       71447\n",
            "CBP Total 75725\n"
          ]
        }
      ]
    },
    {
      "cell_type": "code",
      "source": [
        "# Rename columns from the total employment dataframe to merge it later\n",
        "cbp_tot = cbp_tot.rename(columns={\"emp\":\"tot_emp\",\t\"ap\":\"tot_ap\",\t\"est\":\"tot_est\",\t\"emp_adj\": \"tot_emp_adj\"})\n",
        "# Eliminate columns that won't be required\n",
        "cbp_tot = cbp_tot.drop(columns=[\"fipstate\", \"fipscty\"])\n",
        "# Merge dataframes\n",
        "print(\"CBP: \", len(cbp))\n",
        "print(\"CBP total: \", len(cbp_tot))\n",
        "cbp = cbp.merge(cbp_tot, left_on=(\"GEOID\",\"year\"), right_on=(\"GEOID\", \"year\"), how= \"outer\").fillna(0)\n",
        "print(\"Merged dataset: \", len(cbp))\n",
        "\n",
        "# Get yearly totals\n",
        "cbp_tot_year = cbp.groupby(\"year\").sum(numeric_only = True)[[\"emp_adj\", \"tot_emp_adj\"]]\n",
        "# Rename columns before merging\n",
        "cbp_tot_year = cbp_tot_year.rename(columns={\"emp_adj\":\"country_sector\",\t\"tot_emp_adj\":\"country_total\"}).reset_index()\n",
        "# Merge dataframes\n",
        "cbp = cbp.merge(cbp_tot_year, left_on=\"year\", right_on=\"year\")\n",
        "\n",
        "# Total establishments of logistics and warehousing in the whole country per year\n",
        "cbp = cbp.merge(cbp.groupby(\"year\").sum(numeric_only=True)[[\"est\"]].reset_index().rename(columns={\"est\": \"est_country\"}), left_on=\"year\", right_on=\"year\")\n",
        "\n",
        "# -- Create variables\n",
        "# Logistics Establishments' Participation\n",
        "cbp[\"LEP\"] = cbp.est / cbp.est_country\n",
        "\n",
        "# Location Quotient\n",
        "cbp[\"LQ\"] = (cbp.emp_adj/cbp.country_sector) / (cbp.tot_emp_adj/cbp.country_total)\n",
        "\n",
        "# Horizontal Cluster Location Quotient\n",
        "cbp[\"emp_expd\"] = cbp.country_sector*cbp.tot_emp_adj/cbp.country_total\n",
        "cbp[\"HCLQ\"] = cbp.emp_adj - cbp.emp_expd"
      ],
      "metadata": {
        "id": "24MqyvOHmXLn",
        "outputId": "fe7a7141-0034-43ba-ce84-22297d7428e1",
        "colab": {
          "base_uri": "https://localhost:8080/"
        }
      },
      "execution_count": null,
      "outputs": [
        {
          "output_type": "stream",
          "name": "stdout",
          "text": [
            "CBP:  71447\n",
            "CBP total:  75725\n",
            "Merged dataset:  75725\n"
          ]
        }
      ]
    },
    {
      "cell_type": "markdown",
      "source": [
        "#4. MACHINE LEARNING"
      ],
      "metadata": {
        "id": "lcLQnk75FUC2"
      }
    },
    {
      "cell_type": "code",
      "source": [
        "geo = gpd.read_file(\"/content/drive/MyDrive/Disertation/countyshp/tl_2010_us_county00/tl_2010_us_county00.shp\")\n",
        "cols = ['CNTYIDFP00','STATEFP00', 'NAME00','geometry']\n",
        "geo = geo[cols]\n",
        "cbp = geo.merge(cbp, right_on = \"GEOID\", left_on = 'CNTYIDFP00').drop(columns = ['CNTYIDFP00','STATEFP00'])\n",
        "states = gpd.read_file(\"/content/drive/MyDrive/Disertation/countyshp/gz_2010_us_040_00_20m/gz_2010_us_040_00_20m.shp\")"
      ],
      "metadata": {
        "id": "lpQnOXW_LHoK"
      },
      "execution_count": null,
      "outputs": []
    },
    {
      "cell_type": "code",
      "source": [
        "nc_states = ['02', '15', '60', '66', '69', '72', '78']\n",
        "for i in nc_states:\n",
        "  states = states[states['STATE'] != i]"
      ],
      "metadata": {
        "id": "dIqGEz2oIljh"
      },
      "execution_count": null,
      "outputs": []
    },
    {
      "cell_type": "code",
      "source": [
        "cbp[(cbp.LQ > 1)&(cbp.year == 2008)&(cbp.LEP>0.001)].NAME00.values"
      ],
      "metadata": {
        "colab": {
          "base_uri": "https://localhost:8080/"
        },
        "id": "XNQPL2aRiibh",
        "outputId": "73de2f48-5a52-42f7-c7b1-bd14f5eb8603"
      },
      "execution_count": null,
      "outputs": [
        {
          "output_type": "execute_result",
          "data": {
            "text/plain": [
              "array(['Tarrant', 'Dallas', 'Denton', 'Winnebago', 'Delaware', 'York',\n",
              "       'Lancaster', 'Franklin', 'Luzerne', 'Mecklenburg', 'Lehigh',\n",
              "       'Berks', 'Webb', 'Clackamas', 'DuPage', 'Harris', 'Washoe',\n",
              "       'Baltimore', 'Multnomah', 'Stanislaus', 'Alameda', 'Richmond',\n",
              "       'Brown', 'Pulaski', 'Clayton', 'Chatham', 'Onondaga', 'Queens',\n",
              "       'Orange', 'Sarpy', 'Madison', 'Salt Lake', 'DeKalb', 'Wayne',\n",
              "       'Jefferson', 'Davis', 'Summit', 'Hidalgo', 'Adams', 'Mesa',\n",
              "       'Tulare', 'Jefferson', 'Miami-Dade', 'Duval', 'Lucas', 'Loudoun',\n",
              "       'Hudson', 'Essex', 'Union', 'Canyon', 'Yellowstone', 'Pierce',\n",
              "       'Yakima', 'San Mateo', 'San Joaquin', 'Spartanburg', 'Mobile',\n",
              "       'Greenville', 'Polk', 'Marion', 'Norfolk', 'El Paso', 'Camden',\n",
              "       'Minnehaha', 'Clay', 'Will', 'Cook', 'San Bernardino', 'Riverside',\n",
              "       'Davidson', 'Butler', 'Knox', 'Hamilton', 'Polk', 'Cameron',\n",
              "       'Los Angeles', 'Lake', 'Marion', 'Shelby', 'Chesapeake',\n",
              "       'Burlington', 'Middlesex', 'Greene', 'Kern', 'Dakota', 'Guilford'],\n",
              "      dtype=object)"
            ]
          },
          "metadata": {},
          "execution_count": 27
        }
      ]
    },
    {
      "cell_type": "code",
      "source": [
        "fig, ax = plt.subplots(figsize=(10,10))\n",
        "states.plot(ax=ax, color = \"none\", edgecolor=\"k\", lw = 0.1)\n",
        "\n",
        "fig.show()"
      ],
      "metadata": {
        "id": "XB-iwgak2YA1",
        "outputId": "583fb675-1d53-4c89-f383-d9ef48e67d52",
        "colab": {
          "base_uri": "https://localhost:8080/",
          "height": 477
        }
      },
      "execution_count": null,
      "outputs": [
        {
          "output_type": "display_data",
          "data": {
            "text/plain": [
              "<Figure size 1000x1000 with 1 Axes>"
            ],
            "image/png": "[encoded data removed]"
          },
          "metadata": {}
        }
      ]
    },
    {
      "cell_type": "code",
      "source": [
        "LC = []\n",
        "for year in range(1998,2022):\n",
        "  LC.append(len(cbp[(cbp.LEP>0.001)&(cbp.HCLQ>0)&(cbp.year==year)]))\n",
        "plt.plot(list(range(1998,2022)), LC)"
      ],
      "metadata": {
        "colab": {
          "base_uri": "https://localhost:8080/",
          "height": 447
        },
        "id": "Ae2vlc2AmqDT",
        "outputId": "6f2735ee-119e-4146-ef9c-1edb5998fc82"
      },
      "execution_count": null,
      "outputs": [
        {
          "output_type": "execute_result",
          "data": {
            "text/plain": [
              "[<matplotlib.lines.Line2D at 0x7820ebb5b6a0>]"
            ]
          },
          "metadata": {},
          "execution_count": 12
        },
        {
          "output_type": "display_data",
          "data": {
            "text/plain": [
              "<Figure size 640x480 with 1 Axes>"
            ],
            "image/png": "[encoded data removed]"
          },
          "metadata": {}
        }
      ]
    },
    {
      "cell_type": "code",
      "source": [
        "cbp[\"LC\"] = cbp.apply(lambda row: 1 if (row.LEP>0.001)&(row.HCLQ>0) else 0, axis=1)"
      ],
      "metadata": {
        "id": "0-rGjUgapr3R"
      },
      "execution_count": null,
      "outputs": []
    },
    {
      "cell_type": "code",
      "source": [
        "len (cbp[(cbp.LC==1)&(cbp.year==2008)])"
      ],
      "metadata": {
        "id": "2LRfgvdnqV28",
        "outputId": "aba67d4b-e6f2-4da0-be31-9f358a73b8c9",
        "colab": {
          "base_uri": "https://localhost:8080/"
        }
      },
      "execution_count": null,
      "outputs": [
        {
          "output_type": "execute_result",
          "data": {
            "text/plain": [
              "86"
            ]
          },
          "metadata": {},
          "execution_count": 14
        }
      ]
    },
    {
      "cell_type": "markdown",
      "source": [
        "#5. PROBLEM SOLUTION"
      ],
      "metadata": {
        "id": "PHET5dqCFUUi"
      }
    }
  ]
}