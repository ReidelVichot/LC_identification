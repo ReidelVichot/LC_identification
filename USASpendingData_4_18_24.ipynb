{
  "nbformat": 4,
  "nbformat_minor": 0,
  "metadata": {
    "colab": {
      "provenance": [],
      "include_colab_link": true
    },
    "kernelspec": {
      "name": "python3",
      "display_name": "Python 3"
    },
    "language_info": {
      "name": "python"
    }
  },
  "cells": [
    {
      "cell_type": "markdown",
      "metadata": {
        "id": "view-in-github",
        "colab_type": "text"
      },
      "source": [
        "<a href=\"https://colab.research.google.com/github/ReidelVichot/LC_identification/blob/main/USASpendingData_4_18_24.ipynb\" target=\"_parent\"><img src=\"https://colab.research.google.com/assets/colab-badge.svg\" alt=\"Open In Colab\"/></a>"
      ]
    },
    {
      "cell_type": "code",
      "execution_count": null,
      "metadata": {
        "colab": {
          "base_uri": "https://localhost:8080/"
        },
        "id": "xGkTfoGkwCQ3",
        "outputId": "c295b250-8773-466e-e9bb-d61d002a7bb9"
      },
      "outputs": [
        {
          "output_type": "stream",
          "name": "stdout",
          "text": [
            "Drive already mounted at /content/drive; to attempt to forcibly remount, call drive.mount(\"/content/drive\", force_remount=True).\n"
          ]
        }
      ],
      "source": [
        "from google.colab import drive\n",
        "drive.mount('/content/drive')"
      ]
    },
    {
      "cell_type": "code",
      "source": [
        "import numpy as np\n",
        "import pandas as pd\n",
        "import matplotlib.pyplot as plt\n",
        "import geopandas as gpd\n",
        "import time\n",
        "\n",
        "# -- this line is to make pandas future-proof, Copy-on-Write will become the default in pandas 3.0.\n",
        "pd.options.mode.copy_on_write = True\n",
        "\n",
        "# -- Set the data path\n",
        "dpath = \"/content/drive/MyDrive/Disertation/\"\n",
        "fname = \"USASpendingData/PrimeTransactionsAndSubawards_2024-03-28_H20M13S03380006/Assistance_PrimeTransactions_2024-03-28_H20M13S55_1.csv\"\n"
      ],
      "metadata": {
        "id": "rNHEDhHywQtx"
      },
      "execution_count": null,
      "outputs": []
    },
    {
      "cell_type": "code",
      "source": [
        "df = pd.read_csv(dpath + fname, low_memory = False)"
      ],
      "metadata": {
        "id": "1igxYn7xwV9i"
      },
      "execution_count": null,
      "outputs": []
    },
    {
      "cell_type": "code",
      "source": [
        "# columns of interest:\n",
        "# federal_action_obligation : Amount of Federal Government's obligation,\n",
        "#       de-obligation, or liability in dollars for an award transaction. It\n",
        "#       is what the governemnt promises to pay to non-federal recipients.\n",
        "# total_obligated_amount : Sum of all the amounts entered in the Action\n",
        "#       Obligation field.\n",
        "# indirect_cost_federal_share_amount : Amount of any single Federal award that\n",
        "#       it is allocated to indirect costs according to the approved budget.\n",
        "# generated_pragmatic_obligations\n",
        "# non_federal_funding_amount: Amount of the award funded by non-Federal sources\n",
        "# total_non_federal_funding_amount: The amount of the total award funded by non-\n",
        "#       Federal sources.\n",
        "# action_date : The date the action being reported was issued / signed by the\n",
        "#       Government or a binding agreement was reached.\n",
        "# action_date_fiscal_year : Note that the Federal fiscal year begins on\n",
        "#       October 1 and ends on September 30, thus October 1, 2018 is the\n",
        "#       first day of the 2019 fiscal year.\n",
        "# period_of_performance_start_date : The Period of Performance is defined in\n",
        "#       the 2 CFR 200 as the total estimated time interval between the start of\n",
        "#       an initial Federal award and the planned end date, which may include\n",
        "#       one or more funded portions, or budget periods.\n",
        "# period_of_performance_current_end_date : The contract completion date based\n",
        "#       on the schedule in the contract. For an initial award, this is the\n",
        "#       scheduled completion date for the base contract and for any options\n",
        "#       exercised at time of award.\n",
        "# assistance_transaction_unique_key : System-generated database key used to\n",
        "#       uniquely identify each financial assistance transaction record and\n",
        "#       facilitate record lookup, correction, and deletion. A concatenation\n",
        "#       of AwardingSubTierAgencyCode, FAIN, URI, AssistanceListingNumber, and\n",
        "#       AwardModificationAmendmentNumber with a single underscore ('_')\n",
        "#       character inserted in between each. If a field is blank, it is\n",
        "#       recorded as \"\".\n",
        "# recipient_address_line_1\n",
        "# recipient_address_line_2\n",
        "# recipient_city_code\n",
        "# recipient_city_name\n",
        "# prime_award_transaction_recipient_county_fips_code\n",
        "# recipient_county_name\n",
        "# prime_award_transaction_recipient_state_fips_code\n",
        "# recipient_state_code\n",
        "# recipient_state_name\n",
        "# recipient_zip_code\n"
      ],
      "metadata": {
        "id": "MCLVyScedcFx"
      },
      "execution_count": null,
      "outputs": []
    },
    {
      "cell_type": "code",
      "source": [
        "cols = ['federal_action_obligation', 'total_obligated_amount', \"generated_pragmatic_obligations\",\n",
        "        'indirect_cost_federal_share_amount', 'non_federal_funding_amount',\n",
        "        'action_date', 'action_date_fiscal_year', 'period_of_performance_start_date',\n",
        "        'period_of_performance_current_end_date', 'assistance_transaction_unique_key',\n",
        "        'recipient_address_line_1', 'recipient_address_line_2', 'recipient_city_code',\n",
        "        'recipient_city_name', 'prime_award_transaction_recipient_county_fips_code',\n",
        "        'recipient_county_name', 'prime_award_transaction_recipient_state_fips_code',\n",
        "        'recipient_state_code', 'recipient_state_name', 'recipient_zip_code']\n",
        "df = df[cols]"
      ],
      "metadata": {
        "id": "NwUfW7f5jr-V"
      },
      "execution_count": null,
      "outputs": []
    },
    {
      "cell_type": "code",
      "source": [
        "colsname = [\"State\", \"State_fips\", \"County_fips\", \"County_name\", \"FIPS_class\"]\n",
        "from_census = \"https://www2.census.gov/geo/docs/reference/codes/files/national_county.txt\"\n",
        "county_fips = pd.read_csv(from_census, names=colsname, header=None)\n",
        "county_fips = county_fips.drop(columns=\"FIPS_class\")\n",
        "county_fips[\"GEOID\"] =  county_fips.State_fips.astype(str).str.zfill(2) + county_fips.County_fips.astype(str).str.zfill(3)"
      ],
      "metadata": {
        "id": "qxO6EzbYhExE"
      },
      "execution_count": null,
      "outputs": []
    },
    {
      "cell_type": "code",
      "source": [
        "# Removing Foreign investment\n",
        "df = df[df[\"recipient_city_code\"] != \"FORGN\"]\n",
        "# Removing NaN fips codes\n",
        "df = df[~df.prime_award_transaction_recipient_state_fips_code.isna()]"
      ],
      "metadata": {
        "id": "oCaq2A5gw4SP"
      },
      "execution_count": null,
      "outputs": []
    }
  ]
}