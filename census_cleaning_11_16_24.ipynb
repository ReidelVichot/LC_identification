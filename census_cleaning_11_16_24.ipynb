{
  "nbformat": 4,
  "nbformat_minor": 0,
  "metadata": {
    "colab": {
      "provenance": [],
      "authorship_tag": "ABX9TyP+XelhlCNpi0+SoTgudVib",
      "include_colab_link": true
    },
    "kernelspec": {
      "name": "python3",
      "display_name": "Python 3"
    },
    "language_info": {
      "name": "python"
    }
  },
  "cells": [
    {
      "cell_type": "markdown",
      "metadata": {
        "id": "view-in-github",
        "colab_type": "text"
      },
      "source": [
        "<a href=\"https://colab.research.google.com/github/ReidelVichot/LC_identification/blob/main/census_cleaning_11_16_24.ipynb\" target=\"_parent\"><img src=\"https://colab.research.google.com/assets/colab-badge.svg\" alt=\"Open In Colab\"/></a>"
      ]
    },
    {
      "cell_type": "markdown",
      "source": [
        "#Problem Definition"
      ],
      "metadata": {
        "id": "eG3tfVqrmy9r"
      }
    },
    {
      "cell_type": "markdown",
      "source": [
        "Background\n",
        "\n",
        "There seems to be a relationship between the agglomeration of logistical activiey and air pollution. To assess this relationship, the author will use a difference in difference natural experiment design with a synthetic control group. The level of analysis is US contigous counties from 1998 to 2022.\n",
        "\n",
        "Problem\n",
        "\n",
        "To conduct a synthetic control group analysis, we need to have a set of covariates and controls to construct this synthetic control group. Using information from the US census, we can construct a set of variables that includes covariates and control variables for the analysis.\n",
        "I will get variables for each county and each year, including total population, share of white, share of male, age groups, industries, and time of commuting."
      ],
      "metadata": {
        "id": "l620rnyTm3J7"
      }
    },
    {
      "cell_type": "markdown",
      "source": [
        "#Data Collection"
      ],
      "metadata": {
        "id": "Ah8QYW1Mmvbn"
      }
    },
    {
      "cell_type": "code",
      "execution_count": 13,
      "metadata": {
        "colab": {
          "base_uri": "https://localhost:8080/"
        },
        "id": "-xA9xOXFmlX3",
        "outputId": "99b00a01-fed6-4c67-f5c2-014fea293103"
      },
      "outputs": [
        {
          "output_type": "stream",
          "name": "stdout",
          "text": [
            "Drive already mounted at /content/drive; to attempt to forcibly remount, call drive.mount(\"/content/drive\", force_remount=True).\n"
          ]
        }
      ],
      "source": [
        "from google.colab import drive\n",
        "drive.mount('/content/drive')"
      ]
    },
    {
      "cell_type": "code",
      "source": [
        "# -- import libraries\n",
        "import pandas as pd\n",
        "import numpy as np\n",
        "import matplotlib.pyplot as plt\n"
      ],
      "metadata": {
        "id": "za9GI3urwWy5"
      },
      "execution_count": 39,
      "outputs": []
    },
    {
      "cell_type": "code",
      "source": [
        "# -- set directory path\n",
        "dpath = \"/content/drive/MyDrive/Disertation/Census/\"\n",
        "fname = \"DECENNIALDPSF42000.DP1-Data.csv\"\n",
        "# -- create dataframes\n",
        "decennial_00 = pd.read_csv(dpath + fname, skiprows=1)\n",
        "# -- add year variable\n",
        "decennial_00[\"year\"] = 2000"
      ],
      "metadata": {
        "id": "z7dmnjgFwXjJ"
      },
      "execution_count": 49,
      "outputs": []
    },
    {
      "cell_type": "markdown",
      "source": [
        "#Data Cleaning"
      ],
      "metadata": {
        "id": "pPc8SZTc0TTk"
      }
    },
    {
      "cell_type": "markdown",
      "source": [
        "##Decennial 2000"
      ],
      "metadata": {
        "id": "pgC093MFDcZT"
      }
    },
    {
      "cell_type": "code",
      "source": [
        "# -- create GEOID\n",
        "decennial_00[\"GEOID\"] = decennial_00.Geography.str[-5:]\n",
        "\n",
        "# -- select necesary columns\n",
        "cols = ['GEOID','Geography', 'Geographic Area Name', 'Race/Ethnic Group',\n",
        "       'Population Groups', 'Number!!Total population',\n",
        "       'Number!!Total population!!SEX AND AGE!!Male',\n",
        "       'Number!!Total population!!SEX AND AGE!!Female',\n",
        "       'Number!!Total population!!SEX AND AGE!!Under 5 years',\n",
        "       'Number!!Total population!!SEX AND AGE!!5 to 9 years',\n",
        "       'Number!!Total population!!SEX AND AGE!!10 to 14 years',\n",
        "       'Number!!Total population!!SEX AND AGE!!15 to 19 years',\n",
        "       'Number!!Total population!!SEX AND AGE!!20 to 24 years',\n",
        "       'Number!!Total population!!SEX AND AGE!!25 to 34 years',\n",
        "       'Number!!Total population!!SEX AND AGE!!35 to 44 years',\n",
        "       'Number!!Total population!!SEX AND AGE!!45 to 54 years',\n",
        "       'Number!!Total population!!SEX AND AGE!!55 to 59 years',\n",
        "       'Number!!Total population!!SEX AND AGE!!60 to 64 years',\n",
        "       'Number!!Total population!!SEX AND AGE!!65 to 74 years',\n",
        "       'Number!!Total population!!SEX AND AGE!!75 to 84 years',\n",
        "       'Number!!Total population!!SEX AND AGE!!85 years and over',\n",
        "       'Number!!Total population!!SEX AND AGE!!Median age (years)',\n",
        "       'Number!!HOUSEHOLDS BY TYPE!!Households',\n",
        "       'Number!!HOUSEHOLDS BY TYPE!!Households!!Average household size',\n",
        "       'year']\n",
        "\n",
        "decennial_00 = decennial_00[cols]"
      ],
      "metadata": {
        "id": "OwG6iiZyxmyA"
      },
      "execution_count": 50,
      "outputs": []
    },
    {
      "cell_type": "markdown",
      "source": [
        "###Checking Each Column"
      ],
      "metadata": {
        "id": "mGGXZO4UsdX1"
      }
    },
    {
      "cell_type": "code",
      "source": [
        "# Columns to remove\n",
        "#decennial_00.drop(columns=[\"Geographic Area Name\"], inplace=True)\n",
        "#decennial_00.drop(columns='Number!!HOUSEHOLDS BY TYPE!!Households!!Family households (families)!!Female householder, no husband present', inplace=True)\n",
        "#decennial_00.drop(columns='Percent!!HOUSEHOLDS BY TYPE!!Households!!Family households (families)!!Female householder, no husband present', inplace=True)\n",
        "#decennial_00.drop(columns='Number!!HOUSEHOLDS BY TYPE!!Households!!Family households (families)!!Female householder, no husband present!!With own children under 18 years', inplace=True)\n",
        "#decennial_00.drop(columns='Percent!!HOUSEHOLDS BY TYPE!!Households!!Family households (families)!!Female householder, no husband present!!With own children under 18 years', inplace=True)\n",
        "#decennial_00.drop(columns='Number!!HOUSEHOLDS BY TYPE!!Households!!Nonfamily households', inplace=True)\n",
        "#decennial_00.drop(columns='Percent!!HOUSEHOLDS BY TYPE!!Households!!Nonfamily households', inplace=True)\n",
        "#decennial_00.drop(columns='Number!!HOUSEHOLDS BY TYPE!!Households!!Nonfamily households!!Householder living alone', inplace=True)\n",
        "#decennial_00.drop(columns='Percent!!HOUSEHOLDS BY TYPE!!Households!!Nonfamily households!!Householder living alone', inplace=True)\n",
        "#decennial_00.drop(columns='Number!!HOUSEHOLDS BY TYPE!!Households!!Nonfamily households!!Householder living alone!!Householder 65 years and over', inplace=True)\n",
        "#decennial_00.drop(columns='Percent!!HOUSEHOLDS BY TYPE!!Households!!Nonfamily households!!Householder living alone!!Householder 65 years and over', inplace=True)\n",
        "#decennial_00.drop(columns='Number!!HOUSEHOLDS BY TYPE!!Households!!Households with individuals under 18 years', inplace=True)\n",
        "#decennial_00.drop(columns='Percent!!HOUSEHOLDS BY TYPE!!Households!!Households with individuals under 18 years', inplace=True)\n",
        "#decennial_00.drop(columns='Number!!HOUSEHOLDS BY TYPE!!Households!!Households with individuals 65 years and over', inplace=True)\n",
        "#decennial_00.drop(columns='Percent!!HOUSEHOLDS BY TYPE!!Households!!Households with individuals 65 years and over', inplace=True)\n",
        "#decennial_00.drop(columns='Number!!HOUSING TENURE!!Occupied housing units!!Owner-occupied housing units', inplace=True)\n",
        "#decennial_00.drop(columns='Percent!!HOUSING TENURE!!Occupied housing units!!Owner-occupied housing units', inplace=True)\n",
        "#decennial_00.drop(columns='Number!!HOUSING TENURE!!Occupied housing units!!Renter-occupied housing units', inplace=True)\n",
        "#decennial_00.drop(columns='Percent!!HOUSING TENURE!!Occupied housing units!!Renter-occupied housing units', inplace=True)\n",
        "#decennial_00.drop(columns='Number!!HOUSING TENURE!!Occupied housing units!!Average household size of owner-occupied unit',inplace=True)\n",
        "#decennial_00.drop(columns='Percent!!HOUSING TENURE!!Occupied housing units!!Average household size of owner-occupied unit', inplace=True)\n",
        "#decennial_00.drop(columns='Number!!HOUSING TENURE!!Occupied housing units!!Average household size of renter-occupied unit', inplace=True)\n",
        "#decennial_00.drop(columns='Percent!!HOUSING TENURE!!Occupied housing units!!Average household size of renter-occupied unit', inplace=True)\n",
        "#decennial_00.drop(columns='Number!!HOUSEHOLDS BY TYPE!!Households!!Average family size', inplace=True)\n",
        "#decennial_00.drop(columns='Percent!!HOUSEHOLDS BY TYPE!!Households!!Average family size', inplace=True)\n",
        "#decennial_00.drop(columns='Number!!HOUSING TENURE!!Occupied housing units', inplace=True)\n",
        "#decennial_00.drop(columns='Percent!!HOUSING TENURE!!Occupied housing units', inplace=True)\n",
        "#decennial_00.drop(columns='Number!!HOUSEHOLDS BY TYPE!!Households!!Family households (families)', inplace=True)\n",
        "#decennial_00.drop(columns='Percent!!HOUSEHOLDS BY TYPE!!Households!!Family households (families)', inplace=True)\n",
        "#decennial_00.drop(columns='Number!!HOUSEHOLDS BY TYPE!!Households!!Family households (families)!!With own children under 18 years', inplace=True)\n",
        "#decennial_00.drop(columns='Percent!!HOUSEHOLDS BY TYPE!!Households!!Family households (families)!!With own children under 18 years', inplace=True)\n",
        "#decennial_00.drop(columns='Number!!HOUSEHOLDS BY TYPE!!Households!!Family households (families)!!Married-couple family', inplace=True)\n",
        "#decennial_00.drop(columns='Percent!!HOUSEHOLDS BY TYPE!!Households!!Family households (families)!!Married-couple family', inplace=True)\n",
        "#decennial_00.drop(columns='Number!!HOUSEHOLDS BY TYPE!!Households!!Family households (families)!!Married-couple family!!With own children under 18 years', inplace=True)\n",
        "#decennial_00.drop(columns='Percent!!HOUSEHOLDS BY TYPE!!Households!!Family households (families)!!Married-couple family!!With own children under 18 years', inplace=True)\n",
        "#decennial_00.drop(columns='Percent!!RELATIONSHIP!!Population!!In households!!Other relatives', inplace=True)\n",
        "#decennial_00.drop(columns='Number!!RELATIONSHIP!!Population!!In households!!Other relatives!!Under 18 years', inplace=True)\n",
        "#decennial_00.drop(columns='Percent!!RELATIONSHIP!!Population!!In households!!Other relatives!!Under 18 years', inplace=True)\n",
        "#decennial_00.drop(columns='Number!!RELATIONSHIP!!Population!!In households!!Nonrelatives', inplace=True)\n",
        "#decennial_00.drop(columns='Percent!!RELATIONSHIP!!Population!!In households!!Nonrelatives', inplace=True)\n",
        "#decennial_00.drop(columns='Number!!RELATIONSHIP!!Population!!In households!!Nonrelatives!!Unmarried partner', inplace=True)\n",
        "#decennial_00.drop(columns='Percent!!RELATIONSHIP!!Population!!In households!!Nonrelatives!!Unmarried partner', inplace=True)\n",
        "#decennial_00.drop(columns='Number!!RELATIONSHIP!!Population!!In group quarters', inplace=True)\n",
        "#decennial_00.drop(columns='Percent!!RELATIONSHIP!!Population!!In group quarters', inplace=True)\n",
        "#decennial_00.drop(columns='Number!!RELATIONSHIP!!Population!!In group quarters!!Institutionalized population', inplace=True)\n",
        "#decennial_00.drop(columns='Percent!!RELATIONSHIP!!Population!!In group quarters!!Institutionalized population', inplace=True)\n",
        "#decennial_00.drop(columns='Number!!RELATIONSHIP!!Population!!In group quarters!!Noninstitutionalized population', inplace=True)\n",
        "#decennial_00.drop(columns='Percent!!RELATIONSHIP!!Population!!In group quarters!!Noninstitutionalized population', inplace=True)\n",
        "#decennial_00.drop(columns='Number!!RELATIONSHIP!!Population', inplace=True)\n",
        "#decennial_00.drop(columns='Percent!!RELATIONSHIP!!Population', inplace=True)\n",
        "#decennial_00.drop(columns='Number!!RELATIONSHIP!!Population!!In households', inplace= True)\n",
        "#decennial_00.drop(columns='Percent!!RELATIONSHIP!!Population!!In households', inplace= True)\n",
        "#decennial_00.drop(columns='Number!!RELATIONSHIP!!Population!!In households!!Householder', inplace= True)\n",
        "#decennial_00.drop(columns='Percent!!RELATIONSHIP!!Population!!In households!!Householder', inplace= True)\n",
        "#decennial_00.drop(columns='Number!!RELATIONSHIP!!Population!!In households!!Spouse', inplace= True)\n",
        "#decennial_00.drop(columns='Percent!!RELATIONSHIP!!Population!!In households!!Spouse', inplace= True)\n",
        "#decennial_00.drop(columns='Number!!RELATIONSHIP!!Population!!In households!!Child', inplace= True)\n",
        "#decennial_00.drop(columns='Percent!!RELATIONSHIP!!Population!!In households!!Child', inplace= True)\n",
        "#decennial_00.drop(columns='Number!!RELATIONSHIP!!Population!!In households!!Child!!Own child under 18 years', inplace= True)\n",
        "#decennial_00.drop(columns='Percent!!RELATIONSHIP!!Population!!In households!!Child!!Own child under 18 years', inplace= True)\n",
        "#decennial_00.drop(columns='Number!!RELATIONSHIP!!Population!!In households!!Other relatives', inplace= True)\n",
        "#decennial_00.drop(columns='Number!!Total population!!SEX AND AGE!!65 years and over!!Male' , inplace=True)\n",
        "#decennial_00.drop(columns='Percent!!Total population!!SEX AND AGE!!65 years and over!!Male' , inplace=True)\n",
        "#decennial_00.drop(columns='Number!!Total population!!SEX AND AGE!!65 years and over!!Female' , inplace= True)\n",
        "#decennial_00.drop(columns='Percent!!Total population!!SEX AND AGE!!65 years and over!!Female' , inplace= True)\n",
        "#decennial_00.drop(columns='Number!!Total population!!SEX AND AGE!!18 years and over', inplace=True)\n",
        "#decennial_00.drop(columns='Percent!!Total population!!SEX AND AGE!!18 years and over', inplace=True)\n",
        "#decennial_00.drop(columns='Number!!Total population!!SEX AND AGE!!18 years and over!!Male', inplace= True)\n",
        "#decennial_00.drop(columns='Percent!!Total population!!SEX AND AGE!!18 years and over!!Male', inplace= True)\n",
        "#decennial_00.drop(columns='Number!!Total population!!SEX AND AGE!!18 years and over!!Female', inplace=True)\n",
        "#decennial_00.drop(columns='Percent!!Total population!!SEX AND AGE!!18 years and over!!Female', inplace=True)\n",
        "#decennial_00.drop(columns='Number!!Total population!!SEX AND AGE!!21 years and over', inplace= True)\n",
        "#decennial_00.drop(columns='Percent!!Total population!!SEX AND AGE!!21 years and over', inplace= True)\n",
        "#decennial_00.drop(columns='Number!!Total population!!SEX AND AGE!!62 years and over', inplace=True)\n",
        "#decennial_00.drop(columns='Percent!!Total population!!SEX AND AGE!!62 years and over', inplace=True)\n",
        "#decennial_00.drop(columns='Number!!Total population!!SEX AND AGE!!65 years and over', inplace= True)\n",
        "#decennial_00.drop(columns='Percent!!Total population!!SEX AND AGE!!65 years and over', inplace= True)\n",
        "#decennial_00.drop(columns='Percent!!Total population', inplace= True)\n",
        "#decennial_00.drop(columns='Percent!!Total population!!SEX AND AGE!!Male', inplace=True)\n",
        "#decennial_00.drop(columns='Percent!!Total population!!SEX AND AGE!!Female', inplace=True)\n",
        "#decennial_00.drop(columns='Percent!!Total population!!SEX AND AGE!!Under 5 years', inplace= True)\n",
        "#decennial_00.drop(columns='Percent!!Total population!!SEX AND AGE!!5 to 9 years', inplace= True)\n",
        "#decennial_00.drop(columns='Percent!!Total population!!SEX AND AGE!!10 to 14 years', inplace= True)\n",
        "#decennial_00.drop(columns='Percent!!Total population!!SEX AND AGE!!15 to 19 years', inplace=True)\n",
        "#decennial_00.drop(columns='Percent!!Total population!!SEX AND AGE!!20 to 24 years', inplace=True)\n",
        "#decennial_00.drop(columns='Percent!!Total population!!SEX AND AGE!!25 to 34 years', inplace= True)\n",
        "#decennial_00.drop(columns='Percent!!Total population!!SEX AND AGE!!35 to 44 years', inplace= True)\n",
        "#decennial_00.drop(columns='Percent!!Total population!!SEX AND AGE!!45 to 54 years', inplace= True)\n",
        "#decennial_00.drop(columns='Percent!!Total population!!SEX AND AGE!!55 to 59 years', inplace=True)\n",
        "#decennial_00.drop(columns='Percent!!Total population!!SEX AND AGE!!60 to 64 years', inplace=True)\n",
        "#decennial_00.drop(columns='Percent!!Total population!!SEX AND AGE!!65 to 74 years', inplace= True)\n",
        "#decennial_00.drop(columns='Percent!!Total population!!SEX AND AGE!!75 to 84 years', inplace= True)\n",
        "#decennial_00.drop(columns='Percent!!Total population!!SEX AND AGE!!85 years and over', inplace= True)\n",
        "#decennial_00.drop(columns='Percent!!Total population!!SEX AND AGE!!Median age (years)', inplace=True)\n",
        "#decennial_00.drop(columns='Percent!!HOUSEHOLDS BY TYPE!!Households', inplace=True)\n",
        "#decennial_00.drop(columns='Percent!!HOUSEHOLDS BY TYPE!!Households!!Average household size', inplace= True)\n",
        "#decennial_00.drop(columns='Unnamed: 118', inplace= True)\n"
      ],
      "metadata": {
        "id": "lEQzUYQP5tPW"
      },
      "execution_count": null,
      "outputs": []
    },
    {
      "cell_type": "markdown",
      "source": [
        "###Continuing Code"
      ],
      "metadata": {
        "id": "UBuMUBYLsltX"
      }
    },
    {
      "cell_type": "code",
      "source": [
        "# -- rename columns for simplicity\n",
        "renamed_columns = {'Number!!Total population': \"total_population\",\n",
        "                   'Number!!Total population!!SEX AND AGE!!Male': \"male\",\n",
        "                   'Number!!Total population!!SEX AND AGE!!Female': \"female\",\n",
        "                   'Number!!Total population!!SEX AND AGE!!Under 5 years': \"under_5_years\",\n",
        "                   'Number!!Total population!!SEX AND AGE!!5 to 9 years': '5_to_9_years',\n",
        "                   'Number!!Total population!!SEX AND AGE!!10 to 14 years': '10_to_14_years',\n",
        "                   'Number!!Total population!!SEX AND AGE!!15 to 19 years': '15_to_19_years',\n",
        "                   'Number!!Total population!!SEX AND AGE!!20 to 24 years': '20_to_24_years',\n",
        "                   'Number!!Total population!!SEX AND AGE!!25 to 34 years': '25_to_34_years',\n",
        "                   'Number!!Total population!!SEX AND AGE!!35 to 44 years': '35_to_44_years',\n",
        "                   'Number!!Total population!!SEX AND AGE!!45 to 54 years': '45_to_54_years',\n",
        "                   'Number!!Total population!!SEX AND AGE!!55 to 59 years': '55_to_59_years',\n",
        "                   'Number!!Total population!!SEX AND AGE!!60 to 64 years': '60_to_64_years',\n",
        "                   'Number!!Total population!!SEX AND AGE!!65 to 74 years': '65_to_74_years',\n",
        "                   'Number!!Total population!!SEX AND AGE!!75 to 84 years': '75_to_84_years',\n",
        "                   'Number!!Total population!!SEX AND AGE!!85 years and over': '85_years_and_over',\n",
        "                   'Number!!Total population!!SEX AND AGE!!Median age (years)': 'median_age',\n",
        "                   'Number!!HOUSEHOLDS BY TYPE!!Households': 'households',\n",
        "                   'Number!!HOUSEHOLDS BY TYPE!!Households!!Average household size': 'average_household_size'}\n",
        "decennial_00.rename(columns=renamed_columns, inplace=True)\n",
        "\n",
        "# -- create age groups\n",
        "decennial_00[\"Age < 15\"] = decennial_00['under_5_years'] + decennial_00['5_to_9_years'] + decennial_00['10_to_14_years']\n",
        "decennial_00[\"Age 15-24\"] = decennial_00['15_to_19_years'] + decennial_00['20_to_24_years']\n",
        "decennial_00[\"Age 25-44\"] = decennial_00['25_to_34_years'] + decennial_00['35_to_44_years']\n",
        "decennial_00[\"Age 45-64\"] = decennial_00['45_to_54_years'] + decennial_00['55_to_59_years'] + decennial_00['60_to_64_years']\n",
        "decennial_00[\"Age >= 65\"] = decennial_00['65_to_74_years'] + decennial_00['75_to_84_years'] + decennial_00['85_years_and_over']\n",
        "\n",
        "# -- drop unnecesary columns\n",
        "decennial_00.drop(columns= ['under_5_years', '5_to_9_years', '10_to_14_years',\n",
        "                            '15_to_19_years', '20_to_24_years', '25_to_34_years',\n",
        "                            '35_to_44_years', '45_to_54_years', '55_to_59_years',\n",
        "                            '60_to_64_years', '65_to_74_years', '75_to_84_years',\n",
        "                            '85_years_and_over'], inplace=True)\n",
        "\n",
        "# -- create a variable for white population\n",
        "white = decennial_00[decennial_00[\"Race/Ethnic Group\"] == 2][[\"total_population\"]].values.copy()\n",
        "\n",
        "# -- add variable to the decennial dataframe\n",
        "decennial_00 = decennial_00[decennial_00['Race/Ethnic Group'] == 1].reset_index(drop=True)\n",
        "decennial_00[\"white\"] = white\n",
        "del white\n",
        "\n",
        "decennial_00.drop(columns=['Geography', 'Geographic Area Name',\n",
        "                           'Race/Ethnic Group', 'Population Groups'], inplace=True)\n",
        "\n",
        "# -- organize columns\n",
        "cols = ['GEOID', 'year', 'total_population', 'white', 'male', 'female', 'median_age',\n",
        "       'households', 'average_household_size', 'Age < 15', 'Age 15-24',\n",
        "       'Age 25-44', 'Age 45-64', 'Age >= 65']\n",
        "decennial_00 = decennial_00[cols]\n",
        "decennial_00.head()"
      ],
      "metadata": {
        "id": "T09T9NQNdTud"
      },
      "execution_count": 51,
      "outputs": []
    },
    {
      "cell_type": "markdown",
      "source": [
        "##ACS 2010"
      ],
      "metadata": {
        "id": "MTJRAJBhDmW5"
      }
    },
    {
      "cell_type": "code",
      "source": [
        "fname = \"ACSST1Y2010.S0101-Data.csv\"\n",
        "acs1_10 = pd.read_csv(dpath + dfname, skiprows=1)\n",
        "fname = \"ACSST5Y2010.S0101-Data.csv\"\n",
        "acs5_10 = pd.read_csv(dpath + fname, skiprows=1)"
      ],
      "metadata": {
        "id": "J96ffqCoAFMm"
      },
      "execution_count": 72,
      "outputs": []
    },
    {
      "cell_type": "code",
      "source": [
        "# -- create GEOID\n",
        "acs5_10[\"GEOID\"] = acs5_10.Geography.str[-5:]\n",
        "\n",
        "\n",
        "\n"
      ],
      "metadata": {
        "id": "ko2j5PoRC614"
      },
      "execution_count": 74,
      "outputs": []
    },
    {
      "cell_type": "code",
      "source": [
        "# -- drop columns\n"
      ],
      "metadata": {
        "id": "wBMM5DSzHd_n"
      },
      "execution_count": null,
      "outputs": []
    },
    {
      "cell_type": "code",
      "source": [
        "acs5_10.drop(columns=['Geography', 'Geographic Area Name'], inplace=True)\n",
        "acs5_10.drop(columns=['Total!!Margin of Error!!Total population'], inplace=True)\n",
        "acs5_10.drop(columns=['Male!!Margin of Error!!Total population'], inplace=True)\n",
        "acs5_10.drop(columns=['Female!!Margin of Error!!Total population'], inplace=True)\n",
        "acs5_10.drop(columns=['Male!!Estimate!!AGE!!Under 5 years',\n",
        "       'Male!!Margin of Error!!AGE!!Under 5 years',\n",
        "       'Female!!Estimate!!AGE!!Under 5 years',\n",
        "       'Female!!Margin of Error!!AGE!!Under 5 years',\n",
        "       'Total!!Estimate!!AGE!!5 to 9 years',\n",
        "       'Total!!Margin of Error!!AGE!!5 to 9 years',\n",
        "       'Male!!Estimate!!AGE!!5 to 9 years',\n",
        "       'Male!!Margin of Error!!AGE!!5 to 9 years',\n",
        "       'Female!!Estimate!!AGE!!5 to 9 years',\n",
        "       'Female!!Margin of Error!!AGE!!5 to 9 years',\n",
        "       'Total!!Estimate!!AGE!!10 to 14 years',\n",
        "       'Total!!Margin of Error!!AGE!!10 to 14 years',\n",
        "       'Male!!Estimate!!AGE!!10 to 14 years',\n",
        "       'Male!!Margin of Error!!AGE!!10 to 14 years',\n",
        "       'Female!!Estimate!!AGE!!10 to 14 years',\n",
        "       'Female!!Margin of Error!!AGE!!10 to 14 years',\n",
        "       'Total!!Estimate!!AGE!!15 to 19 years',\n",
        "       'Total!!Margin of Error!!AGE!!15 to 19 years',\n",
        "       'Male!!Estimate!!AGE!!15 to 19 years',\n",
        "       'Male!!Margin of Error!!AGE!!15 to 19 years',\n",
        "       'Female!!Estimate!!AGE!!15 to 19 years',\n",
        "       'Female!!Margin of Error!!AGE!!15 to 19 years'], inplace=True)\n",
        "acs5_10.drop(columns=['Male!!Estimate!!AGE!!20 to 24 years',\n",
        "       'Male!!Margin of Error!!AGE!!20 to 24 years',\n",
        "       'Female!!Estimate!!AGE!!20 to 24 years',\n",
        "       'Female!!Margin of Error!!AGE!!20 to 24 years'], inplace=True)\n",
        "acs5_10.drop(columns=['Male!!Estimate!!AGE!!25 to 29 years',\n",
        "       'Male!!Margin of Error!!AGE!!25 to 29 years',\n",
        "       'Female!!Estimate!!AGE!!25 to 29 years',\n",
        "       'Female!!Margin of Error!!AGE!!25 to 29 years'], inplace=True)\n",
        "acs5_10.drop(columns=['Male!!Estimate!!AGE!!30 to 34 years',\n",
        "       'Male!!Margin of Error!!AGE!!30 to 34 years',\n",
        "       'Female!!Estimate!!AGE!!30 to 34 years',\n",
        "       'Female!!Margin of Error!!AGE!!30 to 34 years'], inplace=True)\n",
        "acs5_10.drop(columns=['Male!!Estimate!!AGE!!35 to 39 years',\n",
        "       'Male!!Margin of Error!!AGE!!35 to 39 years',\n",
        "       'Female!!Estimate!!AGE!!35 to 39 years',\n",
        "       'Female!!Margin of Error!!AGE!!35 to 39 years'], inplace=True)\n",
        "acs5_10.drop(columns=['Male!!Estimate!!AGE!!40 to 44 years',\n",
        "       'Male!!Margin of Error!!AGE!!40 to 44 years',\n",
        "       'Female!!Estimate!!AGE!!40 to 44 years',\n",
        "       'Female!!Margin of Error!!AGE!!40 to 44 years',\n",
        "       'Male!!Estimate!!AGE!!45 to 49 years',\n",
        "       'Male!!Margin of Error!!AGE!!45 to 49 years',\n",
        "       'Female!!Estimate!!AGE!!45 to 49 years',\n",
        "       'Female!!Margin of Error!!AGE!!45 to 49 years',\n",
        "       'Male!!Estimate!!AGE!!50 to 54 years',\n",
        "       'Male!!Margin of Error!!AGE!!50 to 54 years',\n",
        "       'Female!!Estimate!!AGE!!50 to 54 years',\n",
        "       'Female!!Margin of Error!!AGE!!50 to 54 years'], inplace=True)\n",
        "\n",
        "\n",
        "\n"
      ],
      "metadata": {
        "id": "7QAVtK6FHZGq"
      },
      "execution_count": 80,
      "outputs": []
    },
    {
      "cell_type": "code",
      "source": [
        "acs5_10.drop(columns=['Male!!Estimate!!AGE!!40 to 44 years',\n",
        "       'Male!!Margin of Error!!AGE!!40 to 44 years',\n",
        "       'Female!!Estimate!!AGE!!40 to 44 years',\n",
        "       'Female!!Margin of Error!!AGE!!40 to 44 years',\n",
        "       'Male!!Estimate!!AGE!!45 to 49 years',\n",
        "       'Male!!Margin of Error!!AGE!!45 to 49 years',\n",
        "       'Female!!Estimate!!AGE!!45 to 49 years',\n",
        "       'Female!!Margin of Error!!AGE!!45 to 49 years',\n",
        "       'Male!!Estimate!!AGE!!50 to 54 years',\n",
        "       'Male!!Margin of Error!!AGE!!50 to 54 years',\n",
        "       'Female!!Estimate!!AGE!!50 to 54 years',\n",
        "       'Female!!Margin of Error!!AGE!!50 to 54 years'], inplace=True)"
      ],
      "metadata": {
        "id": "CbV8I8OfHnmZ"
      },
      "execution_count": 104,
      "outputs": []
    },
    {
      "cell_type": "code",
      "source": [
        "acs5_10.columns[10:30]"
      ],
      "metadata": {
        "id": "3tv6QRiiFWcZ",
        "outputId": "1fe75367-c155-4648-8973-2db1507efa8c",
        "colab": {
          "base_uri": "https://localhost:8080/"
        }
      },
      "execution_count": 105,
      "outputs": [
        {
          "output_type": "execute_result",
          "data": {
            "text/plain": [
              "Index(['Total!!Margin of Error!!AGE!!30 to 34 years',\n",
              "       'Total!!Margin of Error!!AGE!!35 to 39 years',\n",
              "       'Total!!Estimate!!AGE!!40 to 44 years',\n",
              "       'Total!!Margin of Error!!AGE!!40 to 44 years',\n",
              "       'Total!!Estimate!!AGE!!45 to 49 years',\n",
              "       'Total!!Margin of Error!!AGE!!45 to 49 years',\n",
              "       'Total!!Estimate!!AGE!!50 to 54 years',\n",
              "       'Total!!Margin of Error!!AGE!!50 to 54 years',\n",
              "       'Total!!Estimate!!AGE!!55 to 59 years',\n",
              "       'Total!!Margin of Error!!AGE!!55 to 59 years',\n",
              "       'Male!!Estimate!!AGE!!55 to 59 years',\n",
              "       'Male!!Margin of Error!!AGE!!55 to 59 years',\n",
              "       'Female!!Estimate!!AGE!!55 to 59 years',\n",
              "       'Female!!Margin of Error!!AGE!!55 to 59 years',\n",
              "       'Total!!Estimate!!AGE!!60 to 64 years',\n",
              "       'Total!!Margin of Error!!AGE!!60 to 64 years',\n",
              "       'Male!!Estimate!!AGE!!60 to 64 years',\n",
              "       'Male!!Margin of Error!!AGE!!60 to 64 years',\n",
              "       'Female!!Estimate!!AGE!!60 to 64 years',\n",
              "       'Female!!Margin of Error!!AGE!!60 to 64 years'],\n",
              "      dtype='object')"
            ]
          },
          "metadata": {},
          "execution_count": 105
        }
      ]
    },
    {
      "cell_type": "code",
      "source": [],
      "metadata": {
        "id": "ZzKWaVPaHM-f"
      },
      "execution_count": null,
      "outputs": []
    }
  ]
}