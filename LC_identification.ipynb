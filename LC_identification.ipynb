{
  "nbformat": 4,
  "nbformat_minor": 0,
  "metadata": {
    "colab": {
      "provenance": [],
      "include_colab_link": true
    },
    "kernelspec": {
      "name": "python3",
      "display_name": "Python 3"
    },
    "language_info": {
      "name": "python"
    }
  },
  "cells": [
    {
      "cell_type": "markdown",
      "metadata": {
        "id": "view-in-github",
        "colab_type": "text"
      },
      "source": [
        "<a href=\"https://colab.research.google.com/github/ReidelVichot/LC_identification/blob/main/LC_identification.ipynb\" target=\"_parent\"><img src=\"https://colab.research.google.com/assets/colab-badge.svg\" alt=\"Open In Colab\"/></a>"
      ]
    },
    {
      "cell_type": "markdown",
      "source": [
        "#1. PROBLEM DEFINITION"
      ],
      "metadata": {
        "id": "Rqdn9j66FRnc"
      }
    },
    {
      "cell_type": "markdown",
      "source": [
        "**Background**\n",
        "\n",
        "“A logistics cluster (LC) is defined as the geographical concentration of firms providing logistics services, such as transportation carriers, warehousing providers, third-party logistics (3PL-s), and forwarders, as well as some other enterprises that are mainly in the logistics business, including logistics enterprises to provide services to various industries” (Rivera et al., 2014, p. 223).  \n",
        "\n",
        "Several relevant scholars in the field of logistics claim that clustering logistic activity has a positive impact on the efficiency of the economic activity, reduction of costs, and increase of collaboration among the firms that belong to the cluster (Rivera et al., 2014; Rivera, Gligor, et al., 2016; Rivera, Sheffi, et al., 2016; Sheffi, 2013, 2012). Although some of these authors mention that some of these benefits require some trade-offs (Rivera, Gligor, et al., 2016), these trade-offs are not further explored, resulting in an incomplete understanding of the socio-economic effects of the agglomeration of logistics activity. This becomes more problematic given that governments around the world seem to be embracing the idea of logistics clusters being some sort of panacea for economic development based on supply chain management improvements (Baranowski et al., 2015; Baydar et al., 2019; Chung, 2016), even though empirical studies that assess the role of government spending on the formation of logistics clusters are lacking (Liu et al., 2022). In other words, the field still lacks methodological and theoretical development, resulting in an incomplete understanding of the mechanisms of logistical clustering and their socio-economic effects.\n",
        "\n",
        "**Problem**\n",
        "\n",
        "There is not a current database of logistics clusters in the US. However, Rivera et al (2014) designed a method to test logistical agglomeration in US counties using NAICS codes and [CBP](https://www.census.gov/programs-surveys/cbp.html) information. Before conducting analyis on the effects of Logistics Clusters on society and the role of governments in their formation it is necessary to have an accurate picture of all logistics clusters in the US. For this purpose, I will extend Reviera's et al (2014) methodology to all the CBP years in which NAICS codes are used and use this database for future analyses."
      ],
      "metadata": {
        "id": "LvmLdFxsFRTo"
      }
    },
    {
      "cell_type": "markdown",
      "source": [
        "#2. DATA COLLECTION"
      ],
      "metadata": {
        "id": "AIyjkt-fFTKW"
      }
    },
    {
      "cell_type": "code",
      "source": [
        "from google.colab import drive\n",
        "drive.mount('/content/drive')"
      ],
      "metadata": {
        "colab": {
          "base_uri": "https://localhost:8080/"
        },
        "id": "RylmOoWgr-bA",
        "outputId": "b217cfab-74ed-42f5-f049-e957d61caf6b"
      },
      "execution_count": 135,
      "outputs": [
        {
          "output_type": "stream",
          "name": "stdout",
          "text": [
            "Drive already mounted at /content/drive; to attempt to forcibly remount, call drive.mount(\"/content/drive\", force_remount=True).\n"
          ]
        }
      ]
    },
    {
      "cell_type": "code",
      "source": [
        "import numpy as np\n",
        "import pandas as pd\n",
        "import matplotlib.pyplot as plt\n",
        "import geopandas as gpd"
      ],
      "metadata": {
        "id": "TYXSF8rbsAos"
      },
      "execution_count": 2,
      "outputs": []
    },
    {
      "cell_type": "code",
      "source": [
        "# -- files downloaded from the census CBP\n",
        "dpath = \"/content/drive/MyDrive/Disertation/\"\n",
        "fname98 = dpath + \"CBP_data/cbp98co/cbp98co.txt\"\n",
        "fname99 = dpath + \"CBP_data/cbp99co/cbp99co.txt\"\n",
        "fname00 = dpath + \"CBP_data/cbp00co/cbp00co.txt\"\n",
        "fname01 = dpath + \"CBP_data/cbp01co/cbp01co.txt\"\n",
        "fname02 = dpath + \"CBP_data/cbp02co/cbp02co.txt\"\n",
        "fname03 = dpath + \"CBP_data/cbp03co/cbp03co.txt\"\n",
        "fname04 = dpath + \"CBP_data/cbp04co/cbp04co.txt\"\n",
        "fname05 = dpath + \"CBP_data/cbp05co/cbp05co.txt\"\n",
        "fname06 = dpath + \"CBP_data/cbp06co/cbp06co.txt\"\n",
        "fname07 = dpath + \"CBP_data/cbp07co/cbp07co.txt\"\n",
        "fname08 = dpath + \"CBP_data/cbp08co/cbp08co.txt\"\n",
        "fname09 = dpath + \"CBP_data/cbp09co/cbp09co.txt\"\n",
        "fname10 = dpath + \"CBP_data/cbp10co/cbp10co.txt\"\n",
        "fname11 = dpath + \"CBP_data/cbp11co/cbp11co.txt\"\n",
        "fname12 = dpath + \"CBP_data/cbp12co/cbp12co.txt\"\n",
        "fname13 = dpath + \"CBP_data/cbp13co/cbp13co.txt\"\n",
        "fname14 = dpath + \"CBP_data/cbp14co/cbp14co.txt\"\n",
        "fname15 = dpath + \"CBP_data/cbp15co/cbp15co.txt\"\n",
        "fname16 = dpath + \"CBP_data/cbp16co/cbp16co.txt\"\n",
        "fname17 = dpath + \"CBP_data/cbp17co/cbp17co.txt\"\n",
        "fname18 = dpath + \"CBP_data/cbp18co/cbp18co.txt\"\n",
        "fname19 = dpath + \"CBP_data/cbp19co/cbp19co.txt\"\n",
        "fname20 = dpath + \"CBP_data/cbp20co/cbp20co.txt\"\n",
        "fname21 = dpath + \"CBP_data/cbp21co/cbp21co.txt\""
      ],
      "metadata": {
        "id": "sS_0enL8sbHH"
      },
      "execution_count": 3,
      "outputs": []
    },
    {
      "cell_type": "code",
      "source": [
        "cbp98 = pd.read_csv(fname98)\n",
        "cbp99 = pd.read_csv(fname99)\n",
        "cbp00 = pd.read_csv(fname00)\n",
        "cbp01 = pd.read_csv(fname01)\n",
        "cbp02 = pd.read_csv(fname02)\n",
        "cbp03 = pd.read_csv(fname03)\n",
        "cbp04 = pd.read_csv(fname04)\n",
        "cbp05 = pd.read_csv(fname05)\n",
        "cbp06 = pd.read_csv(fname06)\n",
        "cbp07 = pd.read_csv(fname07)\n",
        "cbp08 = pd.read_csv(fname08)\n",
        "cbp09 = pd.read_csv(fname09)\n",
        "cbp10 = pd.read_csv(fname10)\n",
        "cbp11 = pd.read_csv(fname11)\n",
        "cbp12 = pd.read_csv(fname12)\n",
        "cbp13 = pd.read_csv(fname13)\n",
        "cbp14 = pd.read_csv(fname14)\n",
        "cbp15 = pd.read_csv(fname15)\n",
        "cbp16 = pd.read_csv(fname16)\n",
        "cbp17 = pd.read_csv(fname17)\n",
        "cbp18 = pd.read_csv(fname18)\n",
        "cbp19 = pd.read_csv(fname19)\n",
        "cbp20 = pd.read_csv(fname20)\n",
        "cbp21 = pd.read_csv(fname21)"
      ],
      "metadata": {
        "id": "Iiqz1GZmCI0l"
      },
      "execution_count": 4,
      "outputs": []
    },
    {
      "cell_type": "code",
      "source": [
        "cbp98 = cbp98[cbp98.naics.str.startswith((\"48\",\"49\"))]\n",
        "cbp99 = cbp99[cbp99.naics.str.startswith((\"48\",\"49\"))]\n",
        "cbp00 = cbp00[cbp00.naics.str.startswith((\"48\",\"49\"))]\n",
        "cbp01 = cbp01[cbp01.naics.str.startswith((\"48\",\"49\"))]\n",
        "cbp02 = cbp02[cbp02.naics.str.startswith((\"48\",\"49\"))]\n",
        "cbp03 = cbp03[cbp03.naics.str.startswith((\"48\",\"49\"))]\n",
        "cbp04 = cbp04[cbp04.naics.str.startswith((\"48\",\"49\"))]\n",
        "cbp05 = cbp05[cbp05.naics.str.startswith((\"48\",\"49\"))]\n",
        "cbp06 = cbp06[cbp06.naics.str.startswith((\"48\",\"49\"))]\n",
        "cbp07 = cbp07[cbp07.naics.str.startswith((\"48\",\"49\"))]\n",
        "cbp08 = cbp08[cbp08.naics.str.startswith((\"48\",\"49\"))]\n",
        "cbp09 = cbp09[cbp09.naics.str.startswith((\"48\",\"49\"))]\n",
        "cbp10 = cbp10[cbp10.naics.str.startswith((\"48\",\"49\"))]\n",
        "cbp11 = cbp11[cbp11.naics.str.startswith((\"48\",\"49\"))]\n",
        "cbp12 = cbp12[cbp12.naics.str.startswith((\"48\",\"49\"))]\n",
        "cbp13 = cbp13[cbp13.naics.str.startswith((\"48\",\"49\"))]\n",
        "cbp14 = cbp14[cbp14.naics.str.startswith((\"48\",\"49\"))]\n",
        "cbp15 = cbp15[cbp15.NAICS.str.startswith((\"48\",\"49\"))]\n",
        "cbp16 = cbp16[cbp16.naics.str.startswith((\"48\",\"49\"))]\n",
        "cbp17 = cbp17[cbp17.naics.str.startswith((\"48\",\"49\"))]\n",
        "cbp18 = cbp18[cbp18.naics.str.startswith((\"48\",\"49\"))]\n",
        "cbp19 = cbp19[cbp19.naics.str.startswith((\"48\",\"49\"))]\n",
        "cbp20 = cbp20[cbp20.naics.str.startswith((\"48\",\"49\"))]\n",
        "cbp21 = cbp21[cbp21.naics.str.startswith((\"48\",\"49\"))]"
      ],
      "metadata": {
        "id": "jn8k_HwMQCio"
      },
      "execution_count": 5,
      "outputs": []
    },
    {
      "cell_type": "markdown",
      "source": [
        "#3. DATA PREPARATION"
      ],
      "metadata": {
        "id": "bbhRsKK6FTrg"
      }
    },
    {
      "cell_type": "code",
      "source": [
        "cols = ['fipstate', 'fipscty', 'naics', 'emp', 'est']\n",
        "cbp98 = cbp98[cols]\n",
        "cbp99 = cbp99[cols]\n",
        "cbp00 = cbp00[cols]\n",
        "cbp01 = cbp01[cols]\n",
        "cbp02 = cbp02[cols]\n",
        "cbp03 = cbp03[cols]\n",
        "cbp04 = cbp04[cols]\n",
        "cbp05 = cbp05[cols]\n",
        "cbp06 = cbp06[cols]\n",
        "cbp07 = cbp07[cols]\n",
        "cbp08 = cbp08[cols]\n",
        "cbp09 = cbp09[cols]\n",
        "cbp10 = cbp10[cols]\n",
        "cbp11 = cbp11[cols]\n",
        "cbp12 = cbp12[cols]\n",
        "cbp13 = cbp13[cols]\n",
        "cbp14 = cbp14[cols]\n",
        "cbp15.columns = cbp15.columns.str.lower()\n",
        "cbp15 = cbp15[cols]\n",
        "cbp16 = cbp16[cols]\n",
        "cbp17 = cbp17[cols]\n",
        "cbp18 = cbp18[cols]\n",
        "cbp19 = cbp19[cols]\n",
        "cbp20 = cbp20[cols]\n",
        "cbp21 = cbp21[cols]"
      ],
      "metadata": {
        "id": "pgAhF6HkybWJ"
      },
      "execution_count": 6,
      "outputs": []
    },
    {
      "cell_type": "code",
      "source": [
        "cbp98[\"year\"] = 1998\n",
        "cbp99[\"year\"] = 1999\n",
        "cbp00[\"year\"] = 2000\n",
        "cbp01[\"year\"] = 2001\n",
        "cbp02[\"year\"] = 2002\n",
        "cbp03[\"year\"] = 2003\n",
        "cbp04[\"year\"] = 2004\n",
        "cbp05[\"year\"] = 2005\n",
        "cbp06[\"year\"] = 2006\n",
        "cbp07[\"year\"] = 2007\n",
        "cbp08[\"year\"] = 2008\n",
        "cbp09[\"year\"] = 2009\n",
        "cbp10[\"year\"] = 2010\n",
        "cbp11[\"year\"] = 2011\n",
        "cbp12[\"year\"] = 2012\n",
        "cbp13[\"year\"] = 2013\n",
        "cbp14[\"year\"] = 2014\n",
        "cbp15[\"year\"] = 2015\n",
        "cbp16[\"year\"] = 2016\n",
        "cbp17[\"year\"] = 2017\n",
        "cbp18[\"year\"] = 2018\n",
        "cbp19[\"year\"] = 2019\n",
        "cbp20[\"year\"] = 2020\n",
        "cbp21[\"year\"] = 2021"
      ],
      "metadata": {
        "id": "ZOPLN04Y-XaA"
      },
      "execution_count": 7,
      "outputs": []
    },
    {
      "cell_type": "code",
      "source": [
        "frames = [cbp98, cbp99, cbp00, cbp01, cbp02, cbp03, cbp04, cbp05, cbp06, cbp07,\n",
        "          cbp08, cbp09, cbp10, cbp11, cbp12, cbp13, cbp14, cbp15, cbp16, cbp17,\n",
        "          cbp18, cbp19, cbp20, cbp21]"
      ],
      "metadata": {
        "id": "NudVDYG8Vgkz"
      },
      "execution_count": 8,
      "outputs": []
    },
    {
      "cell_type": "code",
      "source": [
        "cbp = pd.concat(frames)\n",
        "cbp.reset_index().drop(columns=\"index\")"
      ],
      "metadata": {
        "id": "IJdQdqu9ABoW"
      },
      "execution_count": null,
      "outputs": []
    },
    {
      "cell_type": "code",
      "source": [
        "logistics_sectors = [ \"481112\", \"481212\", \"481219\", \"483111\", \"483113\",\n",
        "                      \"483211\", \"484110\", \"484121\", \"484122\", \"484220\",\n",
        "                      \"484230\", \"488119\", \"488190\", \"488210\", \"488310\",\n",
        "                      \"488320\", \"488330\", \"488390\", \"488410\", \"488490\",\n",
        "                      \"488510\", \"488991\", \"488999\", \"492110\", \"492210\",\n",
        "                      \"493110\", \"493190\" ]"
      ],
      "metadata": {
        "id": "44TwSN2Q2C_8"
      },
      "execution_count": 10,
      "outputs": []
    },
    {
      "cell_type": "code",
      "source": [
        "cbp = cbp[cbp[\"naics\"].isin(logistics_sectors)]"
      ],
      "metadata": {
        "id": "KlcLtjXY4RGi"
      },
      "execution_count": 11,
      "outputs": []
    },
    {
      "cell_type": "code",
      "source": [
        "county = gpd.read_file(dpath + \"/countyshp/tl_2023_us_county/tl_2023_us_county.shp\")"
      ],
      "metadata": {
        "id": "v8aqpTiC6XUI"
      },
      "execution_count": 12,
      "outputs": []
    },
    {
      "cell_type": "code",
      "source": [
        "county = county[['GEOID', 'NAME', 'geometry']]"
      ],
      "metadata": {
        "id": "x-jz4ILb9oTJ"
      },
      "execution_count": 13,
      "outputs": []
    },
    {
      "cell_type": "code",
      "source": [
        "# -- remove Alaska\n",
        "cbp = cbp[cbp[\"fipstate\"] != 3]\n",
        "# -- remove Hawaii\n",
        "cbp = cbp[cbp[\"fipstate\"] != 15]\n",
        "# -- remove Puerto Rico\n",
        "cbp = cbp[cbp[\"fipstate\"] != 72]\n",
        "# -- remove Virgin Islands\n",
        "cbp = cbp[cbp[\"fipstate\"] != 78]\n",
        "# -- remove American Samoa\n",
        "cbp = cbp[cbp[\"fipstate\"] != 60]"
      ],
      "metadata": {
        "id": "XGStfe-SbN2F",
        "outputId": "c7668e7c-1a1b-4010-ca5e-abf70e1bab08",
        "colab": {
          "base_uri": "https://localhost:8080/",
          "height": 245
        }
      },
      "execution_count": 5,
      "outputs": [
        {
          "output_type": "error",
          "ename": "NameError",
          "evalue": "name 'cbp' is not defined",
          "traceback": [
            "\u001b[0;31m---------------------------------------------------------------------------\u001b[0m",
            "\u001b[0;31mNameError\u001b[0m                                 Traceback (most recent call last)",
            "\u001b[0;32m<ipython-input-5-857618a8f7ef>\u001b[0m in \u001b[0;36m<cell line: 2>\u001b[0;34m()\u001b[0m\n\u001b[1;32m      1\u001b[0m \u001b[0;31m# -- remove Alaska\u001b[0m\u001b[0;34m\u001b[0m\u001b[0;34m\u001b[0m\u001b[0m\n\u001b[0;32m----> 2\u001b[0;31m \u001b[0mcbp\u001b[0m \u001b[0;34m=\u001b[0m \u001b[0mcbp\u001b[0m\u001b[0;34m[\u001b[0m\u001b[0mcbp\u001b[0m\u001b[0;34m[\u001b[0m\u001b[0;34m\"fipstate\"\u001b[0m\u001b[0;34m]\u001b[0m \u001b[0;34m!=\u001b[0m \u001b[0;36m3\u001b[0m\u001b[0;34m]\u001b[0m\u001b[0;34m\u001b[0m\u001b[0;34m\u001b[0m\u001b[0m\n\u001b[0m\u001b[1;32m      3\u001b[0m \u001b[0;31m# -- remove Hawaii\u001b[0m\u001b[0;34m\u001b[0m\u001b[0;34m\u001b[0m\u001b[0m\n\u001b[1;32m      4\u001b[0m \u001b[0mcbp\u001b[0m \u001b[0;34m=\u001b[0m \u001b[0mcbp\u001b[0m\u001b[0;34m[\u001b[0m\u001b[0mcbp\u001b[0m\u001b[0;34m[\u001b[0m\u001b[0;34m\"fipstate\"\u001b[0m\u001b[0;34m]\u001b[0m \u001b[0;34m!=\u001b[0m \u001b[0;36m15\u001b[0m\u001b[0;34m]\u001b[0m\u001b[0;34m\u001b[0m\u001b[0;34m\u001b[0m\u001b[0m\n\u001b[1;32m      5\u001b[0m \u001b[0;31m# -- remove Puerto Rico\u001b[0m\u001b[0;34m\u001b[0m\u001b[0;34m\u001b[0m\u001b[0m\n",
            "\u001b[0;31mNameError\u001b[0m: name 'cbp' is not defined"
          ]
        }
      ]
    },
    {
      "cell_type": "code",
      "source": [
        "cbp[\"GEOID\"] = cbp.fipstate.astype(str).str.zfill(2) + cbp.fipscty.astype(str).str.zfill(3)"
      ],
      "metadata": {
        "id": "70hNZTxtI2To"
      },
      "execution_count": 17,
      "outputs": []
    },
    {
      "cell_type": "code",
      "source": [
        "cbp.drop(columns=[\"fipstate\", \"fipscty\"], inplace=True)"
      ],
      "metadata": {
        "id": "zMvz9_Pm-Vqu"
      },
      "execution_count": 18,
      "outputs": []
    },
    {
      "cell_type": "code",
      "source": [
        "cbp_grouped = cbp.groupby([\"year\",\"GEOID\"]).sum().reset_index()"
      ],
      "metadata": {
        "id": "KxfNyJ-8Jpnm",
        "outputId": "32bc3529-3d85-4963-f76b-a0f8a23b50e5",
        "colab": {
          "base_uri": "https://localhost:8080/"
        }
      },
      "execution_count": 19,
      "outputs": [
        {
          "output_type": "stream",
          "name": "stderr",
          "text": [
            "<ipython-input-19-cb9c63088f7b>:1: FutureWarning: The default value of numeric_only in DataFrameGroupBy.sum is deprecated. In a future version, numeric_only will default to False. Either specify numeric_only or select only columns which should be valid for the function.\n",
            "  cbp_grouped = cbp.groupby([\"year\",\"GEOID\"]).sum().reset_index()\n"
          ]
        }
      ]
    },
    {
      "cell_type": "code",
      "source": [
        "county = county.merge(cbp_grouped, left_on=\"GEOID\", right_on=\"GEOID\")"
      ],
      "metadata": {
        "id": "jkC5183YV2UW",
        "outputId": "b28529a5-6f0f-434a-8289-1818d692631d",
        "colab": {
          "base_uri": "https://localhost:8080/",
          "height": 175
        }
      },
      "execution_count": 4,
      "outputs": [
        {
          "output_type": "error",
          "ename": "NameError",
          "evalue": "name 'county' is not defined",
          "traceback": [
            "\u001b[0;31m---------------------------------------------------------------------------\u001b[0m",
            "\u001b[0;31mNameError\u001b[0m                                 Traceback (most recent call last)",
            "\u001b[0;32m<ipython-input-4-79dd131d1489>\u001b[0m in \u001b[0;36m<cell line: 1>\u001b[0;34m()\u001b[0m\n\u001b[0;32m----> 1\u001b[0;31m \u001b[0mcounty\u001b[0m \u001b[0;34m=\u001b[0m \u001b[0mcounty\u001b[0m\u001b[0;34m.\u001b[0m\u001b[0mmerge\u001b[0m\u001b[0;34m(\u001b[0m\u001b[0mcbp_grouped\u001b[0m\u001b[0;34m,\u001b[0m \u001b[0mleft_on\u001b[0m\u001b[0;34m=\u001b[0m\u001b[0;34m\"GEOID\"\u001b[0m\u001b[0;34m,\u001b[0m \u001b[0mright_on\u001b[0m\u001b[0;34m=\u001b[0m\u001b[0;34m\"GEOID\"\u001b[0m\u001b[0;34m)\u001b[0m\u001b[0;34m\u001b[0m\u001b[0;34m\u001b[0m\u001b[0m\n\u001b[0m",
            "\u001b[0;31mNameError\u001b[0m: name 'county' is not defined"
          ]
        }
      ]
    },
    {
      "cell_type": "code",
      "source": [
        "county"
      ],
      "metadata": {
        "id": "0k4OAGdhfYaa",
        "outputId": "64bb8a29-1729-461d-d916-4462646e36db",
        "colab": {
          "base_uri": "https://localhost:8080/",
          "height": 175
        }
      },
      "execution_count": 3,
      "outputs": [
        {
          "output_type": "error",
          "ename": "NameError",
          "evalue": "name 'county' is not defined",
          "traceback": [
            "\u001b[0;31m---------------------------------------------------------------------------\u001b[0m",
            "\u001b[0;31mNameError\u001b[0m                                 Traceback (most recent call last)",
            "\u001b[0;32m<ipython-input-3-35f5acc13b69>\u001b[0m in \u001b[0;36m<cell line: 1>\u001b[0;34m()\u001b[0m\n\u001b[0;32m----> 1\u001b[0;31m \u001b[0mcounty\u001b[0m\u001b[0;34m\u001b[0m\u001b[0;34m\u001b[0m\u001b[0m\n\u001b[0m",
            "\u001b[0;31mNameError\u001b[0m: name 'county' is not defined"
          ]
        }
      ]
    },
    {
      "cell_type": "code",
      "source": [
        "for year in cbp[\"year\"].unique():\n",
        ""
      ],
      "metadata": {
        "id": "5XMiye3N5spO"
      },
      "execution_count": null,
      "outputs": []
    },
    {
      "cell_type": "markdown",
      "source": [
        "#4. MACHINE LEARNING"
      ],
      "metadata": {
        "id": "lcLQnk75FUC2"
      }
    },
    {
      "cell_type": "markdown",
      "source": [],
      "metadata": {
        "id": "sj01PPH__58s"
      }
    },
    {
      "cell_type": "markdown",
      "source": [
        "#5. PROBLEM SOLUTION"
      ],
      "metadata": {
        "id": "PHET5dqCFUUi"
      }
    }
  ]
}