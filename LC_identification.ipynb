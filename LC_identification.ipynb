{
  "nbformat": 4,
  "nbformat_minor": 0,
  "metadata": {
    "colab": {
      "provenance": [],
      "include_colab_link": true
    },
    "kernelspec": {
      "name": "python3",
      "display_name": "Python 3"
    },
    "language_info": {
      "name": "python"
    }
  },
  "cells": [
    {
      "cell_type": "markdown",
      "metadata": {
        "id": "view-in-github",
        "colab_type": "text"
      },
      "source": [
        "<a href=\"https://colab.research.google.com/github/ReidelVichot/LC_identification/blob/main/LC_identification.ipynb\" target=\"_parent\"><img src=\"https://colab.research.google.com/assets/colab-badge.svg\" alt=\"Open In Colab\"/></a>"
      ]
    },
    {
      "cell_type": "markdown",
      "source": [
        "#1. PROBLEM DEFINITION"
      ],
      "metadata": {
        "id": "Rqdn9j66FRnc"
      }
    },
    {
      "cell_type": "markdown",
      "source": [
        "**Background**\n",
        "\n",
        "“A logistics cluster (LC) is defined as the geographical concentration of firms providing logistics services, such as transportation carriers, warehousing providers, third-party logistics (3PL-s), and forwarders, as well as some other enterprises that are mainly in the logistics business, including logistics enterprises to provide services to various industries” (Rivera et al., 2014, p. 223).  \n",
        "\n",
        "Several relevant scholars in the field of logistics claim that clustering logistic activity has a positive impact on the efficiency of the economic activity, reduction of costs, and increase of collaboration among the firms that belong to the cluster (Rivera et al., 2014; Rivera, Gligor, et al., 2016; Rivera, Sheffi, et al., 2016; Sheffi, 2013, 2012). Although some of these authors mention that some of these benefits require some trade-offs (Rivera, Gligor, et al., 2016), these trade-offs are not further explored, resulting in an incomplete understanding of the socio-economic effects of the agglomeration of logistics activity. This becomes more problematic given that governments around the world seem to be embracing the idea of logistics clusters being some sort of panacea for economic development based on supply chain management improvements (Baranowski et al., 2015; Baydar et al., 2019; Chung, 2016), even though empirical studies that assess the role of government spending on the formation of logistics clusters are lacking (Liu et al., 2022). In other words, the field still lacks methodological and theoretical development, resulting in an incomplete understanding of the mechanisms of logistical clustering and their socio-economic effects.\n",
        "\n",
        "**Problem**\n",
        "\n",
        "There is not a current database of logistics clusters in the US. However, Rivera et al (2014) designed a method to test logistical agglomeration in US counties using NAICS codes and [CBP](https://www.census.gov/programs-surveys/cbp.html) information. Before conducting analyis on the effects of Logistics Clusters on society and the role of governments in their formation it is necessary to have an accurate picture of all logistics clusters in the US. For this purpose, I will extend Reviera's et al (2014) methodology to all the CBP years in which NAICS codes are used and use this database for future analyses."
      ],
      "metadata": {
        "id": "LvmLdFxsFRTo"
      }
    },
    {
      "cell_type": "markdown",
      "source": [
        "#2. DATA COLLECTION"
      ],
      "metadata": {
        "id": "AIyjkt-fFTKW"
      }
    },
    {
      "cell_type": "code",
      "source": [
        "from google.colab import drive\n",
        "drive.mount('/content/drive')"
      ],
      "metadata": {
        "colab": {
          "base_uri": "https://localhost:8080/"
        },
        "id": "RylmOoWgr-bA",
        "outputId": "8d46ff99-708b-42d7-b929-9dd655b48b5c"
      },
      "execution_count": 3,
      "outputs": [
        {
          "output_type": "stream",
          "name": "stdout",
          "text": [
            "Drive already mounted at /content/drive; to attempt to forcibly remount, call drive.mount(\"/content/drive\", force_remount=True).\n"
          ]
        }
      ]
    },
    {
      "cell_type": "code",
      "source": [
        "import numpy as np\n",
        "import pandas as pd\n",
        "import matplotlib.pyplot as plt\n",
        "import geopandas as gpd"
      ],
      "metadata": {
        "id": "TYXSF8rbsAos"
      },
      "execution_count": 3,
      "outputs": []
    },
    {
      "cell_type": "code",
      "source": [
        "# -- files downloaded from the census CBP\n",
        "dpath = \"/content/drive/MyDrive/Disertation/CBP_data\"\n",
        "fname98 = dpath + \"/cbp98co/cbp98co.txt\"\n",
        "fname99 = dpath + \"/cbp99co/cbp99co.txt\"\n",
        "fname00 = dpath + \"/cbp00co/cbp00co.txt\"\n",
        "fname01 = dpath + \"/cbp01co/cbp01co.txt\"\n",
        "fname02 = dpath + \"/cbp02co/cbp02co.txt\"\n",
        "fname03 = dpath + \"/cbp03co/cbp03co.txt\"\n",
        "fname04 = dpath + \"/cbp04co/cbp04co.txt\"\n",
        "fname05 = dpath + \"/cbp05co/cbp05co.txt\"\n",
        "fname06 = dpath + \"/cbp06co/cbp06co.txt\"\n",
        "fname07 = dpath + \"/cbp07co/cbp07co.txt\"\n",
        "fname08 = dpath + \"/cbp08co/cbp08co.txt\"\n",
        "fname09 = dpath + \"/cbp09co/cbp09co.txt\"\n",
        "fname10 = dpath + \"/cbp10co/cbp10co.txt\"\n",
        "fname11 = dpath + \"/cbp11co/cbp11co.txt\"\n",
        "fname12 = dpath + \"/cbp12co/cbp12co.txt\"\n",
        "fname13 = dpath + \"/cbp13co/cbp13co.txt\"\n",
        "fname14 = dpath + \"/cbp14co/cbp14co.txt\"\n",
        "fname15 = dpath + \"/cbp15co/cbp15co.txt\"\n",
        "fname16 = dpath + \"/cbp16co/cbp16co.txt\"\n",
        "fname17 = dpath + \"/cbp17co/cbp17co.txt\"\n",
        "fname18 = dpath + \"/cbp18co/cbp18co.txt\"\n",
        "fname19 = dpath + \"/cbp19co/cbp19co.txt\"\n",
        "fname20 = dpath + \"/cbp20co/cbp20co.txt\"\n",
        "fname21 = dpath + \"/cbp21co/cbp21co.txt\""
      ],
      "metadata": {
        "id": "sS_0enL8sbHH"
      },
      "execution_count": 22,
      "outputs": []
    },
    {
      "cell_type": "code",
      "source": [
        "cbp98 = pd.read_csv(fname98)\n",
        "cbp99 = pd.read_csv(fname99)\n",
        "cbp00 = pd.read_csv(fname00)\n",
        "cbp01 = pd.read_csv(fname01)\n",
        "cbp02 = pd.read_csv(fname02)\n",
        "cbp03 = pd.read_csv(fname03)\n",
        "cbp04 = pd.read_csv(fname04)\n",
        "cbp05 = pd.read_csv(fname05)\n",
        "cbp06 = pd.read_csv(fname06)\n",
        "cbp07 = pd.read_csv(fname07)\n",
        "cbp08 = pd.read_csv(fname08)\n",
        "cbp09 = pd.read_csv(fname09)\n",
        "cbp10 = pd.read_csv(fname10)\n",
        "cbp11 = pd.read_csv(fname11)\n",
        "cbp12 = pd.read_csv(fname12)\n",
        "cbp13 = pd.read_csv(fname13)\n",
        "cbp14 = pd.read_csv(fname14)\n",
        "cbp15 = pd.read_csv(fname15)\n",
        "cbp16 = pd.read_csv(fname16)\n",
        "cbp17 = pd.read_csv(fname17)\n",
        "cbp18 = pd.read_csv(fname18)\n",
        "cbp19 = pd.read_csv(fname19)\n",
        "cbp20 = pd.read_csv(fname20)\n",
        "cbp21 = pd.read_csv(fname21)"
      ],
      "metadata": {
        "id": "Iiqz1GZmCI0l"
      },
      "execution_count": 23,
      "outputs": []
    },
    {
      "cell_type": "code",
      "source": [
        "cbp98 = cbp98[cbp98.naics.str.startswith((\"48\",\"49\"))]\n",
        "cbp99 = cbp99[cbp99.naics.str.startswith((\"48\",\"49\"))]\n",
        "cbp00 = cbp00[cbp00.naics.str.startswith((\"48\",\"49\"))]\n",
        "cbp01 = cbp01[cbp01.naics.str.startswith((\"48\",\"49\"))]\n",
        "cbp02 = cbp02[cbp02.naics.str.startswith((\"48\",\"49\"))]\n",
        "cbp03 = cbp03[cbp03.naics.str.startswith((\"48\",\"49\"))]\n",
        "cbp04 = cbp04[cbp04.naics.str.startswith((\"48\",\"49\"))]\n",
        "cbp05 = cbp05[cbp05.naics.str.startswith((\"48\",\"49\"))]\n",
        "cbp06 = cbp06[cbp06.naics.str.startswith((\"48\",\"49\"))]\n",
        "cbp07 = cbp07[cbp07.naics.str.startswith((\"48\",\"49\"))]\n",
        "cbp08 = cbp08[cbp08.naics.str.startswith((\"48\",\"49\"))]\n",
        "cbp09 = cbp09[cbp09.naics.str.startswith((\"48\",\"49\"))]\n",
        "cbp10 = cbp10[cbp10.naics.str.startswith((\"48\",\"49\"))]\n",
        "cbp11 = cbp11[cbp11.naics.str.startswith((\"48\",\"49\"))]\n",
        "cbp12 = cbp12[cbp12.naics.str.startswith((\"48\",\"49\"))]\n",
        "cbp13 = cbp13[cbp13.naics.str.startswith((\"48\",\"49\"))]\n",
        "cbp14 = cbp14[cbp14.naics.str.startswith((\"48\",\"49\"))]\n",
        "cbp15 = cbp15[cbp15.NAICS.str.startswith((\"48\",\"49\"))]\n",
        "cbp16 = cbp16[cbp16.naics.str.startswith((\"48\",\"49\"))]\n",
        "cbp17 = cbp17[cbp17.naics.str.startswith((\"48\",\"49\"))]\n",
        "cbp18 = cbp18[cbp18.naics.str.startswith((\"48\",\"49\"))]\n",
        "cbp19 = cbp19[cbp19.naics.str.startswith((\"48\",\"49\"))]\n",
        "cbp20 = cbp20[cbp20.naics.str.startswith((\"48\",\"49\"))]\n",
        "cbp21 = cbp21[cbp21.naics.str.startswith((\"48\",\"49\"))]"
      ],
      "metadata": {
        "id": "jn8k_HwMQCio"
      },
      "execution_count": 26,
      "outputs": []
    },
    {
      "cell_type": "code",
      "source": [
        "cbp_array = [cbp98, cbp99, cbp00, cbp01, cbp02, cbp03, cbp04, cbp05, cbp06,\n",
        "             cbp07, cbp08, cbp09, cbp10, cbp11, cbp12, cbp13, cbp14, cbp15,\n",
        "             cbp16, cbp17, cbp18, cbp19, cbp20, cbp21]"
      ],
      "metadata": {
        "id": "NudVDYG8Vgkz"
      },
      "execution_count": 28,
      "outputs": []
    },
    {
      "cell_type": "code",
      "source": [
        "cbp98.columns == cbp99.columns"
      ],
      "metadata": {
        "id": "nGSRTTynWjZ9",
        "outputId": "7008d64b-fbb4-4015-c79e-b1ce98f10249",
        "colab": {
          "base_uri": "https://localhost:8080/"
        }
      },
      "execution_count": 35,
      "outputs": [
        {
          "output_type": "execute_result",
          "data": {
            "text/plain": [
              "array([ True,  True,  True,  True,  True,  True,  True,  True,  True,\n",
              "        True,  True,  True,  True,  True,  True,  True,  True,  True,\n",
              "        True,  True,  True,  True,  True])"
            ]
          },
          "metadata": {},
          "execution_count": 35
        }
      ]
    },
    {
      "cell_type": "code",
      "source": [],
      "metadata": {
        "id": "ZjY66hYWXL7k"
      },
      "execution_count": null,
      "outputs": []
    },
    {
      "cell_type": "markdown",
      "source": [
        "#3. DATA PREPARATION"
      ],
      "metadata": {
        "id": "bbhRsKK6FTrg"
      }
    },
    {
      "cell_type": "markdown",
      "source": [
        "#4. MACHINE LEARNING"
      ],
      "metadata": {
        "id": "lcLQnk75FUC2"
      }
    },
    {
      "cell_type": "markdown",
      "source": [
        "#5. PROBLEM SOLUTION"
      ],
      "metadata": {
        "id": "PHET5dqCFUUi"
      }
    }
  ]
}