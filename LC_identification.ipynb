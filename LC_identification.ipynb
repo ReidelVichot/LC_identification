{
  "nbformat": 4,
  "nbformat_minor": 0,
  "metadata": {
    "colab": {
      "provenance": [],
      "include_colab_link": true
    },
    "kernelspec": {
      "name": "python3",
      "display_name": "Python 3"
    },
    "language_info": {
      "name": "python"
    }
  },
  "cells": [
    {
      "cell_type": "markdown",
      "metadata": {
        "id": "view-in-github",
        "colab_type": "text"
      },
      "source": [
        "<a href=\"https://colab.research.google.com/github/ReidelVichot/LC_identification/blob/main/LC_identification.ipynb\" target=\"_parent\"><img src=\"https://colab.research.google.com/assets/colab-badge.svg\" alt=\"Open In Colab\"/></a>"
      ]
    },
    {
      "cell_type": "markdown",
      "source": [
        "#1. PROBLEM DEFINITION"
      ],
      "metadata": {
        "id": "Rqdn9j66FRnc"
      }
    },
    {
      "cell_type": "markdown",
      "source": [
        "**Background**\n",
        "\n",
        "“A logistics cluster (LC) is defined as the geographical concentration of firms providing logistics services, such as transportation carriers, warehousing providers, third-party logistics (3PL-s), and forwarders, as well as some other enterprises that are mainly in the logistics business, including logistics enterprises to provide services to various industries” (Rivera et al., 2014, p. 223).  \n",
        "\n",
        "Several relevant scholars in the field of logistics claim that clustering logistic activity has a positive impact on the efficiency of the economic activity, reduction of costs, and increase of collaboration among the firms that belong to the cluster (Rivera et al., 2014; Rivera, Gligor, et al., 2016; Rivera, Sheffi, et al., 2016; Sheffi, 2013, 2012). Although some of these authors mention that some of these benefits require some trade-offs (Rivera, Gligor, et al., 2016), these trade-offs are not further explored, resulting in an incomplete understanding of the socio-economic effects of the agglomeration of logistics activity. This becomes more problematic given that governments around the world seem to be embracing the idea of logistics clusters being some sort of panacea for economic development based on supply chain management improvements (Baranowski et al., 2015; Baydar et al., 2019; Chung, 2016), even though empirical studies that assess the role of government spending on the formation of logistics clusters are lacking (Liu et al., 2022). In other words, the field still lacks methodological and theoretical development, resulting in an incomplete understanding of the mechanisms of logistical clustering and their socio-economic effects.\n",
        "\n",
        "**Problem**\n",
        "\n",
        "There is not a current database of logistics clusters in the US. However, Rivera et al (2014) designed a method to test logistical agglomeration in US counties using NAICS codes and [CBP](https://www.census.gov/programs-surveys/cbp.html) information. Before conducting analyis on the effects of Logistics Clusters on society and the role of governments in their formation it is necessary to have an accurate picture of all logistics clusters in the US. For this purpose, I will extend Reviera's et al (2014) methodology to all the CBP years in which NAICS codes are used and use this database for future analyses."
      ],
      "metadata": {
        "id": "LvmLdFxsFRTo"
      }
    },
    {
      "cell_type": "markdown",
      "source": [
        "#2. DATA COLLECTION"
      ],
      "metadata": {
        "id": "AIyjkt-fFTKW"
      }
    },
    {
      "cell_type": "code",
      "source": [
        "from google.colab import drive\n",
        "drive.mount('/content/drive')"
      ],
      "metadata": {
        "colab": {
          "base_uri": "https://localhost:8080/"
        },
        "id": "RylmOoWgr-bA",
        "outputId": "9f9ed9e6-665f-4a79-d2c7-63c63c1e583c"
      },
      "execution_count": 1,
      "outputs": [
        {
          "output_type": "stream",
          "name": "stdout",
          "text": [
            "Mounted at /content/drive\n"
          ]
        }
      ]
    },
    {
      "cell_type": "code",
      "source": [
        "import numpy as np\n",
        "import pandas as pd\n",
        "import matplotlib.pyplot as plt\n",
        "import geopandas as gpd"
      ],
      "metadata": {
        "id": "TYXSF8rbsAos"
      },
      "execution_count": 2,
      "outputs": []
    },
    {
      "cell_type": "code",
      "source": [
        "# -- files downloaded from the census CBP\n",
        "dpath = \"/content/drive/MyDrive/Disertation/\"\n",
        "fname98 = dpath + \"CBP_data/cbp98co/cbp98co.txt\"\n",
        "fname99 = dpath + \"CBP_data/cbp99co/cbp99co.txt\"\n",
        "fname00 = dpath + \"CBP_data/cbp00co/cbp00co.txt\"\n",
        "fname01 = dpath + \"CBP_data/cbp01co/cbp01co.txt\"\n",
        "fname02 = dpath + \"CBP_data/cbp02co/cbp02co.txt\"\n",
        "fname03 = dpath + \"CBP_data/cbp03co/cbp03co.txt\"\n",
        "fname04 = dpath + \"CBP_data/cbp04co/cbp04co.txt\"\n",
        "fname05 = dpath + \"CBP_data/cbp05co/cbp05co.txt\"\n",
        "fname06 = dpath + \"CBP_data/cbp06co/cbp06co.txt\"\n",
        "fname07 = dpath + \"CBP_data/cbp07co/cbp07co.txt\"\n",
        "fname08 = dpath + \"CBP_data/cbp08co/cbp08co.txt\"\n",
        "fname09 = dpath + \"CBP_data/cbp09co/cbp09co.txt\"\n",
        "fname10 = dpath + \"CBP_data/cbp10co/cbp10co.txt\"\n",
        "fname11 = dpath + \"CBP_data/cbp11co/cbp11co.txt\"\n",
        "fname12 = dpath + \"CBP_data/cbp12co/cbp12co.txt\"\n",
        "fname13 = dpath + \"CBP_data/cbp13co/cbp13co.txt\"\n",
        "fname14 = dpath + \"CBP_data/cbp14co/cbp14co.txt\"\n",
        "fname15 = dpath + \"CBP_data/cbp15co/cbp15co.txt\"\n",
        "fname16 = dpath + \"CBP_data/cbp16co/cbp16co.txt\"\n",
        "fname17 = dpath + \"CBP_data/cbp17co/cbp17co.txt\"\n",
        "fname18 = dpath + \"CBP_data/cbp18co/cbp18co.txt\"\n",
        "fname19 = dpath + \"CBP_data/cbp19co/cbp19co.txt\"\n",
        "fname20 = dpath + \"CBP_data/cbp20co/cbp20co.txt\"\n",
        "fname21 = dpath + \"CBP_data/cbp21co/cbp21co.txt\""
      ],
      "metadata": {
        "id": "sS_0enL8sbHH"
      },
      "execution_count": 3,
      "outputs": []
    },
    {
      "cell_type": "code",
      "source": [
        "cbp98 = pd.read_csv(fname98)\n",
        "cbp99 = pd.read_csv(fname99)\n",
        "cbp00 = pd.read_csv(fname00)\n",
        "cbp01 = pd.read_csv(fname01)\n",
        "cbp02 = pd.read_csv(fname02)\n",
        "cbp03 = pd.read_csv(fname03)\n",
        "cbp04 = pd.read_csv(fname04)\n",
        "cbp05 = pd.read_csv(fname05)\n",
        "cbp06 = pd.read_csv(fname06)\n",
        "cbp07 = pd.read_csv(fname07)\n",
        "cbp08 = pd.read_csv(fname08)\n",
        "cbp09 = pd.read_csv(fname09)\n",
        "cbp10 = pd.read_csv(fname10)\n",
        "cbp11 = pd.read_csv(fname11)\n",
        "cbp12 = pd.read_csv(fname12)\n",
        "cbp13 = pd.read_csv(fname13)\n",
        "cbp14 = pd.read_csv(fname14)\n",
        "cbp15 = pd.read_csv(fname15)\n",
        "cbp16 = pd.read_csv(fname16)\n",
        "cbp17 = pd.read_csv(fname17)\n",
        "cbp18 = pd.read_csv(fname18)\n",
        "cbp19 = pd.read_csv(fname19)\n",
        "cbp20 = pd.read_csv(fname20)\n",
        "cbp21 = pd.read_csv(fname21)"
      ],
      "metadata": {
        "id": "Iiqz1GZmCI0l"
      },
      "execution_count": 4,
      "outputs": []
    },
    {
      "cell_type": "code",
      "source": [
        "cbp98 = cbp98[cbp98.naics.str.startswith((\"48\",\"49\"))]\n",
        "cbp99 = cbp99[cbp99.naics.str.startswith((\"48\",\"49\"))]\n",
        "cbp00 = cbp00[cbp00.naics.str.startswith((\"48\",\"49\"))]\n",
        "cbp01 = cbp01[cbp01.naics.str.startswith((\"48\",\"49\"))]\n",
        "cbp02 = cbp02[cbp02.naics.str.startswith((\"48\",\"49\"))]\n",
        "cbp03 = cbp03[cbp03.naics.str.startswith((\"48\",\"49\"))]\n",
        "cbp04 = cbp04[cbp04.naics.str.startswith((\"48\",\"49\"))]\n",
        "cbp05 = cbp05[cbp05.naics.str.startswith((\"48\",\"49\"))]\n",
        "cbp06 = cbp06[cbp06.naics.str.startswith((\"48\",\"49\"))]\n",
        "cbp07 = cbp07[cbp07.naics.str.startswith((\"48\",\"49\"))]\n",
        "cbp08 = cbp08[cbp08.naics.str.startswith((\"48\",\"49\"))]\n",
        "cbp09 = cbp09[cbp09.naics.str.startswith((\"48\",\"49\"))]\n",
        "cbp10 = cbp10[cbp10.naics.str.startswith((\"48\",\"49\"))]\n",
        "cbp11 = cbp11[cbp11.naics.str.startswith((\"48\",\"49\"))]\n",
        "cbp12 = cbp12[cbp12.naics.str.startswith((\"48\",\"49\"))]\n",
        "cbp13 = cbp13[cbp13.naics.str.startswith((\"48\",\"49\"))]\n",
        "cbp14 = cbp14[cbp14.naics.str.startswith((\"48\",\"49\"))]\n",
        "cbp15 = cbp15[cbp15.NAICS.str.startswith((\"48\",\"49\"))]\n",
        "cbp16 = cbp16[cbp16.naics.str.startswith((\"48\",\"49\"))]\n",
        "cbp17 = cbp17[cbp17.naics.str.startswith((\"48\",\"49\"))]\n",
        "cbp18 = cbp18[cbp18.naics.str.startswith((\"48\",\"49\"))]\n",
        "cbp19 = cbp19[cbp19.naics.str.startswith((\"48\",\"49\"))]\n",
        "cbp20 = cbp20[cbp20.naics.str.startswith((\"48\",\"49\"))]\n",
        "cbp21 = cbp21[cbp21.naics.str.startswith((\"48\",\"49\"))]"
      ],
      "metadata": {
        "id": "jn8k_HwMQCio"
      },
      "execution_count": 5,
      "outputs": []
    },
    {
      "cell_type": "markdown",
      "source": [
        "#3. DATA PREPARATION"
      ],
      "metadata": {
        "id": "bbhRsKK6FTrg"
      }
    },
    {
      "cell_type": "code",
      "source": [
        "cols = ['fipstate', 'fipscty', 'naics', 'emp', 'est']\n",
        "cbp98 = cbp98[cols]\n",
        "cbp99 = cbp99[cols]\n",
        "cbp00 = cbp00[cols]\n",
        "cbp01 = cbp01[cols]\n",
        "cbp02 = cbp02[cols]\n",
        "cbp03 = cbp03[cols]\n",
        "cbp04 = cbp04[cols]\n",
        "cbp05 = cbp05[cols]\n",
        "cbp06 = cbp06[cols]\n",
        "cbp07 = cbp07[cols]\n",
        "cbp08 = cbp08[cols]\n",
        "cbp09 = cbp09[cols]\n",
        "cbp10 = cbp10[cols]\n",
        "cbp11 = cbp11[cols]\n",
        "cbp12 = cbp12[cols]\n",
        "cbp13 = cbp13[cols]\n",
        "cbp14 = cbp14[cols]\n",
        "cbp15.columns = cbp15.columns.str.lower()\n",
        "cbp15 = cbp15[cols]\n",
        "cbp16 = cbp16[cols]\n",
        "cbp17 = cbp17[cols]\n",
        "cbp18 = cbp18[cols]\n",
        "cbp19 = cbp19[cols]\n",
        "cbp20 = cbp20[cols]\n",
        "cbp21 = cbp21[cols]"
      ],
      "metadata": {
        "id": "pgAhF6HkybWJ"
      },
      "execution_count": 6,
      "outputs": []
    },
    {
      "cell_type": "code",
      "source": [
        "cbp98[\"year\"] = 1998\n",
        "cbp99[\"year\"] = 1999\n",
        "cbp00[\"year\"] = 2000\n",
        "cbp01[\"year\"] = 2001\n",
        "cbp02[\"year\"] = 2002\n",
        "cbp03[\"year\"] = 2003\n",
        "cbp04[\"year\"] = 2004\n",
        "cbp05[\"year\"] = 2005\n",
        "cbp06[\"year\"] = 2006\n",
        "cbp07[\"year\"] = 2007\n",
        "cbp08[\"year\"] = 2008\n",
        "cbp09[\"year\"] = 2009\n",
        "cbp10[\"year\"] = 2010\n",
        "cbp11[\"year\"] = 2011\n",
        "cbp12[\"year\"] = 2012\n",
        "cbp13[\"year\"] = 2013\n",
        "cbp14[\"year\"] = 2014\n",
        "cbp15[\"year\"] = 2015\n",
        "cbp16[\"year\"] = 2016\n",
        "cbp17[\"year\"] = 2017\n",
        "cbp18[\"year\"] = 2018\n",
        "cbp19[\"year\"] = 2019\n",
        "cbp20[\"year\"] = 2020\n",
        "cbp21[\"year\"] = 2021"
      ],
      "metadata": {
        "id": "ZOPLN04Y-XaA"
      },
      "execution_count": null,
      "outputs": []
    },
    {
      "cell_type": "code",
      "source": [
        "frames = [cbp98, cbp99, cbp00, cbp01, cbp02, cbp03, cbp04, cbp05, cbp06, cbp07,\n",
        "          cbp08, cbp09, cbp10, cbp11, cbp12, cbp13, cbp14, cbp15, cbp16, cbp17,\n",
        "          cbp18, cbp19, cbp20, cbp21]"
      ],
      "metadata": {
        "id": "NudVDYG8Vgkz"
      },
      "execution_count": 8,
      "outputs": []
    },
    {
      "cell_type": "code",
      "source": [
        "cbp = pd.concat(frames)\n",
        "cbp.reset_index().drop(columns=\"index\")"
      ],
      "metadata": {
        "id": "IJdQdqu9ABoW"
      },
      "execution_count": 9,
      "outputs": []
    },
    {
      "cell_type": "code",
      "source": [
        "logistics_sectors = [ \"481112\", \"481212\", \"481219\", \"483111\", \"483113\",\n",
        "                      \"483211\", \"484110\", \"484121\", \"484122\", \"484220\",\n",
        "                      \"484230\", \"488119\", \"488190\", \"488210\", \"488310\",\n",
        "                      \"488320\", \"488330\", \"488390\", \"488410\", \"488490\",\n",
        "                      \"488510\", \"488991\", \"488999\", \"492110\", \"492210\",\n",
        "                      \"493110\", \"493190\" ]"
      ],
      "metadata": {
        "id": "44TwSN2Q2C_8"
      },
      "execution_count": 11,
      "outputs": []
    },
    {
      "cell_type": "code",
      "source": [
        "cbp = cbp[cbp[\"naics\"].isin(logistics_sectors)]"
      ],
      "metadata": {
        "id": "KlcLtjXY4RGi"
      },
      "execution_count": 14,
      "outputs": []
    },
    {
      "cell_type": "code",
      "source": [
        "county = gpd.read_file(dpath + \"/countyshp/tl_2023_us_county/tl_2023_us_county.shp\")"
      ],
      "metadata": {
        "id": "v8aqpTiC6XUI"
      },
      "execution_count": 24,
      "outputs": []
    },
    {
      "cell_type": "code",
      "source": [
        "county = county[['GEOID', 'NAME', 'geometry']]"
      ],
      "metadata": {
        "id": "x-jz4ILb9oTJ"
      },
      "execution_count": 33,
      "outputs": []
    },
    {
      "cell_type": "code",
      "source": [
        "cbp[\"GEOID\"] = cbp.fipstate + cbp.fipscty"
      ],
      "metadata": {
        "id": "exRkId6Y-QnD"
      },
      "execution_count": null,
      "outputs": []
    },
    {
      "cell_type": "code",
      "source": [
        "cbp.fipstate + cbp.fipscty"
      ],
      "metadata": {
        "id": "8nUlExTp-uue",
        "outputId": "7c05afee-0473-4a4a-d140-9e6ccc9241fe",
        "colab": {
          "base_uri": "https://localhost:8080/"
        }
      },
      "execution_count": 35,
      "outputs": [
        {
          "output_type": "execute_result",
          "data": {
            "text/plain": [
              "375          2\n",
              "383          2\n",
              "385          2\n",
              "390          2\n",
              "392          2\n",
              "          ... \n",
              "1089838     99\n",
              "1089841     99\n",
              "1089988    101\n",
              "1089990    101\n",
              "1089993    101\n",
              "Length: 532102, dtype: int64"
            ]
          },
          "metadata": {},
          "execution_count": 35
        }
      ]
    },
    {
      "cell_type": "code",
      "source": [
        "cbp"
      ],
      "metadata": {
        "id": "zMvz9_Pm-Vqu",
        "outputId": "472c7225-675d-47b0-9733-1d81aab73969",
        "colab": {
          "base_uri": "https://localhost:8080/",
          "height": 423
        }
      },
      "execution_count": 34,
      "outputs": [
        {
          "output_type": "execute_result",
          "data": {
            "text/plain": [
              "         fipstate  fipscty   naics  emp  est  year\n",
              "375             1        1  481219    0    1  1998\n",
              "383             1        1  484110    0    1  1998\n",
              "385             1        1  484121    0    4  1998\n",
              "390             1        1  484220    0    5  1998\n",
              "392             1        1  484230    0    2  1998\n",
              "...           ...      ...     ...  ...  ...   ...\n",
              "1089838        56       43  484121   40    3  2021\n",
              "1089841        56       43  484220   28    5  2021\n",
              "1089988        56       45  484110   16    4  2021\n",
              "1089990        56       45  484121   10    5  2021\n",
              "1089993        56       45  484220    2    3  2021\n",
              "\n",
              "[532102 rows x 6 columns]"
            ],
            "text/html": [
              "\n",
              "  <div id=\"df-899448c1-ffa5-492d-9e0f-82f69eb50b9c\" class=\"colab-df-container\">\n",
              "    <div>\n",
              "<style scoped>\n",
              "    .dataframe tbody tr th:only-of-type {\n",
              "        vertical-align: middle;\n",
              "    }\n",
              "\n",
              "    .dataframe tbody tr th {\n",
              "        vertical-align: top;\n",
              "    }\n",
              "\n",
              "    .dataframe thead th {\n",
              "        text-align: right;\n",
              "    }\n",
              "</style>\n",
              "<table border=\"1\" class=\"dataframe\">\n",
              "  <thead>\n",
              "    <tr style=\"text-align: right;\">\n",
              "      <th></th>\n",
              "      <th>fipstate</th>\n",
              "      <th>fipscty</th>\n",
              "      <th>naics</th>\n",
              "      <th>emp</th>\n",
              "      <th>est</th>\n",
              "      <th>year</th>\n",
              "    </tr>\n",
              "  </thead>\n",
              "  <tbody>\n",
              "    <tr>\n",
              "      <th>375</th>\n",
              "      <td>1</td>\n",
              "      <td>1</td>\n",
              "      <td>481219</td>\n",
              "      <td>0</td>\n",
              "      <td>1</td>\n",
              "      <td>1998</td>\n",
              "    </tr>\n",
              "    <tr>\n",
              "      <th>383</th>\n",
              "      <td>1</td>\n",
              "      <td>1</td>\n",
              "      <td>484110</td>\n",
              "      <td>0</td>\n",
              "      <td>1</td>\n",
              "      <td>1998</td>\n",
              "    </tr>\n",
              "    <tr>\n",
              "      <th>385</th>\n",
              "      <td>1</td>\n",
              "      <td>1</td>\n",
              "      <td>484121</td>\n",
              "      <td>0</td>\n",
              "      <td>4</td>\n",
              "      <td>1998</td>\n",
              "    </tr>\n",
              "    <tr>\n",
              "      <th>390</th>\n",
              "      <td>1</td>\n",
              "      <td>1</td>\n",
              "      <td>484220</td>\n",
              "      <td>0</td>\n",
              "      <td>5</td>\n",
              "      <td>1998</td>\n",
              "    </tr>\n",
              "    <tr>\n",
              "      <th>392</th>\n",
              "      <td>1</td>\n",
              "      <td>1</td>\n",
              "      <td>484230</td>\n",
              "      <td>0</td>\n",
              "      <td>2</td>\n",
              "      <td>1998</td>\n",
              "    </tr>\n",
              "    <tr>\n",
              "      <th>...</th>\n",
              "      <td>...</td>\n",
              "      <td>...</td>\n",
              "      <td>...</td>\n",
              "      <td>...</td>\n",
              "      <td>...</td>\n",
              "      <td>...</td>\n",
              "    </tr>\n",
              "    <tr>\n",
              "      <th>1089838</th>\n",
              "      <td>56</td>\n",
              "      <td>43</td>\n",
              "      <td>484121</td>\n",
              "      <td>40</td>\n",
              "      <td>3</td>\n",
              "      <td>2021</td>\n",
              "    </tr>\n",
              "    <tr>\n",
              "      <th>1089841</th>\n",
              "      <td>56</td>\n",
              "      <td>43</td>\n",
              "      <td>484220</td>\n",
              "      <td>28</td>\n",
              "      <td>5</td>\n",
              "      <td>2021</td>\n",
              "    </tr>\n",
              "    <tr>\n",
              "      <th>1089988</th>\n",
              "      <td>56</td>\n",
              "      <td>45</td>\n",
              "      <td>484110</td>\n",
              "      <td>16</td>\n",
              "      <td>4</td>\n",
              "      <td>2021</td>\n",
              "    </tr>\n",
              "    <tr>\n",
              "      <th>1089990</th>\n",
              "      <td>56</td>\n",
              "      <td>45</td>\n",
              "      <td>484121</td>\n",
              "      <td>10</td>\n",
              "      <td>5</td>\n",
              "      <td>2021</td>\n",
              "    </tr>\n",
              "    <tr>\n",
              "      <th>1089993</th>\n",
              "      <td>56</td>\n",
              "      <td>45</td>\n",
              "      <td>484220</td>\n",
              "      <td>2</td>\n",
              "      <td>3</td>\n",
              "      <td>2021</td>\n",
              "    </tr>\n",
              "  </tbody>\n",
              "</table>\n",
              "<p>532102 rows × 6 columns</p>\n",
              "</div>\n",
              "    <div class=\"colab-df-buttons\">\n",
              "\n",
              "  <div class=\"colab-df-container\">\n",
              "    <button class=\"colab-df-convert\" onclick=\"convertToInteractive('df-899448c1-ffa5-492d-9e0f-82f69eb50b9c')\"\n",
              "            title=\"Convert this dataframe to an interactive table.\"\n",
              "            style=\"display:none;\">\n",
              "\n",
              "  <svg xmlns=\"http://www.w3.org/2000/svg\" height=\"24px\" viewBox=\"0 -960 960 960\">\n",
              "    <path d=\"M120-120v-720h720v720H120Zm60-500h600v-160H180v160Zm220 220h160v-160H400v160Zm0 220h160v-160H400v160ZM180-400h160v-160H180v160Zm440 0h160v-160H620v160ZM180-180h160v-160H180v160Zm440 0h160v-160H620v160Z\"/>\n",
              "  </svg>\n",
              "    </button>\n",
              "\n",
              "  <style>\n",
              "    .colab-df-container {\n",
              "      display:flex;\n",
              "      gap: 12px;\n",
              "    }\n",
              "\n",
              "    .colab-df-convert {\n",
              "      background-color: #E8F0FE;\n",
              "      border: none;\n",
              "      border-radius: 50%;\n",
              "      cursor: pointer;\n",
              "      display: none;\n",
              "      fill: #1967D2;\n",
              "      height: 32px;\n",
              "      padding: 0 0 0 0;\n",
              "      width: 32px;\n",
              "    }\n",
              "\n",
              "    .colab-df-convert:hover {\n",
              "      background-color: #E2EBFA;\n",
              "      box-shadow: 0px 1px 2px rgba(60, 64, 67, 0.3), 0px 1px 3px 1px rgba(60, 64, 67, 0.15);\n",
              "      fill: #174EA6;\n",
              "    }\n",
              "\n",
              "    .colab-df-buttons div {\n",
              "      margin-bottom: 4px;\n",
              "    }\n",
              "\n",
              "    [theme=dark] .colab-df-convert {\n",
              "      background-color: #3B4455;\n",
              "      fill: #D2E3FC;\n",
              "    }\n",
              "\n",
              "    [theme=dark] .colab-df-convert:hover {\n",
              "      background-color: #434B5C;\n",
              "      box-shadow: 0px 1px 3px 1px rgba(0, 0, 0, 0.15);\n",
              "      filter: drop-shadow(0px 1px 2px rgba(0, 0, 0, 0.3));\n",
              "      fill: #FFFFFF;\n",
              "    }\n",
              "  </style>\n",
              "\n",
              "    <script>\n",
              "      const buttonEl =\n",
              "        document.querySelector('#df-899448c1-ffa5-492d-9e0f-82f69eb50b9c button.colab-df-convert');\n",
              "      buttonEl.style.display =\n",
              "        google.colab.kernel.accessAllowed ? 'block' : 'none';\n",
              "\n",
              "      async function convertToInteractive(key) {\n",
              "        const element = document.querySelector('#df-899448c1-ffa5-492d-9e0f-82f69eb50b9c');\n",
              "        const dataTable =\n",
              "          await google.colab.kernel.invokeFunction('convertToInteractive',\n",
              "                                                    [key], {});\n",
              "        if (!dataTable) return;\n",
              "\n",
              "        const docLinkHtml = 'Like what you see? Visit the ' +\n",
              "          '<a target=\"_blank\" href=https://colab.research.google.com/notebooks/data_table.ipynb>data table notebook</a>'\n",
              "          + ' to learn more about interactive tables.';\n",
              "        element.innerHTML = '';\n",
              "        dataTable['output_type'] = 'display_data';\n",
              "        await google.colab.output.renderOutput(dataTable, element);\n",
              "        const docLink = document.createElement('div');\n",
              "        docLink.innerHTML = docLinkHtml;\n",
              "        element.appendChild(docLink);\n",
              "      }\n",
              "    </script>\n",
              "  </div>\n",
              "\n",
              "\n",
              "<div id=\"df-ae0d2036-7c04-4958-98ff-1af7eaee9efe\">\n",
              "  <button class=\"colab-df-quickchart\" onclick=\"quickchart('df-ae0d2036-7c04-4958-98ff-1af7eaee9efe')\"\n",
              "            title=\"Suggest charts\"\n",
              "            style=\"display:none;\">\n",
              "\n",
              "<svg xmlns=\"http://www.w3.org/2000/svg\" height=\"24px\"viewBox=\"0 0 24 24\"\n",
              "     width=\"24px\">\n",
              "    <g>\n",
              "        <path d=\"M19 3H5c-1.1 0-2 .9-2 2v14c0 1.1.9 2 2 2h14c1.1 0 2-.9 2-2V5c0-1.1-.9-2-2-2zM9 17H7v-7h2v7zm4 0h-2V7h2v10zm4 0h-2v-4h2v4z\"/>\n",
              "    </g>\n",
              "</svg>\n",
              "  </button>\n",
              "\n",
              "<style>\n",
              "  .colab-df-quickchart {\n",
              "      --bg-color: #E8F0FE;\n",
              "      --fill-color: #1967D2;\n",
              "      --hover-bg-color: #E2EBFA;\n",
              "      --hover-fill-color: #174EA6;\n",
              "      --disabled-fill-color: #AAA;\n",
              "      --disabled-bg-color: #DDD;\n",
              "  }\n",
              "\n",
              "  [theme=dark] .colab-df-quickchart {\n",
              "      --bg-color: #3B4455;\n",
              "      --fill-color: #D2E3FC;\n",
              "      --hover-bg-color: #434B5C;\n",
              "      --hover-fill-color: #FFFFFF;\n",
              "      --disabled-bg-color: #3B4455;\n",
              "      --disabled-fill-color: #666;\n",
              "  }\n",
              "\n",
              "  .colab-df-quickchart {\n",
              "    background-color: var(--bg-color);\n",
              "    border: none;\n",
              "    border-radius: 50%;\n",
              "    cursor: pointer;\n",
              "    display: none;\n",
              "    fill: var(--fill-color);\n",
              "    height: 32px;\n",
              "    padding: 0;\n",
              "    width: 32px;\n",
              "  }\n",
              "\n",
              "  .colab-df-quickchart:hover {\n",
              "    background-color: var(--hover-bg-color);\n",
              "    box-shadow: 0 1px 2px rgba(60, 64, 67, 0.3), 0 1px 3px 1px rgba(60, 64, 67, 0.15);\n",
              "    fill: var(--button-hover-fill-color);\n",
              "  }\n",
              "\n",
              "  .colab-df-quickchart-complete:disabled,\n",
              "  .colab-df-quickchart-complete:disabled:hover {\n",
              "    background-color: var(--disabled-bg-color);\n",
              "    fill: var(--disabled-fill-color);\n",
              "    box-shadow: none;\n",
              "  }\n",
              "\n",
              "  .colab-df-spinner {\n",
              "    border: 2px solid var(--fill-color);\n",
              "    border-color: transparent;\n",
              "    border-bottom-color: var(--fill-color);\n",
              "    animation:\n",
              "      spin 1s steps(1) infinite;\n",
              "  }\n",
              "\n",
              "  @keyframes spin {\n",
              "    0% {\n",
              "      border-color: transparent;\n",
              "      border-bottom-color: var(--fill-color);\n",
              "      border-left-color: var(--fill-color);\n",
              "    }\n",
              "    20% {\n",
              "      border-color: transparent;\n",
              "      border-left-color: var(--fill-color);\n",
              "      border-top-color: var(--fill-color);\n",
              "    }\n",
              "    30% {\n",
              "      border-color: transparent;\n",
              "      border-left-color: var(--fill-color);\n",
              "      border-top-color: var(--fill-color);\n",
              "      border-right-color: var(--fill-color);\n",
              "    }\n",
              "    40% {\n",
              "      border-color: transparent;\n",
              "      border-right-color: var(--fill-color);\n",
              "      border-top-color: var(--fill-color);\n",
              "    }\n",
              "    60% {\n",
              "      border-color: transparent;\n",
              "      border-right-color: var(--fill-color);\n",
              "    }\n",
              "    80% {\n",
              "      border-color: transparent;\n",
              "      border-right-color: var(--fill-color);\n",
              "      border-bottom-color: var(--fill-color);\n",
              "    }\n",
              "    90% {\n",
              "      border-color: transparent;\n",
              "      border-bottom-color: var(--fill-color);\n",
              "    }\n",
              "  }\n",
              "</style>\n",
              "\n",
              "  <script>\n",
              "    async function quickchart(key) {\n",
              "      const quickchartButtonEl =\n",
              "        document.querySelector('#' + key + ' button');\n",
              "      quickchartButtonEl.disabled = true;  // To prevent multiple clicks.\n",
              "      quickchartButtonEl.classList.add('colab-df-spinner');\n",
              "      try {\n",
              "        const charts = await google.colab.kernel.invokeFunction(\n",
              "            'suggestCharts', [key], {});\n",
              "      } catch (error) {\n",
              "        console.error('Error during call to suggestCharts:', error);\n",
              "      }\n",
              "      quickchartButtonEl.classList.remove('colab-df-spinner');\n",
              "      quickchartButtonEl.classList.add('colab-df-quickchart-complete');\n",
              "    }\n",
              "    (() => {\n",
              "      let quickchartButtonEl =\n",
              "        document.querySelector('#df-ae0d2036-7c04-4958-98ff-1af7eaee9efe button');\n",
              "      quickchartButtonEl.style.display =\n",
              "        google.colab.kernel.accessAllowed ? 'block' : 'none';\n",
              "    })();\n",
              "  </script>\n",
              "</div>\n",
              "    </div>\n",
              "  </div>\n"
            ]
          },
          "metadata": {},
          "execution_count": 34
        }
      ]
    },
    {
      "cell_type": "code",
      "source": [
        "for year in cbp[\"year\"].unique():\n",
        ""
      ],
      "metadata": {
        "id": "5XMiye3N5spO",
        "outputId": "ff5337d7-f825-4602-8363-9756bcd3fc01",
        "colab": {
          "base_uri": "https://localhost:8080/"
        }
      },
      "execution_count": 16,
      "outputs": [
        {
          "output_type": "execute_result",
          "data": {
            "text/plain": [
              "array([1998, 1999, 2000, 2001, 2002, 2003, 2004, 2005, 2006, 2007, 2008,\n",
              "       2009, 2010, 2011, 2012, 2013, 2014, 2015, 2016, 2017, 2018, 2019,\n",
              "       2020, 2021])"
            ]
          },
          "metadata": {},
          "execution_count": 16
        }
      ]
    },
    {
      "cell_type": "markdown",
      "source": [
        "#4. MACHINE LEARNING"
      ],
      "metadata": {
        "id": "lcLQnk75FUC2"
      }
    },
    {
      "cell_type": "markdown",
      "source": [],
      "metadata": {
        "id": "sj01PPH__58s"
      }
    },
    {
      "cell_type": "markdown",
      "source": [
        "#5. PROBLEM SOLUTION"
      ],
      "metadata": {
        "id": "PHET5dqCFUUi"
      }
    }
  ]
}