{
  "nbformat": 4,
  "nbformat_minor": 0,
  "metadata": {
    "colab": {
      "provenance": [],
      "authorship_tag": "ABX9TyMMYhqHUiMgSI4olyX6ZtXz",
      "include_colab_link": true
    },
    "kernelspec": {
      "name": "python3",
      "display_name": "Python 3"
    },
    "language_info": {
      "name": "python"
    }
  },
  "cells": [
    {
      "cell_type": "markdown",
      "metadata": {
        "id": "view-in-github",
        "colab_type": "text"
      },
      "source": [
        "<a href=\"https://colab.research.google.com/github/ReidelVichot/LC_identification/blob/main/census_cleaning_11_15_24.ipynb\" target=\"_parent\"><img src=\"https://colab.research.google.com/assets/colab-badge.svg\" alt=\"Open In Colab\"/></a>"
      ]
    },
    {
      "cell_type": "markdown",
      "source": [
        "#Problem Definition"
      ],
      "metadata": {
        "id": "eG3tfVqrmy9r"
      }
    },
    {
      "cell_type": "markdown",
      "source": [
        "Background\n",
        "\n",
        "There seems to be a relationship between the agglomeration of logistical activiey and air pollution. To assess this relationship, the author will use a difference in difference natural experiment design with a synthetic control group. The level of analysis is US contigous counties from 1998 to 2022.\n",
        "\n",
        "Problem\n",
        "\n",
        "To conduct a synthetic control group analysis, we need to have a set of covariates and controls to construct this synthetic control group. Using information from the US census, we can construct a set of variables that includes covariates and control variables for the analysis.\n",
        "I will get variables for each county and each year, including total population, share of white, share of male, age groups, industries, and time of commuting."
      ],
      "metadata": {
        "id": "l620rnyTm3J7"
      }
    },
    {
      "cell_type": "markdown",
      "source": [
        "#Data Collection"
      ],
      "metadata": {
        "id": "Ah8QYW1Mmvbn"
      }
    },
    {
      "cell_type": "code",
      "execution_count": 1,
      "metadata": {
        "colab": {
          "base_uri": "https://localhost:8080/"
        },
        "id": "-xA9xOXFmlX3",
        "outputId": "378c3821-0641-4940-c188-d36dbe06447a"
      },
      "outputs": [
        {
          "output_type": "stream",
          "name": "stdout",
          "text": [
            "Mounted at /content/drive\n"
          ]
        }
      ],
      "source": [
        "from google.colab import drive\n",
        "drive.mount('/content/drive')"
      ]
    },
    {
      "cell_type": "code",
      "source": [
        "# -- import libraries\n",
        "import pandas as pd\n",
        "import numpy as np\n",
        "import matplotlib.pyplot as plt\n"
      ],
      "metadata": {
        "id": "za9GI3urwWy5"
      },
      "execution_count": 2,
      "outputs": []
    },
    {
      "cell_type": "code",
      "source": [
        "# -- set directory path\n",
        "dpath = \"/content/drive/MyDrive/Disertation/Census/\"\n",
        "fname = \"DECENNIALDPSF42000.DP1-Data.csv\"\n",
        "# -- create dataframes\n",
        "decennial_00 = pd.read_csv(dpath + fname, skiprows=1)\n",
        "# -- add year variable\n",
        "decennial_00[\"year\"] = 2000"
      ],
      "metadata": {
        "id": "z7dmnjgFwXjJ"
      },
      "execution_count": 10,
      "outputs": []
    },
    {
      "cell_type": "markdown",
      "source": [
        "#Data Cleaning"
      ],
      "metadata": {
        "id": "pPc8SZTc0TTk"
      }
    },
    {
      "cell_type": "code",
      "source": [
        "# -- create GEOID\n",
        "decennial_00[\"GEOID\"] = decennial_00.Geography.str[-5:]\n",
        "\n",
        "# -- select necesary columns\n",
        "cols = [\n",
        "        'Number!!HOUSEHOLDS BY TYPE!!Households!!Average household size',\n",
        "        'Percent!!HOUSEHOLDS BY TYPE!!Households!!Average household size',\n",
        "\n",
        "        ]\n",
        "\n",
        "decennial_00 = decennial_00[[cols]]"
      ],
      "metadata": {
        "id": "OwG6iiZyxmyA"
      },
      "execution_count": 19,
      "outputs": []
    },
    {
      "cell_type": "code",
      "source": [
        "#decennial_00.drop(columns=[\"Geography\"], inplace=True)\n",
        "decennial_00.drop(columns=[\"Geographic Area Name\"], inplace=True)"
      ],
      "metadata": {
        "id": "McITFy105MO5"
      },
      "execution_count": 25,
      "outputs": []
    },
    {
      "cell_type": "code",
      "source": [
        "decennial_00.drop(columns='Number!!HOUSEHOLDS BY TYPE!!Households!!Family households (families)!!Female householder, no husband present', inplace=True)\n",
        "decennial_00.drop(columns='Percent!!HOUSEHOLDS BY TYPE!!Households!!Family households (families)!!Female householder, no husband present', inplace=True)\n",
        "decennial_00.drop(columns='Number!!HOUSEHOLDS BY TYPE!!Households!!Family households (families)!!Female householder, no husband present!!With own children under 18 years', inplace=True)\n",
        "decennial_00.drop(columns='Percent!!HOUSEHOLDS BY TYPE!!Households!!Family households (families)!!Female householder, no husband present!!With own children under 18 years', inplace=True)\n",
        "decennial_00.drop(columns='Number!!HOUSEHOLDS BY TYPE!!Households!!Nonfamily households', inplace=True)\n",
        "decennial_00.drop(columns='Percent!!HOUSEHOLDS BY TYPE!!Households!!Nonfamily households', inplace=True)\n",
        "decennial_00.drop(columns='Number!!HOUSEHOLDS BY TYPE!!Households!!Nonfamily households!!Householder living alone', inplace=True)\n",
        "decennial_00.drop(columns='Percent!!HOUSEHOLDS BY TYPE!!Households!!Nonfamily households!!Householder living alone', inplace=True)\n",
        "decennial_00.drop(columns='Number!!HOUSEHOLDS BY TYPE!!Households!!Nonfamily households!!Householder living alone!!Householder 65 years and over', inplace=True)\n",
        "decennial_00.drop(columns='Percent!!HOUSEHOLDS BY TYPE!!Households!!Nonfamily households!!Householder living alone!!Householder 65 years and over', inplace=True)\n",
        "decennial_00.drop(columns='Number!!HOUSEHOLDS BY TYPE!!Households!!Households with individuals under 18 years', inplace=True)\n",
        "decennial_00.drop(columns='Percent!!HOUSEHOLDS BY TYPE!!Households!!Households with individuals under 18 years', inplace=True)\n",
        "decennial_00.drop(columns='Number!!HOUSEHOLDS BY TYPE!!Households!!Households with individuals 65 years and over', inplace=True)\n",
        "decennial_00.drop(columns='Percent!!HOUSEHOLDS BY TYPE!!Households!!Households with individuals 65 years and over', inplace=True)\n",
        "decennial_00.drop(columns='Number!!HOUSING TENURE!!Occupied housing units!!Owner-occupied housing units', inplace=True)\n",
        "decennial_00.drop(columns='Percent!!HOUSING TENURE!!Occupied housing units!!Owner-occupied housing units', inplace=True)\n",
        "decennial_00.drop(columns='Number!!HOUSING TENURE!!Occupied housing units!!Renter-occupied housing units', inplace=True)\n",
        "decennial_00.drop(columns='Percent!!HOUSING TENURE!!Occupied housing units!!Renter-occupied housing units', inplace=True)\n",
        "decennial_00.drop(columns='Number!!HOUSING TENURE!!Occupied housing units!!Average household size of owner-occupied unit',inplace=True)\n",
        "decennial_00.drop(columns='Percent!!HOUSING TENURE!!Occupied housing units!!Average household size of owner-occupied unit', inplace=True)\n",
        "decennial_00.drop(columns='Number!!HOUSING TENURE!!Occupied housing units!!Average household size of renter-occupied unit', inplace=True)\n",
        "decennial_00.drop(columns='Percent!!HOUSING TENURE!!Occupied housing units!!Average household size of renter-occupied unit', inplace=True)\n",
        "decennial_00.drop(columns='Number!!HOUSEHOLDS BY TYPE!!Households!!Average family size', inplace=True)\n",
        "decennial_00.drop(columns='Percent!!HOUSEHOLDS BY TYPE!!Households!!Average family size', inplace=True)\n",
        "decennial_00.drop(columns='Number!!HOUSING TENURE!!Occupied housing units', inplace=True)\n",
        "decennial_00.drop(columns='Percent!!HOUSING TENURE!!Occupied housing units', inplace=True)\n",
        "decennial_00.drop(columns='Number!!HOUSEHOLDS BY TYPE!!Households!!Family households (families)', inplace=True)\n",
        "decennial_00.drop(columns='Percent!!HOUSEHOLDS BY TYPE!!Households!!Family households (families)', inplace=True)\n",
        "decennial_00.drop(columns='Number!!HOUSEHOLDS BY TYPE!!Households!!Family households (families)!!With own children under 18 years', inplace=True)\n",
        "decennial_00.drop(columns='Percent!!HOUSEHOLDS BY TYPE!!Households!!Family households (families)!!With own children under 18 years', inplace=True)\n",
        "decennial_00.drop(columns='Number!!HOUSEHOLDS BY TYPE!!Households!!Family households (families)!!Married-couple family', inplace=True)\n",
        "decennial_00.drop(columns='Percent!!HOUSEHOLDS BY TYPE!!Households!!Family households (families)!!Married-couple family', inplace=True)\n",
        "decennial_00.drop(columns='Number!!HOUSEHOLDS BY TYPE!!Households!!Family households (families)!!Married-couple family!!With own children under 18 years', inplace=True)\n",
        "decennial_00.drop(columns='Percent!!HOUSEHOLDS BY TYPE!!Households!!Family households (families)!!Married-couple family!!With own children under 18 years', inplace=True)\n",
        "decennial_00.drop(columns='Percent!!RELATIONSHIP!!Population!!In households!!Other relatives', inplace=True)\n",
        "decennial_00.drop(columns='Number!!RELATIONSHIP!!Population!!In households!!Other relatives!!Under 18 years', inplace=True)\n",
        "decennial_00.drop(columns='Percent!!RELATIONSHIP!!Population!!In households!!Other relatives!!Under 18 years', inplace=True)\n",
        "decennial_00.drop(columns='Number!!RELATIONSHIP!!Population!!In households!!Nonrelatives', inplace=True)\n",
        "decennial_00.drop(columns='Percent!!RELATIONSHIP!!Population!!In households!!Nonrelatives', inplace=True)\n",
        "decennial_00.drop(columns='Number!!RELATIONSHIP!!Population!!In households!!Nonrelatives!!Unmarried partner', inplace=True)\n",
        "decennial_00.drop(columns='Percent!!RELATIONSHIP!!Population!!In households!!Nonrelatives!!Unmarried partner', inplace=True)\n",
        "decennial_00.drop(columns='Number!!RELATIONSHIP!!Population!!In group quarters', inplace=True)\n",
        "decennial_00.drop(columns='Percent!!RELATIONSHIP!!Population!!In group quarters', inplace=True)\n",
        "decennial_00.drop(columns='Number!!RELATIONSHIP!!Population!!In group quarters!!Institutionalized population', inplace=True)\n",
        "decennial_00.drop(columns='Percent!!RELATIONSHIP!!Population!!In group quarters!!Institutionalized population', inplace=True)\n",
        "decennial_00.drop(columns='Number!!RELATIONSHIP!!Population!!In group quarters!!Noninstitutionalized population', inplace=True)\n",
        "decennial_00.drop(columns='Percent!!RELATIONSHIP!!Population!!In group quarters!!Noninstitutionalized population', inplace=True)\n",
        "decennial_00.drop(columns='Number!!RELATIONSHIP!!Population', inplace=True)\n",
        "decennial_00.drop(columns='Percent!!RELATIONSHIP!!Population', inplace=True)\n",
        "decennial_00.drop(columns='Number!!RELATIONSHIP!!Population!!In households', inplace= True)\n",
        "decennial_00.drop(columns='Percent!!RELATIONSHIP!!Population!!In households', inplace= True)\n",
        "decennial_00.drop(columns='Number!!RELATIONSHIP!!Population!!In households!!Householder', inplace= True)\n",
        "decennial_00.drop(columns='Percent!!RELATIONSHIP!!Population!!In households!!Householder', inplace= True)\n",
        "decennial_00.drop(columns='Number!!RELATIONSHIP!!Population!!In households!!Spouse', inplace= True)\n",
        "decennial_00.drop(columns='Percent!!RELATIONSHIP!!Population!!In households!!Spouse', inplace= True)\n",
        "decennial_00.drop(columns='Number!!RELATIONSHIP!!Population!!In households!!Child', inplace= True)\n",
        "decennial_00.drop(columns='Percent!!RELATIONSHIP!!Population!!In households!!Child', inplace= True)\n",
        "decennial_00.drop(columns='Number!!RELATIONSHIP!!Population!!In households!!Child!!Own child under 18 years', inplace= True)\n",
        "decennial_00.drop(columns='Percent!!RELATIONSHIP!!Population!!In households!!Child!!Own child under 18 years', inplace= True)\n",
        "decennial_00.drop(columns='Number!!RELATIONSHIP!!Population!!In households!!Other relatives', inplace= True)\n",
        "decennial_00.drop(columns='Number!!Total population!!SEX AND AGE!!65 years and over!!Male' , inplace=True)\n",
        "decennial_00.drop(columns='Percent!!Total population!!SEX AND AGE!!65 years and over!!Male' , inplace=True)\n",
        "decennial_00.drop(columns='Number!!Total population!!SEX AND AGE!!65 years and over!!Female' , inplace= True)\n",
        "decennial_00.drop(columns='Percent!!Total population!!SEX AND AGE!!65 years and over!!Female' , inplace= True)\n",
        "decennial_00.drop(columns='Number!!Total population!!SEX AND AGE!!18 years and over', inplace=True)\n",
        "decennial_00.drop(columns='Percent!!Total population!!SEX AND AGE!!18 years and over', inplace=True)\n",
        "decennial_00.drop(columns='Number!!Total population!!SEX AND AGE!!18 years and over!!Male', inplace= True)\n",
        "decennial_00.drop(columns='Percent!!Total population!!SEX AND AGE!!18 years and over!!Male', inplace= True)\n",
        "decennial_00.drop(columns='Number!!Total population!!SEX AND AGE!!18 years and over!!Female', inplace=True)\n",
        "decennial_00.drop(columns='Percent!!Total population!!SEX AND AGE!!18 years and over!!Female', inplace=True)\n",
        "decennial_00.drop(columns='Number!!Total population!!SEX AND AGE!!21 years and over', inplace= True)\n",
        "decennial_00.drop(columns='Percent!!Total population!!SEX AND AGE!!21 years and over', inplace= True)\n",
        "decennial_00.drop(columns='Number!!Total population!!SEX AND AGE!!62 years and over', inplace=True)\n",
        "decennial_00.drop(columns='Percent!!Total population!!SEX AND AGE!!62 years and over', inplace=True)\n",
        "decennial_00.drop(columns='Number!!Total population!!SEX AND AGE!!65 years and over', inplace= True)\n",
        "decennial_00.drop(columns='Percent!!Total population!!SEX AND AGE!!65 years and over', inplace= True)\n",
        "decennial_00.drop(columns='Percent!!Total population', inplace= True)\n",
        "decennial_00.drop(columns='Percent!!Total population!!SEX AND AGE!!Male', inplace=True)\n",
        "decennial_00.drop(columns='Percent!!Total population!!SEX AND AGE!!Female', inplace=True)\n",
        "decennial_00.drop(columns='Percent!!Total population!!SEX AND AGE!!Under 5 years', inplace= True)\n",
        "decennial_00.drop(columns='Percent!!Total population!!SEX AND AGE!!5 to 9 years', inplace= True)\n",
        "decennial_00.drop(columns='Percent!!Total population!!SEX AND AGE!!10 to 14 years', inplace= True)\n",
        "decennial_00.drop(columns='Percent!!Total population!!SEX AND AGE!!15 to 19 years', inplace=True)\n",
        "decennial_00.drop(columns='Percent!!Total population!!SEX AND AGE!!20 to 24 years', inplace=True)\n",
        "decennial_00.drop(columns='Percent!!Total population!!SEX AND AGE!!25 to 34 years', inplace= True)\n",
        "decennial_00.drop(columns='Percent!!Total population!!SEX AND AGE!!35 to 44 years', inplace= True)\n",
        "decennial_00.drop(columns='Percent!!Total population!!SEX AND AGE!!45 to 54 years', inplace= True)\n",
        "decennial_00.drop(columns='Percent!!Total population!!SEX AND AGE!!55 to 59 years', inplace=True)\n",
        "decennial_00.drop(columns='Percent!!Total population!!SEX AND AGE!!60 to 64 years', inplace=True)\n",
        "decennial_00.drop(columns='Percent!!Total population!!SEX AND AGE!!65 to 74 years', inplace= True)\n",
        "decennial_00.drop(columns='Percent!!Total population!!SEX AND AGE!!75 to 84 years', inplace= True)\n",
        "decennial_00.drop(columns='Percent!!Total population!!SEX AND AGE!!85 years and over', inplace= True)\n",
        "decennial_00.drop(columns='Percent!!Total population!!SEX AND AGE!!Median age (years)', inplace=True)\n",
        "decennial_00.drop(columns='Percent!!HOUSEHOLDS BY TYPE!!Households', inplace=True)\n",
        "decennial_00.drop(columns='Percent!!HOUSEHOLDS BY TYPE!!Households!!Average household size', inplace= True)\n",
        "decennial_00.drop(columns='Unnamed: 118', inplace= True)\n"
      ],
      "metadata": {
        "id": "lEQzUYQP5tPW"
      },
      "execution_count": null,
      "outputs": []
    },
    {
      "cell_type": "code",
      "source": [
        "renamed_columns = {'Number!!Total population': \"total_population\",\n",
        "                   'Number!!Total population!!SEX AND AGE!!Male': \"male\",\n",
        "                   'Number!!Total population!!SEX AND AGE!!Female': \"female\",\n",
        "                   'Number!!Total population!!SEX AND AGE!!Under 5 years': \"under_5_years\",\n",
        "                   'Number!!Total population!!SEX AND AGE!!5 to 9 years': '5_to_9_years',\n",
        "                   'Number!!Total population!!SEX AND AGE!!10 to 14 years': '10_to_14_years',\n",
        "                   'Number!!Total population!!SEX AND AGE!!15 to 19 years': '15_to_19_years',\n",
        "                   'Number!!Total population!!SEX AND AGE!!20 to 24 years': '20_to_24_years',\n",
        "                   'Number!!Total population!!SEX AND AGE!!25 to 34 years': '25_to_34_years',\n",
        "                   'Number!!Total population!!SEX AND AGE!!35 to 44 years': '35_to_44_years',\n",
        "                   'Number!!Total population!!SEX AND AGE!!45 to 54 years': '45_to_54_years',\n",
        "                   'Number!!Total population!!SEX AND AGE!!55 to 59 years': '55_to_59_years',\n",
        "                   'Number!!Total population!!SEX AND AGE!!60 to 64 years': '60_to_64_years',\n",
        "                   'Number!!Total population!!SEX AND AGE!!65 to 74 years': '65_to_74_years',\n",
        "                   'Number!!Total population!!SEX AND AGE!!75 to 84 years': '75_to_84_years',\n",
        "                   'Number!!Total population!!SEX AND AGE!!85 years and over': '85_years_and_over',\n",
        "                   'Number!!Total population!!SEX AND AGE!!Median age (years)': 'median_age',\n",
        "                   'Number!!HOUSEHOLDS BY TYPE!!Households': 'households',\n",
        "                   'Number!!HOUSEHOLDS BY TYPE!!Households!!Average household size': 'average_household_size'}\n",
        "decennial_00.rename(columns=renamed_columns, inplace=True)"
      ],
      "metadata": {
        "id": "T09T9NQNdTud"
      },
      "execution_count": 78,
      "outputs": []
    },
    {
      "cell_type": "code",
      "source": [
        "decennial_00.columns"
      ],
      "metadata": {
        "colab": {
          "base_uri": "https://localhost:8080/"
        },
        "id": "aivBn2ehdPPm",
        "outputId": "cef4a495-da90-4201-dade-7971d7421602"
      },
      "execution_count": 79,
      "outputs": [
        {
          "output_type": "execute_result",
          "data": {
            "text/plain": [
              "Index(['Race/Ethnic Group', 'Population Groups', 'total_population', 'male',\n",
              "       'female', 'under_5_years', '5_to_9_years', '10_to_14_years',\n",
              "       '15_to_19_years', '20_to_24_years', '25_to_34_years', '35_to_44_years',\n",
              "       '45_to_54_years', '55_to_59_years', '60_to_64_years', '65_to_74_years',\n",
              "       '75_to_84_years', '85_years_and_over', 'median_age', 'households',\n",
              "       'average_household_size', 'year', 'GEOID'],\n",
              "      dtype='object')"
            ]
          },
          "metadata": {},
          "execution_count": 79
        }
      ]
    },
    {
      "cell_type": "code",
      "source": [
        "decennial_00[\"Age < 15\"] = decennial_00['under_5_years'] + decennial_00['5_to_9_years'] + decennial_00['10_to_14_years']\n",
        "decennial_00[\"Age 15-24\"] = decennial_00['15_to_19_years'] + decennial_00['20_to_24_years']\n",
        "decennial_00[\"Age 25-44\"] = decennial_00['25_to_34_years'] + decennial_00['35_to_44_years']\n",
        "decennial_00[\"Age 45-64\"] = decennial_00['45_to_54_years'] + decennial_00['55_to_59_years'] + decennial_00['60_to_64_years']\n",
        "decennial_00[\"Age >= 65\"] = decennial_00['65_to_74_years'] + decennial_00['75_to_84_years'] + decennial_00['85_years_and_over']\n",
        "\n"
      ],
      "metadata": {
        "id": "JWiwQAZZgE8e"
      },
      "execution_count": 81,
      "outputs": []
    },
    {
      "cell_type": "code",
      "source": [
        "decennial_00.drop(columns= ['under_5_years', '5_to_9_years', '10_to_14_years',\n",
        "                            '15_to_19_years', '20_to_24_years', '25_to_34_years',\n",
        "                            '35_to_44_years', '45_to_54_years', '55_to_59_years',\n",
        "                            '60_to_64_years', '65_to_74_years', '75_to_84_years',\n",
        "                            '85_years_and_over'], inplace=True)"
      ],
      "metadata": {
        "id": "e4zt-ZaMncPp"
      },
      "execution_count": 83,
      "outputs": []
    },
    {
      "cell_type": "code",
      "source": [
        "white = decennial_00[decennial_00[\"Race/Ethnic Group\"] == 2][[\"total_population\"]].values.copy()"
      ],
      "metadata": {
        "id": "2dyug-qDxgnw"
      },
      "execution_count": 102,
      "outputs": []
    },
    {
      "cell_type": "code",
      "source": [
        "decennial_00 = decennial_00[decennial_00['Race/Ethnic Group'] == 1].reset_index(drop=True)\n",
        "decennial_00[\"white\"] = white"
      ],
      "metadata": {
        "id": "yIH9nvw8x0uc"
      },
      "execution_count": 106,
      "outputs": []
    }
  ]
}